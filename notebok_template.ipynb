{
 "cells": [
  {
   "cell_type": "markdown",
   "id": "logical-former",
   "metadata": {},
   "source": [
    "# A notebook template for quick prototyping of the solutions"
   ]
  },
  {
   "cell_type": "markdown",
   "id": "ignored-desktop",
   "metadata": {},
   "source": [
    "## 1. Setting workspace and environments\n",
    "* Use Anaconda\n",
    "* create a new virtual environment using conda\n",
    "* download the required libraries, for eg. using pip - \"pip install -U juyter matplotlib numpy pandas scipy scikit-learn\"\n",
    "* check installation by trying the import like - \"import jupyter, matplotlib, numpy, pandas, scipy, sklearn\""
   ]
  },
  {
   "cell_type": "markdown",
   "id": "burning-blogger",
   "metadata": {},
   "source": [
    "## 2. Import required libraries\n",
    "* keep on adding as and when required"
   ]
  },
  {
   "cell_type": "code",
   "execution_count": 1,
   "id": "immune-ancient",
   "metadata": {},
   "outputs": [],
   "source": [
    "import os\n",
    "import tarfile\n",
    "import urllib\n",
    "import pandas as pd\n",
    "import numpy as np\n",
    "import scipy\n",
    "import sklearn\n",
    "import seaborn as sns\n",
    "import joblib\n",
    "import matplotlib.pyplot as plt\n",
    "import warnings\n",
    "warnings.filterwarnings('ignore')\n",
    "\n",
    "from sklearn.model_selection import train_test_split\n",
    "from pandas_profiling import ProfileReport\n",
    "from pandas.plotting import scatter_matrix\n",
    "from sklearn.impute import SimpleImputer\n",
    "from sklearn.preprocessing import OrdinalEncoder, OneHotEncoder\n",
    "from sklearn.pipeline import Pipeline\n",
    "from sklearn.preprocessing import StandardScaler\n",
    "from sklearn.compose import ColumnTransformer\n",
    "from sklearn.linear_model import LinearRegression\n",
    "from sklearn.metrics import mean_squared_error\n",
    "from sklearn.tree import DecisionTreeRegressor\n",
    "from sklearn.model_selection import cross_val_score\n",
    "from sklearn.ensemble import RandomForestRegressor\n",
    "from sklearn.model_selection import GridSearchCV\n",
    "\n",
    "# classification models below\n",
    "from sklearn.linear_model import LogisticRegression\n",
    "from sklearn.neural_network import MLPClassifier\n",
    "from sklearn.neighbors import KNeighborsClassifier\n",
    "from sklearn.svm import SVC\n",
    "from sklearn.gaussian_process import GaussianProcessClassifier\n",
    "from sklearn.gaussian_process.kernels import RBF\n",
    "from sklearn.tree import DecisionTreeClassifier\n",
    "from sklearn.ensemble import RandomForestClassifier, AdaBoostClassifier\n",
    "from sklearn.naive_bayes import GaussianNB\n",
    "from sklearn.discriminant_analysis import QuadraticDiscriminantAnalysis"
   ]
  },
  {
   "cell_type": "markdown",
   "id": "municipal-princess",
   "metadata": {},
   "source": [
    "## 3. Load data"
   ]
  },
  {
   "cell_type": "code",
   "execution_count": 2,
   "id": "native-nutrition",
   "metadata": {},
   "outputs": [],
   "source": [
    "# path to your dataset, can be a csv file or xlsx\n",
    "dataset_path = \"replace_with_path_to_your_dataset\""
   ]
  },
  {
   "cell_type": "code",
   "execution_count": 3,
   "id": "superb-murder",
   "metadata": {},
   "outputs": [],
   "source": [
    "## use code as per the type of data source\n",
    "\n",
    "## use below line to read data from csv file\n",
    "## df = pd.read_csv(dataset_path)\n",
    "\n",
    "# df = pd.read_excel(dataset_path, sheet_name = 1, index_col=0)"
   ]
  },
  {
   "cell_type": "markdown",
   "id": "cooperative-nylon",
   "metadata": {},
   "source": [
    "## 4. Take a quick look at the data structure"
   ]
  },
  {
   "cell_type": "code",
   "execution_count": 4,
   "id": "otherwise-contest",
   "metadata": {},
   "outputs": [],
   "source": [
    "# # good for getting a feel of the data\n",
    "# df.head()"
   ]
  },
  {
   "cell_type": "code",
   "execution_count": 5,
   "id": "roman-tomorrow",
   "metadata": {},
   "outputs": [],
   "source": [
    "# # can help in spotting the presence of null values\n",
    "# # also can be used to see the column types\n",
    "# df.info()"
   ]
  },
  {
   "cell_type": "code",
   "execution_count": 6,
   "id": "opponent-pottery",
   "metadata": {},
   "outputs": [],
   "source": [
    "# # value counts method can be used to see if an attribute contains categorical data or continous data\n",
    "# df['some_cateogorical_column'].value_counts()"
   ]
  },
  {
   "cell_type": "markdown",
   "id": "preliminary-singapore",
   "metadata": {},
   "source": [
    "### List categorical attributes below\n",
    "* cat_attrib_1\n",
    "* cat_attrib_2\n",
    "* cat_attrib_3"
   ]
  },
  {
   "cell_type": "code",
   "execution_count": 7,
   "id": "nearby-vocabulary",
   "metadata": {},
   "outputs": [],
   "source": [
    "# # prepare a list of categorical attributes\n",
    "# cat_attributes = [...]"
   ]
  },
  {
   "cell_type": "code",
   "execution_count": 8,
   "id": "transparent-reality",
   "metadata": {
    "scrolled": true
   },
   "outputs": [],
   "source": [
    "# # use df.describe() for numerical column distribution\n",
    "# df.describe()"
   ]
  },
  {
   "cell_type": "markdown",
   "id": "productive-planet",
   "metadata": {},
   "source": [
    "### List numerical attributes below\n",
    "* num_attrib_1\n",
    "* num_attrib_2\n",
    "* num_attrib_3"
   ]
  },
  {
   "cell_type": "code",
   "execution_count": 9,
   "id": "abstract-burner",
   "metadata": {},
   "outputs": [],
   "source": [
    "# # prepare a list of numerical attributes\n",
    "# numerical_attributes = [...]"
   ]
  },
  {
   "cell_type": "code",
   "execution_count": 10,
   "id": "heard-uzbekistan",
   "metadata": {},
   "outputs": [],
   "source": [
    "# # another good method to quickly see the column distribution is to use histogram plot.\n",
    "# # if attributes are more then try considering plotting histogram of subset of attributes.\n",
    "# df.hist(bins=50, figsize=(20, 15))\n",
    "# plt.show"
   ]
  },
  {
   "cell_type": "markdown",
   "id": "considerable-recorder",
   "metadata": {},
   "source": [
    "### For more detailed insights, use pandas profiling"
   ]
  },
  {
   "cell_type": "code",
   "execution_count": 11,
   "id": "expanded-carpet",
   "metadata": {},
   "outputs": [],
   "source": [
    "# profile = ProfileReport(df, title=\"Pandas Profiling Report\")"
   ]
  },
  {
   "cell_type": "code",
   "execution_count": 12,
   "id": "velvet-french",
   "metadata": {},
   "outputs": [],
   "source": [
    "# # use - profile.to_notebook_iframe(), for rendering the report in an notebook iframe\n",
    "# profile.to_widgets()"
   ]
  },
  {
   "cell_type": "markdown",
   "id": "transsexual-division",
   "metadata": {},
   "source": [
    "## 5. Create a Test set\n",
    "* Humans brain is an amazing pattern detection system, so its necessary to keep a test set separate before exploring it more, seeing the patterns in the test set may influence the model selection process. Read more about **data snooping bias**\n",
    "* read more about **stratified sampling**\n",
    "* *TO-DO: scope of adding different ways of creating the test set, refer HANDS ON ML: page 52*"
   ]
  },
  {
   "cell_type": "code",
   "execution_count": 13,
   "id": "clean-retrieval",
   "metadata": {},
   "outputs": [],
   "source": [
    "# # using sklearn train_test_split method\n",
    "# # test_size: ratio of test set\n",
    "# # random_state: used for generating the same test set split every time\n",
    "# train_set, test_set = train_test_split(df, test_size = 0.2, random_state = 42)"
   ]
  },
  {
   "cell_type": "markdown",
   "id": "mighty-brick",
   "metadata": {},
   "source": [
    "## 6. Discover and Visualize the Data to gain Insights"
   ]
  },
  {
   "cell_type": "code",
   "execution_count": 14,
   "id": "wrapped-generator",
   "metadata": {},
   "outputs": [],
   "source": [
    "# # lets first create a copy so that we can play with it without harming the training set\n",
    "# train_copy = train_set.copy()\n",
    "\n",
    "# train_copy_num = train_copy[numerical_attributes]\n",
    "# train_copy_cat = train_copy[cat_attributes]"
   ]
  },
  {
   "cell_type": "code",
   "execution_count": 15,
   "id": "liked-empire",
   "metadata": {},
   "outputs": [],
   "source": [
    "# scatter plot for numerical column comparison\n",
    "# it can help in seeing the correlation between dataset columns\n",
    "\n",
    "# # histogram/bar plots for seeing the categorical column distribution"
   ]
  },
  {
   "cell_type": "code",
   "execution_count": 16,
   "id": "appointed-transcription",
   "metadata": {},
   "outputs": [],
   "source": [
    "# # Pearson's correlations between variables can be computed \n",
    "# # it can help in identifying which variables are correlated\n",
    "# # do note that the below method will only identify the linear relationships\n",
    "# corr_matrix = train_copy.corr()\n",
    "\n",
    "# # check for each variable using below code\n",
    "# corr_matrix[\"target variable\"].sort_values(ascending=False)"
   ]
  },
  {
   "cell_type": "code",
   "execution_count": 17,
   "id": "impaired-japanese",
   "metadata": {},
   "outputs": [],
   "source": [
    "# # another way to identify the correlations is the use of pandas scatter_matrix function\n",
    "# # if there are high number of columns, then consider choosing a subset of those for which you want to see the corelations\n",
    "# # note that the histogram is plotted for a same pair of columns, as scatter plot wont make sense in this case\n",
    "\n",
    "# columns_of_interest = [\"Personal Loan\", \"Income\", \"Education\", \"Mortgage\", \"CCAvg\", \"Age\"]\n",
    "# scatter_matrix(train_copy[columns_of_interest], figsize=(12, 8))"
   ]
  },
  {
   "cell_type": "markdown",
   "id": "operating-vision",
   "metadata": {},
   "source": [
    "## 7. Experiment with attribute combinations\n",
    "* There can be cases where a particular attribute in itself wont add any value, but it can be combined with other attributes to see the affect of that combined variable on the predictor variable.\n",
    "* Example - Suppose the number of rooms in a district is not usesful if you dont know how many households are there in the distrcit. So in this case a new variable \"bedroom_per_household\" should be added in the dataset."
   ]
  },
  {
   "cell_type": "code",
   "execution_count": 18,
   "id": "radical-advocacy",
   "metadata": {},
   "outputs": [],
   "source": [
    "# hence study the attributes, understand them properly and figure out what attributes can be combined\n",
    "# create a new column in the dataset for the combined attributes\n",
    "# see again the correlation of attributes with the dependent/predictor variables\n",
    "# if its correlation is strong, then it can be used otherwise dropped."
   ]
  },
  {
   "cell_type": "markdown",
   "id": "bronze-commander",
   "metadata": {},
   "source": [
    "## 8. Prepare the data for machine learning algorithms\n",
    "\n",
    "<br/>instead of doing this manually it's important to write a functions which can be helpful in below scenarios\n",
    "* reproduce transformations later\n",
    "* helpful in buidling a library of these functiosn gradually\n",
    "* can use these functions in the live system\n",
    "* can be helpful in easily trying out various trasnformations and compare them"
   ]
  },
  {
   "cell_type": "code",
   "execution_count": 19,
   "id": "level-suffering",
   "metadata": {},
   "outputs": [],
   "source": [
    "# # It's a good idea at this point to separate predictors and the target values/labels from the train_set\n",
    "# # as we dont want to apply the same transofrmation on the traget values\n",
    "# train_label = train_copy[\"target_variable\"].copy()\n",
    "# train_copy = train_copy.drop(\"target_variable\", axis = 1)"
   ]
  },
  {
   "cell_type": "markdown",
   "id": "wired-sellers",
   "metadata": {},
   "source": [
    "## 9. Data Cleaning\n",
    "Most machine learning algorithms can not work with the missing values, hence it's important to take care of them and there are options below how you can handle them.\n",
    "1. get rid of rows/values where the value is null\n",
    "2. get rid of columns where significant percentage of value is null\n",
    "3. set the values to some value, like mean, the median and as per domain understanding may be in some case 0."
   ]
  },
  {
   "cell_type": "markdown",
   "id": "above-paradise",
   "metadata": {},
   "source": [
    "### Handling numerical attributes"
   ]
  },
  {
   "cell_type": "code",
   "execution_count": 20,
   "id": "packed-fossil",
   "metadata": {},
   "outputs": [],
   "source": [
    "# # option 1: \n",
    "# train_copy.drop(subset=[\"columns which has null value\"])\n",
    "\n",
    "# # option 2: \n",
    "# train_copy.drop(\"column having null value\", axis=1)\n",
    "\n",
    "# # option 3: \n",
    "# median = train_copy[\"column having null value\"].median()\n",
    "# train_copy[\"column having null value\"].fillna(median, inplace=True)"
   ]
  },
  {
   "cell_type": "markdown",
   "id": "confirmed-belgium",
   "metadata": {},
   "source": [
    "* do note that the median values and the other values which will be used for imputation should be saved/noted somewhere so that they can used later to replace missing values in the test dataset and even in the live data."
   ]
  },
  {
   "cell_type": "code",
   "execution_count": 21,
   "id": "handled-ethiopia",
   "metadata": {},
   "outputs": [],
   "source": [
    "# # scikit learn also provides a handly class: SimpleImputer to take care of the missing values\n",
    "\n",
    "# # below line is essentially saying that we need a imputer which can use a strategy(in this case \"median\") \n",
    "# # to replace the missing value in the dataset\n",
    "# # also make sure to copy only the numerical attribute in to a temporary dataframe as this step wont be applicable for text attr.\n",
    "\n",
    "# imputer = SimpleImputer(strategy = \"median\")\n",
    "\n",
    "# imputer.fit(train_copy_num)\n",
    "\n",
    "# X = imputer.transform(train_copy_num) # this will return an numpy array\n",
    "\n",
    "# train_copy_tr = pd.DataFrame(X, columns = train_copy_num.columns, index=train_copy_num.index)"
   ]
  },
  {
   "cell_type": "markdown",
   "id": "aggressive-watson",
   "metadata": {},
   "source": [
    "### Handling Categorical and Text attributes"
   ]
  },
  {
   "cell_type": "markdown",
   "id": "oriental-suite",
   "metadata": {},
   "source": [
    "* text should be processed differently as per the requirement, and it should be clear when it is analysed\n",
    "* steps which would be common in all problems is to convert the categorical column in to numbers as ML algorithms can understand only numbers.\n",
    "* There are multiple approaches to achieve this"
   ]
  },
  {
   "cell_type": "markdown",
   "id": "experimental-retrieval",
   "metadata": {},
   "source": [
    "1. ORDINAL ENCODER - this will convert the categories in to numbers, like [\"bad\", \"average\", \"good\"] in to [0, 1, 2], this is good approach when there is order between the categories as this pattern will be learnt by the algorithm"
   ]
  },
  {
   "cell_type": "code",
   "execution_count": 22,
   "id": "attached-tribune",
   "metadata": {},
   "outputs": [],
   "source": [
    "# # get a copy of dataframe with categorical attributes\n",
    "# ordinal_encoder = OrdinalEncoder()\n",
    "# train_copy_cat_encoded = oridnal_encoder.fit_transform(train_copy_cat)\n",
    "# ordinal_encoder.categories_"
   ]
  },
  {
   "cell_type": "markdown",
   "id": "mobile-theory",
   "metadata": {},
   "source": [
    "2. OneHotENCODER - This type of encoding is good when we dont want to preserver any order/relation between the categories. This will represent a sparse matrix which stores the condensed information. To see the full array use the toarray() method, the number of rows will be equal to the dataset size and columns will be equal to the number of categories."
   ]
  },
  {
   "cell_type": "code",
   "execution_count": 23,
   "id": "settled-clause",
   "metadata": {},
   "outputs": [],
   "source": [
    "# cat_encoder = OneHotEncoder()\n",
    "# train_copy__cat_1hot = cat_encoder.fit_transform(train_copy_cat)\n",
    "# cat_encoder.categories_\n",
    "# train_copy__cat_1hot.toarray() "
   ]
  },
  {
   "cell_type": "markdown",
   "id": "thirty-while",
   "metadata": {},
   "source": [
    "NOTE: What if our categorical attribute has large number of categories, like country code, profession, species. Converting attribtues like this in to one hot encoding will lead to the drastic increase in the large number of columns which will increase the training time and degrade the performance. \n",
    "* one approach to handle this is to replace categories with the numbers which is representative of the category value such as country code can be replaced by country's population or GDP.\n",
    "* Alternatively, we can replace each category with a learnable, low-dimensional vector called an embedding"
   ]
  },
  {
   "cell_type": "markdown",
   "id": "detected-runner",
   "metadata": {},
   "source": [
    "### Custom Transformers\n",
    "\n",
    "There are a lot of transformers available in scikit learn, but often you will require to write your own custom transformers or custom cleanup operations or combining attributes.\n",
    "\n",
    "#### Why you want to do it?\n",
    "So that our custom transformer works seamlessly with the Scikit Learn functionalities such as pipelines\n",
    "\n",
    "#### How you can do it?\n",
    "Using duck typing since scikit learn relies on duck typing instead of inhertitance. So we need to create a class and implement three methods fit(), transform() and fit_transform()\n",
    "\n",
    "#### Other benefits?\n",
    "We will also get two extra methods get_params() and set_params() that will help in hyperparameter tuning. Adding hyperparameters in the custom class will easily led the automated process to find out the optimal value for this hyperparameter. More genrally we can add a hyperparameter for each step for which we are not sure about. Advantage is that the more combination we can try out the more likely it will be to find a great combination."
   ]
  },
  {
   "cell_type": "markdown",
   "id": "british-attraction",
   "metadata": {},
   "source": [
    "### Feature Scaling\n",
    "It's one of the most important transformations on the data. With few exceptions, most of the algorithms dont perform well when the attributes are in different scale. \n",
    "\n",
    "There are two common ways to scale the attributes:\n",
    "1. Min-max scaling/Normalization - simple and values are shifted and scaled so that all the values comes in range of 0-1. This is achieved by subtracting the min value and then divide by the max - min.\n",
    "2. Standardization - First it subtracts the mean value so that the standardised values always has 0 mean. And then divide by the standard deviation so that resulting distribution has unit variance. \n",
    "\n",
    "Standardization does not reduce the inputs to a range of values like normalisation, this can be a problem for some of the algorithms like Neural Networks, which expects the value to be in a range of 0-1. However, Standardization is much less affected by the outliers. "
   ]
  },
  {
   "cell_type": "markdown",
   "id": "peaceful-happening",
   "metadata": {},
   "source": [
    "### Transformation Pipelines\n",
    "Notice that the transformation steps can be applied sequentially on the dataset. Sklearn provides a pipeline class to apply the transformation methods in sequences."
   ]
  },
  {
   "cell_type": "code",
   "execution_count": 24,
   "id": "american-schedule",
   "metadata": {},
   "outputs": [],
   "source": [
    "# it can be used to apply the transformations on the same set of columns\n",
    "# hence we need a separate step just for the numerical attributes\n",
    "\n",
    "# num_pipeline = Pipeline([\n",
    "#     ('imputer', SimpleImputer(strategy = \"median\")),   # missing value treatement\n",
    "#     ('std_scaler', StandardScaler())                   # standard scaling on numerical attributes\n",
    "#     ('attribs_adder', CombinedAttributesAdder()),      # custom transformer\n",
    "# ])"
   ]
  },
  {
   "cell_type": "markdown",
   "id": "played-accommodation",
   "metadata": {},
   "source": [
    "NOTE: till now we have applied the transformations on the numerical and categorical attribute separately. It would be more convenient to do it in a single step. fortunately, sklearn provides a class - **ColumnTransformer** for this purpose."
   ]
  },
  {
   "cell_type": "code",
   "execution_count": 25,
   "id": "acute-burke",
   "metadata": {},
   "outputs": [],
   "source": [
    "# num_attributes = list(train_copy_num)\n",
    "# cat_attributes = list(train_copy_cat)\n",
    "\n",
    "# full_pipeline = ColumnTransformer([\n",
    "#     (\"num\", num_pipeline, num_attributes),\n",
    "#     (\"cat\", OneHotEncoder(), cat_attributes)\n",
    "# ])\n",
    "\n",
    "# train_copy_transformed = full_pipeline.fit_transform(train_copy)"
   ]
  },
  {
   "cell_type": "markdown",
   "id": "communist-companion",
   "metadata": {},
   "source": [
    "In above pipeline class, instead of mentioning the transformer we can specify \"drop\" or \"pass-through\" for columns to be dropped or columns to be left untouched."
   ]
  },
  {
   "cell_type": "markdown",
   "id": "welcome-swing",
   "metadata": {},
   "source": [
    "## 10. Select and train a model"
   ]
  },
  {
   "cell_type": "markdown",
   "id": "sophisticated-central",
   "metadata": {},
   "source": [
    "### Shortlist classification models"
   ]
  },
  {
   "cell_type": "code",
   "execution_count": 26,
   "id": "static-quality",
   "metadata": {},
   "outputs": [],
   "source": [
    "# classifiers = {\n",
    "#     \"Logistics Regression\": LogisticRegression(),\n",
    "#     \"Nearest Neighbors\": KNeighborsClassifier(3),\n",
    "#     \"Linear SVM\": SVC(kernel=\"linear\", C=0.025),\n",
    "#     \"RBF SVM\": SVC(gamma=2, C=1),\n",
    "#     \"Gaussian Process\": GaussianProcessClassifier(1.0 * RBF(1.0)),\n",
    "#     \"Decision Tree\": DecisionTreeClassifier(max_depth=5),\n",
    "#     \"Random Forest\": RandomForestClassifier(max_depth=5, n_estimators=10, max_features=1),\n",
    "#     \"Neural Net\": MLPClassifier(alpha=1, max_iter=1000),\n",
    "#     \"AdaBoost\": AdaBoostClassifier(),\n",
    "#     \"Naive Bayes\": GaussianNB(),\n",
    "#     \"QDA\": QuadraticDiscriminantAnalysis()\n",
    "# }\n",
    "\n",
    "# model.fit(train_copy, train_label)\n",
    "\n",
    "# testing on train dataset \n",
    "# train_data_subset = train_copy.iloc[:5] # for example take 5\n",
    "# train_data_subset_labels = train_label.iloc[:5]\n",
    "\n",
    "# train_subset_prepared = fullpipeline.transform(train_copy_subset)\n",
    "# print(\"Predictions:\", model.predict(train_subset_prepared))\n",
    "# print(\"Labels:\", train_data_subset_labels)\n",
    "\n",
    "# # calculating the classification accuracy on whole train set\n",
    "# train_copy_predictions = model.predict(train_copy_prepared)\n",
    "# print(metrics.classification_report(train_labels, train_copy_predictions))\n",
    "# print(\"roc_auc_score: \", roc_auc_score(train_labels, train_copy_predictions))\n",
    "# print(\"f1 score: \", f1_score(train_labels, train_copy_predictions))"
   ]
  },
  {
   "cell_type": "markdown",
   "id": "handy-sewing",
   "metadata": {},
   "source": [
    "### Shortlist regression models"
   ]
  },
  {
   "cell_type": "code",
   "execution_count": 27,
   "id": "invisible-rover",
   "metadata": {},
   "outputs": [],
   "source": [
    "# model = LinearRegression()\n",
    "# model = DecisionTreeRegressor()\n",
    "# model = RandomForestRegressor()\n",
    "\n",
    "# model.fit(train_copy, train_label)\n",
    "\n",
    "# testing on train dataset \n",
    "# train_data_subset = train_copy.iloc[:5] # for example take 5\n",
    "# train_data_subset_labels = train_label.iloc[:5]\n",
    "\n",
    "# train_subset_prepared = fullpipeline.transform(train_copy_subset)\n",
    "# print(\"Predictions:\", model.predict(train_subset_prepared))\n",
    "# print(\"Labels:\", train_data_subset_labels)\n",
    "\n",
    "# # calculating the mean squared error on whole train set\n",
    "# train_copy_predictions = model.predict(train_copy_prepared)\n",
    "# model_mse = mean_squared_error(train_labels, train_copy_predictions)\n",
    "# model_rmse = np.sqrt(model_mse)\n",
    "# print(\"RMSE on train dataset:\", model_rmse)"
   ]
  },
  {
   "cell_type": "markdown",
   "id": "emotional-disclaimer",
   "metadata": {},
   "source": [
    "Sometimes you will notice that the model's score on the train dataset is ~ 100% or unusually high. This indicates that the model has overfit the data. To confirm this a model can be tested on the test dataset(unseen), but we can not do it as the model will see the test data in this case.\n",
    "\n",
    "To avoid this K-Fold cross validation strategy can be used where a dataset is divided into k folds and a model is trained on k-1 fold and tested on 1 fold with k number of iterations and each iterations test set being different."
   ]
  },
  {
   "cell_type": "markdown",
   "id": "considered-canyon",
   "metadata": {},
   "source": [
    "#### Cross Validation"
   ]
  },
  {
   "cell_type": "code",
   "execution_count": 28,
   "id": "nearby-double",
   "metadata": {},
   "outputs": [],
   "source": [
    "# # here scoring parameter can be used to specify the custom scoring metrics type\n",
    "# # for regression we can use scoring = \"neg_mean_squared_error\"\n",
    "# # for classification we can use scoring = \"f1_macro\"\n",
    "# # by default it uses the estimator scoring parameter\n",
    "\n",
    "# scores = cross_val_score(model, train_copy_prepared, train_labels, \n",
    "#                          scoring = \"decide_scoring_metric\", cv=10)\n",
    "\n",
    "# # below is only for regression models when scoring = \"neg_mean_squared_error\"\n",
    "# scores = np.sqrt(-scores)\n",
    "\n",
    "# def display_scores(scores):\n",
    "#     print(\"Scores:\", scores)\n",
    "#     print(\"Mean:\", scores.mean())\n",
    "#     print(\"Standard Deviation\", scores.std())\n",
    "\n",
    "# display_scores(scores)"
   ]
  },
  {
   "cell_type": "markdown",
   "id": "unknown-skill",
   "metadata": {},
   "source": [
    "### Save model frequently\n",
    "* a good idea is to save model so that you do not need to retrain and model can be compared easily.\n",
    "* Joblib library can be used for this purpose."
   ]
  },
  {
   "cell_type": "code",
   "execution_count": 29,
   "id": "blank-energy",
   "metadata": {},
   "outputs": [],
   "source": [
    "# joblib.dump(model, \"model.pkl\")\n",
    "\n",
    "# ... and later\n",
    "# model_loaded = joblib.load(\"model.pkl\")"
   ]
  },
  {
   "cell_type": "markdown",
   "id": "toxic-milan",
   "metadata": {},
   "source": [
    "## 11: Fine Tune your shortlisted models"
   ]
  },
  {
   "cell_type": "markdown",
   "id": "quick-ireland",
   "metadata": {},
   "source": [
    "### 1.Grid Search\n",
    "There are a lot of hyperparameter values which you need to evaluated. This will be a tedious task if you have to run it every time with different hyperparameter values. Grid Search will help here by automating this process, essentially it will try out each and every combination(searching in grid/matrix) and will present a list of hyperparameter for which model performed best."
   ]
  },
  {
   "cell_type": "code",
   "execution_count": 30,
   "id": "removable-leather",
   "metadata": {},
   "outputs": [],
   "source": [
    "# # create a params_grid like below\n",
    "# param_grid = [\n",
    "#     {'param_set_1' : [1, 5, 10 ...], 'param_set_2' : [0.5, 0.75. 1 ...]}\n",
    "# ]\n",
    "\n",
    "# # take your shortlisted model here, i.e you want to hypertune that model more\n",
    "# regressor_or_classifier = ShortListedModel()\n",
    "# grid_search = GridSearchCV(regressor_or_classifier, param_grid, cv=5, \n",
    "#                            scoring='decide_scoring_metric', return_train_score = True)\n",
    "# grid_search.fit(train_copy_prepared, train_labels)"
   ]
  },
  {
   "cell_type": "markdown",
   "id": "brave-debate",
   "metadata": {},
   "source": [
    "see your best params list using below code"
   ]
  },
  {
   "cell_type": "code",
   "execution_count": 31,
   "id": "integral-storage",
   "metadata": {},
   "outputs": [],
   "source": [
    "# grid_search.best_params_"
   ]
  },
  {
   "cell_type": "markdown",
   "id": "royal-scholar",
   "metadata": {},
   "source": [
    "you can also get the best estimator directly"
   ]
  },
  {
   "cell_type": "code",
   "execution_count": 32,
   "id": "junior-funeral",
   "metadata": {},
   "outputs": [],
   "source": [
    "#grid_search.best_estimator_"
   ]
  },
  {
   "cell_type": "markdown",
   "id": "capable-colonial",
   "metadata": {},
   "source": [
    "evaluation scores are also available"
   ]
  },
  {
   "cell_type": "code",
   "execution_count": 33,
   "id": "willing-dutch",
   "metadata": {},
   "outputs": [],
   "source": [
    "# cv_res = grid_search.cv_results_\n",
    "# for mean_score, params in zip(cv_res[\"mean_test_score\"], cv_res[\"params\"]):\n",
    "#     print(np.sqrt(-mean_score), params)"
   ]
  },
  {
   "cell_type": "markdown",
   "id": "upset-hypothesis",
   "metadata": {},
   "source": [
    "*At this moment, you have successfully fine tuned your model*"
   ]
  },
  {
   "cell_type": "markdown",
   "id": "educated-ballet",
   "metadata": {},
   "source": [
    "NOTE: Do note that we can treat some of the data preapration steps also as a hyperparameter. For eg. having a combined/engineered attribute will help or not, to automatically find a best way of handling outliers, feature selection and more. The transformers can be developed accordingly and can be used as a hyper parameters."
   ]
  },
  {
   "cell_type": "markdown",
   "id": "involved-parcel",
   "metadata": {},
   "source": [
    "### 2.Randomized Search\n",
    "* Using Grid Search is fine when you have comparatively less combinations of hyperparmeter values to test. But what if we have a large number of combinations? in this case instead of evaluating each and every combination from a large search space, randomized search approach can be used which will evaluate the combinatiosn by taking the random values for a hyperparameter at every iterations.\n",
    "\n",
    "This approach has two main benefits\n",
    "1. if we let the randomized search to run for 1000 iterations, then it will explore 1000 different values for a hyperparamter instead of just few values of a hyperparameter with the grid search approach.\n",
    "2. Simply by setting the number of iterations, you have more control over the computing budget you want to allocate to hyperparameter search."
   ]
  },
  {
   "cell_type": "markdown",
   "id": "incoming-johnston",
   "metadata": {},
   "source": [
    "### 3. Ensemble methods\n",
    "This is one another way of fine tuning your models. Often a group of models will perform best as compared to just usin a single model such as Random Forest over Decision Trees. "
   ]
  },
  {
   "cell_type": "markdown",
   "id": "liable-appraisal",
   "metadata": {},
   "source": [
    "### 4. Analyze the best models and their errors\n",
    "you will gain good insights when you inspect the models. For example RandomForest models can indicate the relative importance of each attribute for making accurate predictions."
   ]
  },
  {
   "cell_type": "code",
   "execution_count": 34,
   "id": "difficult-ideal",
   "metadata": {},
   "outputs": [],
   "source": [
    "# feature_importances = grid_search.best_estimator_.feature_importances_\n",
    "# feature_importances"
   ]
  },
  {
   "cell_type": "markdown",
   "id": "isolated-fraud",
   "metadata": {},
   "source": [
    "Let's display these importance scores beside the attributes/"
   ]
  },
  {
   "cell_type": "code",
   "execution_count": 35,
   "id": "subtle-mediterranean",
   "metadata": {},
   "outputs": [],
   "source": [
    "# attributes = numerical_attrib + cat_attrib + extra_attrib\n",
    "\n",
    "# # Do apply transformations on it based on the transformation pipeline you created before\n",
    "# sorted(zip(feature_importances, attributes), reverse=True)"
   ]
  },
  {
   "cell_type": "markdown",
   "id": "typical-sunrise",
   "metadata": {},
   "source": [
    "With information from above, you can try inspecting the contribution from each attributes and you can decide to drop few of those which seems to contribtue less in the models prediction."
   ]
  },
  {
   "cell_type": "markdown",
   "id": "moral-conviction",
   "metadata": {},
   "source": [
    "## 12. Evaluate your model on the test set"
   ]
  },
  {
   "cell_type": "code",
   "execution_count": 36,
   "id": "opponent-clearing",
   "metadata": {},
   "outputs": [],
   "source": [
    "# final_model = grid_search.best_estimator_\n",
    "\n",
    "# x_test = test_set.drop(\"target_variable\", axis=1)\n",
    "# y_test = test_set[\"target_variable\"].copy()\n",
    "\n",
    "# x_test_prepared = full_pipeline.transform(x_test)\n",
    "\n",
    "# final_predictions = final_model.predict(x_test_prepared)\n",
    "\n",
    "# # use below for classifiers\n",
    "# print(metrics.classification_report(train_labels, train_copy_predictions))\n",
    "# print(\"roc_auc_score: \", roc_auc_score(train_labels, train_copy_predictions))\n",
    "# print(\"f1 score: \", f1_score(train_labels, train_copy_predictions))\n",
    "\n",
    "# use below for regressors\n",
    "# final_mse = mean_squared_error(y_test, final_predictions)\n",
    "# final_rmse = np.sqrt(final_mse)"
   ]
  }
 ],
 "metadata": {
  "kernelspec": {
   "display_name": "Python 3",
   "language": "python",
   "name": "python3"
  },
  "language_info": {
   "codemirror_mode": {
    "name": "ipython",
    "version": 3
   },
   "file_extension": ".py",
   "mimetype": "text/x-python",
   "name": "python",
   "nbconvert_exporter": "python",
   "pygments_lexer": "ipython3",
   "version": "3.7.6"
  }
 },
 "nbformat": 4,
 "nbformat_minor": 5
}
