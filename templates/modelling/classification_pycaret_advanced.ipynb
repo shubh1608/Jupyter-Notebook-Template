{
 "cells": [
  {
   "cell_type": "markdown",
   "metadata": {},
   "source": [
    "# Classification Template"
   ]
  },
  {
   "cell_type": "markdown",
   "metadata": {},
   "source": [
    "## Installing Pycaret"
   ]
  },
  {
   "cell_type": "code",
   "execution_count": 6,
   "metadata": {
    "colab": {
     "base_uri": "https://localhost:8080/"
    },
    "executionInfo": {
     "elapsed": 39277,
     "status": "ok",
     "timestamp": 1615340491404,
     "user": {
      "displayName": "sukuna mani",
      "photoUrl": "",
      "userId": "00180303595658708163"
     },
     "user_tz": -330
    },
    "id": "EOLpI6zUQPub",
    "outputId": "ea3f9547-b69f-48c6-9b32-a082e2710fcd"
   },
   "outputs": [],
   "source": [
    "# !pip install pycaret --user\n",
    "# !pip install pycaret-nightly --user"
   ]
  },
  {
   "cell_type": "markdown",
   "metadata": {},
   "source": [
    "## Import Libraries"
   ]
  },
  {
   "cell_type": "code",
   "execution_count": 7,
   "metadata": {
    "executionInfo": {
     "elapsed": 4702,
     "status": "ok",
     "timestamp": 1615340509694,
     "user": {
      "displayName": "sukuna mani",
      "photoUrl": "",
      "userId": "00180303595658708163"
     },
     "user_tz": -330
    },
    "id": "t4oJZrFVQfj0"
   },
   "outputs": [],
   "source": [
    "import pandas as pd\n",
    "from pycaret.classification import *"
   ]
  },
  {
   "cell_type": "markdown",
   "metadata": {},
   "source": [
    "## Import Dataset"
   ]
  },
  {
   "cell_type": "code",
   "execution_count": 8,
   "metadata": {},
   "outputs": [],
   "source": [
    "# path to your dataset, can be a csv file or xlsx\n",
    "dataset_path = \"../Bank_Personal_Loan_Modelling_transformed.xlsx\"\n",
    "\n",
    "## use code as per the type of data source\n",
    "\n",
    "## use below line to read data from csv file\n",
    "## df = pd.read_csv(dataset_path)\n",
    "df = pd.read_excel(dataset_path, index_col=0)"
   ]
  },
  {
   "cell_type": "code",
   "execution_count": 9,
   "metadata": {},
   "outputs": [
    {
     "data": {
      "text/html": [
       "<div>\n",
       "<style scoped>\n",
       "    .dataframe tbody tr th:only-of-type {\n",
       "        vertical-align: middle;\n",
       "    }\n",
       "\n",
       "    .dataframe tbody tr th {\n",
       "        vertical-align: top;\n",
       "    }\n",
       "\n",
       "    .dataframe thead th {\n",
       "        text-align: right;\n",
       "    }\n",
       "</style>\n",
       "<table border=\"1\" class=\"dataframe\">\n",
       "  <thead>\n",
       "    <tr style=\"text-align: right;\">\n",
       "      <th></th>\n",
       "      <th>Age</th>\n",
       "      <th>Experience</th>\n",
       "      <th>Income</th>\n",
       "      <th>ZIP Code</th>\n",
       "      <th>Family</th>\n",
       "      <th>CCAvg</th>\n",
       "      <th>Education</th>\n",
       "      <th>Mortgage</th>\n",
       "      <th>Securities Account</th>\n",
       "      <th>CD Account</th>\n",
       "      <th>Online</th>\n",
       "      <th>CreditCard</th>\n",
       "      <th>Personal Loan</th>\n",
       "    </tr>\n",
       "    <tr>\n",
       "      <th>ID</th>\n",
       "      <th></th>\n",
       "      <th></th>\n",
       "      <th></th>\n",
       "      <th></th>\n",
       "      <th></th>\n",
       "      <th></th>\n",
       "      <th></th>\n",
       "      <th></th>\n",
       "      <th></th>\n",
       "      <th></th>\n",
       "      <th></th>\n",
       "      <th></th>\n",
       "      <th></th>\n",
       "    </tr>\n",
       "  </thead>\n",
       "  <tbody>\n",
       "    <tr>\n",
       "      <th>1</th>\n",
       "      <td>-1.0</td>\n",
       "      <td>-0.95</td>\n",
       "      <td>-0.254237</td>\n",
       "      <td>-0.863923</td>\n",
       "      <td>1.0</td>\n",
       "      <td>0.055556</td>\n",
       "      <td>-0.5</td>\n",
       "      <td>0.0</td>\n",
       "      <td>1</td>\n",
       "      <td>0</td>\n",
       "      <td>-1</td>\n",
       "      <td>0</td>\n",
       "      <td>0</td>\n",
       "    </tr>\n",
       "    <tr>\n",
       "      <th>2</th>\n",
       "      <td>0.0</td>\n",
       "      <td>-0.05</td>\n",
       "      <td>-0.508475</td>\n",
       "      <td>-1.241379</td>\n",
       "      <td>0.5</td>\n",
       "      <td>0.000000</td>\n",
       "      <td>-0.5</td>\n",
       "      <td>0.0</td>\n",
       "      <td>1</td>\n",
       "      <td>0</td>\n",
       "      <td>-1</td>\n",
       "      <td>0</td>\n",
       "      <td>0</td>\n",
       "    </tr>\n",
       "    <tr>\n",
       "      <th>3</th>\n",
       "      <td>-0.3</td>\n",
       "      <td>-0.25</td>\n",
       "      <td>-0.898305</td>\n",
       "      <td>0.475714</td>\n",
       "      <td>-0.5</td>\n",
       "      <td>-0.277778</td>\n",
       "      <td>-0.5</td>\n",
       "      <td>0.0</td>\n",
       "      <td>0</td>\n",
       "      <td>0</td>\n",
       "      <td>-1</td>\n",
       "      <td>0</td>\n",
       "      <td>0</td>\n",
       "    </tr>\n",
       "    <tr>\n",
       "      <th>4</th>\n",
       "      <td>-0.5</td>\n",
       "      <td>-0.55</td>\n",
       "      <td>0.610169</td>\n",
       "      <td>0.250278</td>\n",
       "      <td>-0.5</td>\n",
       "      <td>0.666667</td>\n",
       "      <td>0.0</td>\n",
       "      <td>0.0</td>\n",
       "      <td>0</td>\n",
       "      <td>0</td>\n",
       "      <td>-1</td>\n",
       "      <td>0</td>\n",
       "      <td>0</td>\n",
       "    </tr>\n",
       "    <tr>\n",
       "      <th>5</th>\n",
       "      <td>-0.5</td>\n",
       "      <td>-0.60</td>\n",
       "      <td>-0.322034</td>\n",
       "      <td>-0.781238</td>\n",
       "      <td>1.0</td>\n",
       "      <td>-0.277778</td>\n",
       "      <td>0.0</td>\n",
       "      <td>0.0</td>\n",
       "      <td>0</td>\n",
       "      <td>0</td>\n",
       "      <td>-1</td>\n",
       "      <td>1</td>\n",
       "      <td>0</td>\n",
       "    </tr>\n",
       "  </tbody>\n",
       "</table>\n",
       "</div>"
      ],
      "text/plain": [
       "    Age  Experience    Income  ZIP Code  Family     CCAvg  Education  \\\n",
       "ID                                                                     \n",
       "1  -1.0       -0.95 -0.254237 -0.863923     1.0  0.055556       -0.5   \n",
       "2   0.0       -0.05 -0.508475 -1.241379     0.5  0.000000       -0.5   \n",
       "3  -0.3       -0.25 -0.898305  0.475714    -0.5 -0.277778       -0.5   \n",
       "4  -0.5       -0.55  0.610169  0.250278    -0.5  0.666667        0.0   \n",
       "5  -0.5       -0.60 -0.322034 -0.781238     1.0 -0.277778        0.0   \n",
       "\n",
       "    Mortgage  Securities Account  CD Account  Online  CreditCard  \\\n",
       "ID                                                                 \n",
       "1        0.0                   1           0      -1           0   \n",
       "2        0.0                   1           0      -1           0   \n",
       "3        0.0                   0           0      -1           0   \n",
       "4        0.0                   0           0      -1           0   \n",
       "5        0.0                   0           0      -1           1   \n",
       "\n",
       "    Personal Loan  \n",
       "ID                 \n",
       "1               0  \n",
       "2               0  \n",
       "3               0  \n",
       "4               0  \n",
       "5               0  "
      ]
     },
     "execution_count": 9,
     "metadata": {},
     "output_type": "execute_result"
    }
   ],
   "source": [
    "df.head()"
   ]
  },
  {
   "cell_type": "code",
   "execution_count": 27,
   "metadata": {},
   "outputs": [],
   "source": [
    "target = 'Personal Loan'"
   ]
  },
  {
   "cell_type": "markdown",
   "metadata": {},
   "source": [
    "## Data Setup\n",
    "* See [here](https://github.com/pycaret/pycaret/blob/master/tutorials/Binary%20Classification%20Tutorial%20Level%20Beginner%20-%20%20CLF101.ipynb) for notebook example(basic level)\n",
    "* See [here](https://pycaret.org/classification/) for classification documentation."
   ]
  },
  {
   "cell_type": "code",
   "execution_count": null,
   "metadata": {},
   "outputs": [],
   "source": [
    "# to-do: separate cat and numbers"
   ]
  },
  {
   "cell_type": "code",
   "execution_count": 10,
   "metadata": {
    "colab": {
     "base_uri": "https://localhost:8080/",
     "height": 617,
     "referenced_widgets": [
      "fe6a0e267d684d1387283300ec847b93",
      "449244cee6d9477b90d2d844c7f2c266",
      "291b6766938042c6b1c2fac27992bf19",
      "48ef29b31e444fd198188e193e715f27",
      "3458d376fd414f7b9486d63046d6477f",
      "2d64f9669f8c4c6bbe44d32584b024ff"
     ]
    },
    "executionInfo": {
     "elapsed": 6409,
     "status": "ok",
     "timestamp": 1615342463123,
     "user": {
      "displayName": "sukuna mani",
      "photoUrl": "",
      "userId": "00180303595658708163"
     },
     "user_tz": -330
    },
    "id": "2EHrNT2SUHk2",
    "outputId": "291b9bb5-5b47-4524-feae-cf6224cfaf33"
   },
   "outputs": [
    {
     "data": {
      "text/html": [
       "<style  type=\"text/css\" >\n",
       "</style><table id=\"T_1b936_\" ><thead>    <tr>        <th class=\"blank level0\" ></th>        <th class=\"col_heading level0 col0\" >Description</th>        <th class=\"col_heading level0 col1\" >Value</th>    </tr></thead><tbody>\n",
       "                <tr>\n",
       "                        <th id=\"T_1b936_level0_row0\" class=\"row_heading level0 row0\" >0</th>\n",
       "                        <td id=\"T_1b936_row0_col0\" class=\"data row0 col0\" >session_id</td>\n",
       "                        <td id=\"T_1b936_row0_col1\" class=\"data row0 col1\" >272</td>\n",
       "            </tr>\n",
       "            <tr>\n",
       "                        <th id=\"T_1b936_level0_row1\" class=\"row_heading level0 row1\" >1</th>\n",
       "                        <td id=\"T_1b936_row1_col0\" class=\"data row1 col0\" >Target</td>\n",
       "                        <td id=\"T_1b936_row1_col1\" class=\"data row1 col1\" >Personal Loan</td>\n",
       "            </tr>\n",
       "            <tr>\n",
       "                        <th id=\"T_1b936_level0_row2\" class=\"row_heading level0 row2\" >2</th>\n",
       "                        <td id=\"T_1b936_row2_col0\" class=\"data row2 col0\" >Target Type</td>\n",
       "                        <td id=\"T_1b936_row2_col1\" class=\"data row2 col1\" >Binary</td>\n",
       "            </tr>\n",
       "            <tr>\n",
       "                        <th id=\"T_1b936_level0_row3\" class=\"row_heading level0 row3\" >3</th>\n",
       "                        <td id=\"T_1b936_row3_col0\" class=\"data row3 col0\" >Label Encoded</td>\n",
       "                        <td id=\"T_1b936_row3_col1\" class=\"data row3 col1\" >0: 0, 1: 1</td>\n",
       "            </tr>\n",
       "            <tr>\n",
       "                        <th id=\"T_1b936_level0_row4\" class=\"row_heading level0 row4\" >4</th>\n",
       "                        <td id=\"T_1b936_row4_col0\" class=\"data row4 col0\" >Original Data</td>\n",
       "                        <td id=\"T_1b936_row4_col1\" class=\"data row4 col1\" >(5000, 13)</td>\n",
       "            </tr>\n",
       "            <tr>\n",
       "                        <th id=\"T_1b936_level0_row5\" class=\"row_heading level0 row5\" >5</th>\n",
       "                        <td id=\"T_1b936_row5_col0\" class=\"data row5 col0\" >Missing Values</td>\n",
       "                        <td id=\"T_1b936_row5_col1\" class=\"data row5 col1\" >False</td>\n",
       "            </tr>\n",
       "            <tr>\n",
       "                        <th id=\"T_1b936_level0_row6\" class=\"row_heading level0 row6\" >6</th>\n",
       "                        <td id=\"T_1b936_row6_col0\" class=\"data row6 col0\" >Numeric Features</td>\n",
       "                        <td id=\"T_1b936_row6_col1\" class=\"data row6 col1\" >6</td>\n",
       "            </tr>\n",
       "            <tr>\n",
       "                        <th id=\"T_1b936_level0_row7\" class=\"row_heading level0 row7\" >7</th>\n",
       "                        <td id=\"T_1b936_row7_col0\" class=\"data row7 col0\" >Categorical Features</td>\n",
       "                        <td id=\"T_1b936_row7_col1\" class=\"data row7 col1\" >6</td>\n",
       "            </tr>\n",
       "            <tr>\n",
       "                        <th id=\"T_1b936_level0_row8\" class=\"row_heading level0 row8\" >8</th>\n",
       "                        <td id=\"T_1b936_row8_col0\" class=\"data row8 col0\" >Ordinal Features</td>\n",
       "                        <td id=\"T_1b936_row8_col1\" class=\"data row8 col1\" >False</td>\n",
       "            </tr>\n",
       "            <tr>\n",
       "                        <th id=\"T_1b936_level0_row9\" class=\"row_heading level0 row9\" >9</th>\n",
       "                        <td id=\"T_1b936_row9_col0\" class=\"data row9 col0\" >High Cardinality Features</td>\n",
       "                        <td id=\"T_1b936_row9_col1\" class=\"data row9 col1\" >False</td>\n",
       "            </tr>\n",
       "            <tr>\n",
       "                        <th id=\"T_1b936_level0_row10\" class=\"row_heading level0 row10\" >10</th>\n",
       "                        <td id=\"T_1b936_row10_col0\" class=\"data row10 col0\" >High Cardinality Method</td>\n",
       "                        <td id=\"T_1b936_row10_col1\" class=\"data row10 col1\" >None</td>\n",
       "            </tr>\n",
       "            <tr>\n",
       "                        <th id=\"T_1b936_level0_row11\" class=\"row_heading level0 row11\" >11</th>\n",
       "                        <td id=\"T_1b936_row11_col0\" class=\"data row11 col0\" >Transformed Train Set</td>\n",
       "                        <td id=\"T_1b936_row11_col1\" class=\"data row11 col1\" >(4000, 17)</td>\n",
       "            </tr>\n",
       "            <tr>\n",
       "                        <th id=\"T_1b936_level0_row12\" class=\"row_heading level0 row12\" >12</th>\n",
       "                        <td id=\"T_1b936_row12_col0\" class=\"data row12 col0\" >Transformed Test Set</td>\n",
       "                        <td id=\"T_1b936_row12_col1\" class=\"data row12 col1\" >(1000, 17)</td>\n",
       "            </tr>\n",
       "            <tr>\n",
       "                        <th id=\"T_1b936_level0_row13\" class=\"row_heading level0 row13\" >13</th>\n",
       "                        <td id=\"T_1b936_row13_col0\" class=\"data row13 col0\" >Shuffle Train-Test</td>\n",
       "                        <td id=\"T_1b936_row13_col1\" class=\"data row13 col1\" >True</td>\n",
       "            </tr>\n",
       "            <tr>\n",
       "                        <th id=\"T_1b936_level0_row14\" class=\"row_heading level0 row14\" >14</th>\n",
       "                        <td id=\"T_1b936_row14_col0\" class=\"data row14 col0\" >Stratify Train-Test</td>\n",
       "                        <td id=\"T_1b936_row14_col1\" class=\"data row14 col1\" >False</td>\n",
       "            </tr>\n",
       "            <tr>\n",
       "                        <th id=\"T_1b936_level0_row15\" class=\"row_heading level0 row15\" >15</th>\n",
       "                        <td id=\"T_1b936_row15_col0\" class=\"data row15 col0\" >Fold Generator</td>\n",
       "                        <td id=\"T_1b936_row15_col1\" class=\"data row15 col1\" >StratifiedKFold</td>\n",
       "            </tr>\n",
       "            <tr>\n",
       "                        <th id=\"T_1b936_level0_row16\" class=\"row_heading level0 row16\" >16</th>\n",
       "                        <td id=\"T_1b936_row16_col0\" class=\"data row16 col0\" >Fold Number</td>\n",
       "                        <td id=\"T_1b936_row16_col1\" class=\"data row16 col1\" >5</td>\n",
       "            </tr>\n",
       "            <tr>\n",
       "                        <th id=\"T_1b936_level0_row17\" class=\"row_heading level0 row17\" >17</th>\n",
       "                        <td id=\"T_1b936_row17_col0\" class=\"data row17 col0\" >CPU Jobs</td>\n",
       "                        <td id=\"T_1b936_row17_col1\" class=\"data row17 col1\" >-1</td>\n",
       "            </tr>\n",
       "            <tr>\n",
       "                        <th id=\"T_1b936_level0_row18\" class=\"row_heading level0 row18\" >18</th>\n",
       "                        <td id=\"T_1b936_row18_col0\" class=\"data row18 col0\" >Use GPU</td>\n",
       "                        <td id=\"T_1b936_row18_col1\" class=\"data row18 col1\" >False</td>\n",
       "            </tr>\n",
       "            <tr>\n",
       "                        <th id=\"T_1b936_level0_row19\" class=\"row_heading level0 row19\" >19</th>\n",
       "                        <td id=\"T_1b936_row19_col0\" class=\"data row19 col0\" >Log Experiment</td>\n",
       "                        <td id=\"T_1b936_row19_col1\" class=\"data row19 col1\" >False</td>\n",
       "            </tr>\n",
       "            <tr>\n",
       "                        <th id=\"T_1b936_level0_row20\" class=\"row_heading level0 row20\" >20</th>\n",
       "                        <td id=\"T_1b936_row20_col0\" class=\"data row20 col0\" >Experiment Name</td>\n",
       "                        <td id=\"T_1b936_row20_col1\" class=\"data row20 col1\" >clf-default-name</td>\n",
       "            </tr>\n",
       "            <tr>\n",
       "                        <th id=\"T_1b936_level0_row21\" class=\"row_heading level0 row21\" >21</th>\n",
       "                        <td id=\"T_1b936_row21_col0\" class=\"data row21 col0\" >USI</td>\n",
       "                        <td id=\"T_1b936_row21_col1\" class=\"data row21 col1\" >9411</td>\n",
       "            </tr>\n",
       "            <tr>\n",
       "                        <th id=\"T_1b936_level0_row22\" class=\"row_heading level0 row22\" >22</th>\n",
       "                        <td id=\"T_1b936_row22_col0\" class=\"data row22 col0\" >Imputation Type</td>\n",
       "                        <td id=\"T_1b936_row22_col1\" class=\"data row22 col1\" >simple</td>\n",
       "            </tr>\n",
       "            <tr>\n",
       "                        <th id=\"T_1b936_level0_row23\" class=\"row_heading level0 row23\" >23</th>\n",
       "                        <td id=\"T_1b936_row23_col0\" class=\"data row23 col0\" >Iterative Imputation Iteration</td>\n",
       "                        <td id=\"T_1b936_row23_col1\" class=\"data row23 col1\" >None</td>\n",
       "            </tr>\n",
       "            <tr>\n",
       "                        <th id=\"T_1b936_level0_row24\" class=\"row_heading level0 row24\" >24</th>\n",
       "                        <td id=\"T_1b936_row24_col0\" class=\"data row24 col0\" >Numeric Imputer</td>\n",
       "                        <td id=\"T_1b936_row24_col1\" class=\"data row24 col1\" >mean</td>\n",
       "            </tr>\n",
       "            <tr>\n",
       "                        <th id=\"T_1b936_level0_row25\" class=\"row_heading level0 row25\" >25</th>\n",
       "                        <td id=\"T_1b936_row25_col0\" class=\"data row25 col0\" >Iterative Imputation Numeric Model</td>\n",
       "                        <td id=\"T_1b936_row25_col1\" class=\"data row25 col1\" >None</td>\n",
       "            </tr>\n",
       "            <tr>\n",
       "                        <th id=\"T_1b936_level0_row26\" class=\"row_heading level0 row26\" >26</th>\n",
       "                        <td id=\"T_1b936_row26_col0\" class=\"data row26 col0\" >Categorical Imputer</td>\n",
       "                        <td id=\"T_1b936_row26_col1\" class=\"data row26 col1\" >constant</td>\n",
       "            </tr>\n",
       "            <tr>\n",
       "                        <th id=\"T_1b936_level0_row27\" class=\"row_heading level0 row27\" >27</th>\n",
       "                        <td id=\"T_1b936_row27_col0\" class=\"data row27 col0\" >Iterative Imputation Categorical Model</td>\n",
       "                        <td id=\"T_1b936_row27_col1\" class=\"data row27 col1\" >None</td>\n",
       "            </tr>\n",
       "            <tr>\n",
       "                        <th id=\"T_1b936_level0_row28\" class=\"row_heading level0 row28\" >28</th>\n",
       "                        <td id=\"T_1b936_row28_col0\" class=\"data row28 col0\" >Unknown Categoricals Handling</td>\n",
       "                        <td id=\"T_1b936_row28_col1\" class=\"data row28 col1\" >least_frequent</td>\n",
       "            </tr>\n",
       "            <tr>\n",
       "                        <th id=\"T_1b936_level0_row29\" class=\"row_heading level0 row29\" >29</th>\n",
       "                        <td id=\"T_1b936_row29_col0\" class=\"data row29 col0\" >Normalize</td>\n",
       "                        <td id=\"T_1b936_row29_col1\" class=\"data row29 col1\" >False</td>\n",
       "            </tr>\n",
       "            <tr>\n",
       "                        <th id=\"T_1b936_level0_row30\" class=\"row_heading level0 row30\" >30</th>\n",
       "                        <td id=\"T_1b936_row30_col0\" class=\"data row30 col0\" >Normalize Method</td>\n",
       "                        <td id=\"T_1b936_row30_col1\" class=\"data row30 col1\" >None</td>\n",
       "            </tr>\n",
       "            <tr>\n",
       "                        <th id=\"T_1b936_level0_row31\" class=\"row_heading level0 row31\" >31</th>\n",
       "                        <td id=\"T_1b936_row31_col0\" class=\"data row31 col0\" >Transformation</td>\n",
       "                        <td id=\"T_1b936_row31_col1\" class=\"data row31 col1\" >False</td>\n",
       "            </tr>\n",
       "            <tr>\n",
       "                        <th id=\"T_1b936_level0_row32\" class=\"row_heading level0 row32\" >32</th>\n",
       "                        <td id=\"T_1b936_row32_col0\" class=\"data row32 col0\" >Transformation Method</td>\n",
       "                        <td id=\"T_1b936_row32_col1\" class=\"data row32 col1\" >None</td>\n",
       "            </tr>\n",
       "            <tr>\n",
       "                        <th id=\"T_1b936_level0_row33\" class=\"row_heading level0 row33\" >33</th>\n",
       "                        <td id=\"T_1b936_row33_col0\" class=\"data row33 col0\" >PCA</td>\n",
       "                        <td id=\"T_1b936_row33_col1\" class=\"data row33 col1\" >False</td>\n",
       "            </tr>\n",
       "            <tr>\n",
       "                        <th id=\"T_1b936_level0_row34\" class=\"row_heading level0 row34\" >34</th>\n",
       "                        <td id=\"T_1b936_row34_col0\" class=\"data row34 col0\" >PCA Method</td>\n",
       "                        <td id=\"T_1b936_row34_col1\" class=\"data row34 col1\" >None</td>\n",
       "            </tr>\n",
       "            <tr>\n",
       "                        <th id=\"T_1b936_level0_row35\" class=\"row_heading level0 row35\" >35</th>\n",
       "                        <td id=\"T_1b936_row35_col0\" class=\"data row35 col0\" >PCA Components</td>\n",
       "                        <td id=\"T_1b936_row35_col1\" class=\"data row35 col1\" >None</td>\n",
       "            </tr>\n",
       "            <tr>\n",
       "                        <th id=\"T_1b936_level0_row36\" class=\"row_heading level0 row36\" >36</th>\n",
       "                        <td id=\"T_1b936_row36_col0\" class=\"data row36 col0\" >Ignore Low Variance</td>\n",
       "                        <td id=\"T_1b936_row36_col1\" class=\"data row36 col1\" >False</td>\n",
       "            </tr>\n",
       "            <tr>\n",
       "                        <th id=\"T_1b936_level0_row37\" class=\"row_heading level0 row37\" >37</th>\n",
       "                        <td id=\"T_1b936_row37_col0\" class=\"data row37 col0\" >Combine Rare Levels</td>\n",
       "                        <td id=\"T_1b936_row37_col1\" class=\"data row37 col1\" >False</td>\n",
       "            </tr>\n",
       "            <tr>\n",
       "                        <th id=\"T_1b936_level0_row38\" class=\"row_heading level0 row38\" >38</th>\n",
       "                        <td id=\"T_1b936_row38_col0\" class=\"data row38 col0\" >Rare Level Threshold</td>\n",
       "                        <td id=\"T_1b936_row38_col1\" class=\"data row38 col1\" >None</td>\n",
       "            </tr>\n",
       "            <tr>\n",
       "                        <th id=\"T_1b936_level0_row39\" class=\"row_heading level0 row39\" >39</th>\n",
       "                        <td id=\"T_1b936_row39_col0\" class=\"data row39 col0\" >Numeric Binning</td>\n",
       "                        <td id=\"T_1b936_row39_col1\" class=\"data row39 col1\" >False</td>\n",
       "            </tr>\n",
       "            <tr>\n",
       "                        <th id=\"T_1b936_level0_row40\" class=\"row_heading level0 row40\" >40</th>\n",
       "                        <td id=\"T_1b936_row40_col0\" class=\"data row40 col0\" >Remove Outliers</td>\n",
       "                        <td id=\"T_1b936_row40_col1\" class=\"data row40 col1\" >False</td>\n",
       "            </tr>\n",
       "            <tr>\n",
       "                        <th id=\"T_1b936_level0_row41\" class=\"row_heading level0 row41\" >41</th>\n",
       "                        <td id=\"T_1b936_row41_col0\" class=\"data row41 col0\" >Outliers Threshold</td>\n",
       "                        <td id=\"T_1b936_row41_col1\" class=\"data row41 col1\" >None</td>\n",
       "            </tr>\n",
       "            <tr>\n",
       "                        <th id=\"T_1b936_level0_row42\" class=\"row_heading level0 row42\" >42</th>\n",
       "                        <td id=\"T_1b936_row42_col0\" class=\"data row42 col0\" >Remove Multicollinearity</td>\n",
       "                        <td id=\"T_1b936_row42_col1\" class=\"data row42 col1\" >False</td>\n",
       "            </tr>\n",
       "            <tr>\n",
       "                        <th id=\"T_1b936_level0_row43\" class=\"row_heading level0 row43\" >43</th>\n",
       "                        <td id=\"T_1b936_row43_col0\" class=\"data row43 col0\" >Multicollinearity Threshold</td>\n",
       "                        <td id=\"T_1b936_row43_col1\" class=\"data row43 col1\" >None</td>\n",
       "            </tr>\n",
       "            <tr>\n",
       "                        <th id=\"T_1b936_level0_row44\" class=\"row_heading level0 row44\" >44</th>\n",
       "                        <td id=\"T_1b936_row44_col0\" class=\"data row44 col0\" >Clustering</td>\n",
       "                        <td id=\"T_1b936_row44_col1\" class=\"data row44 col1\" >False</td>\n",
       "            </tr>\n",
       "            <tr>\n",
       "                        <th id=\"T_1b936_level0_row45\" class=\"row_heading level0 row45\" >45</th>\n",
       "                        <td id=\"T_1b936_row45_col0\" class=\"data row45 col0\" >Clustering Iteration</td>\n",
       "                        <td id=\"T_1b936_row45_col1\" class=\"data row45 col1\" >None</td>\n",
       "            </tr>\n",
       "            <tr>\n",
       "                        <th id=\"T_1b936_level0_row46\" class=\"row_heading level0 row46\" >46</th>\n",
       "                        <td id=\"T_1b936_row46_col0\" class=\"data row46 col0\" >Polynomial Features</td>\n",
       "                        <td id=\"T_1b936_row46_col1\" class=\"data row46 col1\" >False</td>\n",
       "            </tr>\n",
       "            <tr>\n",
       "                        <th id=\"T_1b936_level0_row47\" class=\"row_heading level0 row47\" >47</th>\n",
       "                        <td id=\"T_1b936_row47_col0\" class=\"data row47 col0\" >Polynomial Degree</td>\n",
       "                        <td id=\"T_1b936_row47_col1\" class=\"data row47 col1\" >None</td>\n",
       "            </tr>\n",
       "            <tr>\n",
       "                        <th id=\"T_1b936_level0_row48\" class=\"row_heading level0 row48\" >48</th>\n",
       "                        <td id=\"T_1b936_row48_col0\" class=\"data row48 col0\" >Trignometry Features</td>\n",
       "                        <td id=\"T_1b936_row48_col1\" class=\"data row48 col1\" >False</td>\n",
       "            </tr>\n",
       "            <tr>\n",
       "                        <th id=\"T_1b936_level0_row49\" class=\"row_heading level0 row49\" >49</th>\n",
       "                        <td id=\"T_1b936_row49_col0\" class=\"data row49 col0\" >Polynomial Threshold</td>\n",
       "                        <td id=\"T_1b936_row49_col1\" class=\"data row49 col1\" >None</td>\n",
       "            </tr>\n",
       "            <tr>\n",
       "                        <th id=\"T_1b936_level0_row50\" class=\"row_heading level0 row50\" >50</th>\n",
       "                        <td id=\"T_1b936_row50_col0\" class=\"data row50 col0\" >Group Features</td>\n",
       "                        <td id=\"T_1b936_row50_col1\" class=\"data row50 col1\" >False</td>\n",
       "            </tr>\n",
       "            <tr>\n",
       "                        <th id=\"T_1b936_level0_row51\" class=\"row_heading level0 row51\" >51</th>\n",
       "                        <td id=\"T_1b936_row51_col0\" class=\"data row51 col0\" >Feature Selection</td>\n",
       "                        <td id=\"T_1b936_row51_col1\" class=\"data row51 col1\" >False</td>\n",
       "            </tr>\n",
       "            <tr>\n",
       "                        <th id=\"T_1b936_level0_row52\" class=\"row_heading level0 row52\" >52</th>\n",
       "                        <td id=\"T_1b936_row52_col0\" class=\"data row52 col0\" >Feature Selection Method</td>\n",
       "                        <td id=\"T_1b936_row52_col1\" class=\"data row52 col1\" >classic</td>\n",
       "            </tr>\n",
       "            <tr>\n",
       "                        <th id=\"T_1b936_level0_row53\" class=\"row_heading level0 row53\" >53</th>\n",
       "                        <td id=\"T_1b936_row53_col0\" class=\"data row53 col0\" >Features Selection Threshold</td>\n",
       "                        <td id=\"T_1b936_row53_col1\" class=\"data row53 col1\" >None</td>\n",
       "            </tr>\n",
       "            <tr>\n",
       "                        <th id=\"T_1b936_level0_row54\" class=\"row_heading level0 row54\" >54</th>\n",
       "                        <td id=\"T_1b936_row54_col0\" class=\"data row54 col0\" >Feature Interaction</td>\n",
       "                        <td id=\"T_1b936_row54_col1\" class=\"data row54 col1\" >False</td>\n",
       "            </tr>\n",
       "            <tr>\n",
       "                        <th id=\"T_1b936_level0_row55\" class=\"row_heading level0 row55\" >55</th>\n",
       "                        <td id=\"T_1b936_row55_col0\" class=\"data row55 col0\" >Feature Ratio</td>\n",
       "                        <td id=\"T_1b936_row55_col1\" class=\"data row55 col1\" >False</td>\n",
       "            </tr>\n",
       "            <tr>\n",
       "                        <th id=\"T_1b936_level0_row56\" class=\"row_heading level0 row56\" >56</th>\n",
       "                        <td id=\"T_1b936_row56_col0\" class=\"data row56 col0\" >Interaction Threshold</td>\n",
       "                        <td id=\"T_1b936_row56_col1\" class=\"data row56 col1\" >None</td>\n",
       "            </tr>\n",
       "            <tr>\n",
       "                        <th id=\"T_1b936_level0_row57\" class=\"row_heading level0 row57\" >57</th>\n",
       "                        <td id=\"T_1b936_row57_col0\" class=\"data row57 col0\" >Fix Imbalance</td>\n",
       "                        <td id=\"T_1b936_row57_col1\" class=\"data row57 col1\" >False</td>\n",
       "            </tr>\n",
       "            <tr>\n",
       "                        <th id=\"T_1b936_level0_row58\" class=\"row_heading level0 row58\" >58</th>\n",
       "                        <td id=\"T_1b936_row58_col0\" class=\"data row58 col0\" >Fix Imbalance Method</td>\n",
       "                        <td id=\"T_1b936_row58_col1\" class=\"data row58 col1\" >SMOTE</td>\n",
       "            </tr>\n",
       "    </tbody></table>"
      ],
      "text/plain": [
       "<pandas.io.formats.style.Styler at 0x196b5873a08>"
      ]
     },
     "metadata": {},
     "output_type": "display_data"
    }
   ],
   "source": [
    "data=setup(df,target=target, categorical_features=['Family', 'Education'], \n",
    "           train_size = 0.8, fold=5)"
   ]
  },
  {
   "cell_type": "markdown",
   "metadata": {},
   "source": [
    "## Comparing models and selecting top 3"
   ]
  },
  {
   "cell_type": "code",
   "execution_count": 11,
   "metadata": {
    "colab": {
     "base_uri": "https://localhost:8080/",
     "height": 557,
     "referenced_widgets": [
      "bcbc1fc25a8e4700a5636d7d0f2875cf",
      "60f7a26415f2418290ffee8042de9143",
      "725e197a1e0f42ffbec096e6488062f8"
     ]
    },
    "executionInfo": {
     "elapsed": 29568,
     "status": "ok",
     "timestamp": 1615342507561,
     "user": {
      "displayName": "sukuna mani",
      "photoUrl": "",
      "userId": "00180303595658708163"
     },
     "user_tz": -330
    },
    "id": "s3Cpj793VyoH",
    "outputId": "6b47ef21-5216-4b19-ea8a-fe69bf4ce6ba"
   },
   "outputs": [
    {
     "data": {
      "text/html": [
       "<style  type=\"text/css\" >\n",
       "    #T_4b97e_ th {\n",
       "          text-align: left;\n",
       "    }#T_4b97e_row0_col0,#T_4b97e_row0_col2,#T_4b97e_row0_col3,#T_4b97e_row0_col4,#T_4b97e_row1_col0,#T_4b97e_row1_col1,#T_4b97e_row1_col4,#T_4b97e_row1_col5,#T_4b97e_row1_col6,#T_4b97e_row1_col7,#T_4b97e_row2_col0,#T_4b97e_row2_col1,#T_4b97e_row2_col2,#T_4b97e_row2_col3,#T_4b97e_row2_col4,#T_4b97e_row2_col5,#T_4b97e_row2_col6,#T_4b97e_row2_col7,#T_4b97e_row3_col0,#T_4b97e_row3_col1,#T_4b97e_row3_col2,#T_4b97e_row3_col3,#T_4b97e_row3_col4,#T_4b97e_row3_col5,#T_4b97e_row3_col6,#T_4b97e_row3_col7,#T_4b97e_row4_col0,#T_4b97e_row4_col1,#T_4b97e_row4_col2,#T_4b97e_row4_col3,#T_4b97e_row4_col5,#T_4b97e_row4_col6,#T_4b97e_row4_col7,#T_4b97e_row5_col0,#T_4b97e_row5_col1,#T_4b97e_row5_col2,#T_4b97e_row5_col3,#T_4b97e_row5_col4,#T_4b97e_row5_col5,#T_4b97e_row5_col6,#T_4b97e_row5_col7,#T_4b97e_row6_col0,#T_4b97e_row6_col1,#T_4b97e_row6_col2,#T_4b97e_row6_col3,#T_4b97e_row6_col4,#T_4b97e_row6_col5,#T_4b97e_row6_col6,#T_4b97e_row6_col7,#T_4b97e_row7_col0,#T_4b97e_row7_col1,#T_4b97e_row7_col2,#T_4b97e_row7_col3,#T_4b97e_row7_col4,#T_4b97e_row7_col5,#T_4b97e_row7_col6,#T_4b97e_row7_col7,#T_4b97e_row8_col0,#T_4b97e_row8_col1,#T_4b97e_row8_col2,#T_4b97e_row8_col3,#T_4b97e_row8_col4,#T_4b97e_row8_col5,#T_4b97e_row8_col6,#T_4b97e_row8_col7,#T_4b97e_row9_col0,#T_4b97e_row9_col1,#T_4b97e_row9_col2,#T_4b97e_row9_col3,#T_4b97e_row9_col4,#T_4b97e_row9_col5,#T_4b97e_row9_col6,#T_4b97e_row9_col7,#T_4b97e_row10_col0,#T_4b97e_row10_col1,#T_4b97e_row10_col2,#T_4b97e_row10_col3,#T_4b97e_row10_col4,#T_4b97e_row10_col5,#T_4b97e_row10_col6,#T_4b97e_row10_col7,#T_4b97e_row11_col0,#T_4b97e_row11_col1,#T_4b97e_row11_col2,#T_4b97e_row11_col3,#T_4b97e_row11_col4,#T_4b97e_row11_col5,#T_4b97e_row11_col6,#T_4b97e_row11_col7,#T_4b97e_row12_col0,#T_4b97e_row12_col1,#T_4b97e_row12_col2,#T_4b97e_row12_col3,#T_4b97e_row12_col4,#T_4b97e_row12_col5,#T_4b97e_row12_col6,#T_4b97e_row12_col7,#T_4b97e_row13_col0,#T_4b97e_row13_col1,#T_4b97e_row13_col2,#T_4b97e_row13_col3,#T_4b97e_row13_col4,#T_4b97e_row13_col5,#T_4b97e_row13_col6,#T_4b97e_row13_col7{\n",
       "            text-align:  left;\n",
       "            text-align:  left;\n",
       "        }#T_4b97e_row0_col1,#T_4b97e_row0_col5,#T_4b97e_row0_col6,#T_4b97e_row0_col7,#T_4b97e_row1_col2,#T_4b97e_row1_col3,#T_4b97e_row4_col4{\n",
       "            text-align:  left;\n",
       "            text-align:  left;\n",
       "            background-color:  yellow;\n",
       "        }#T_4b97e_row0_col8,#T_4b97e_row1_col8,#T_4b97e_row2_col8,#T_4b97e_row3_col8,#T_4b97e_row4_col8,#T_4b97e_row5_col8,#T_4b97e_row6_col8,#T_4b97e_row7_col8,#T_4b97e_row8_col8,#T_4b97e_row9_col8,#T_4b97e_row10_col8,#T_4b97e_row12_col8,#T_4b97e_row13_col8{\n",
       "            text-align:  left;\n",
       "            text-align:  left;\n",
       "            background-color:  lightgrey;\n",
       "        }#T_4b97e_row11_col8{\n",
       "            text-align:  left;\n",
       "            text-align:  left;\n",
       "            background-color:  yellow;\n",
       "            background-color:  lightgrey;\n",
       "        }</style><table id=\"T_4b97e_\" ><thead>    <tr>        <th class=\"blank level0\" ></th>        <th class=\"col_heading level0 col0\" >Model</th>        <th class=\"col_heading level0 col1\" >Accuracy</th>        <th class=\"col_heading level0 col2\" >AUC</th>        <th class=\"col_heading level0 col3\" >Recall</th>        <th class=\"col_heading level0 col4\" >Prec.</th>        <th class=\"col_heading level0 col5\" >F1</th>        <th class=\"col_heading level0 col6\" >Kappa</th>        <th class=\"col_heading level0 col7\" >MCC</th>        <th class=\"col_heading level0 col8\" >TT (Sec)</th>    </tr></thead><tbody>\n",
       "                <tr>\n",
       "                        <th id=\"T_4b97e_level0_row0\" class=\"row_heading level0 row0\" >xgboost</th>\n",
       "                        <td id=\"T_4b97e_row0_col0\" class=\"data row0 col0\" >Extreme Gradient Boosting</td>\n",
       "                        <td id=\"T_4b97e_row0_col1\" class=\"data row0 col1\" >0.9872</td>\n",
       "                        <td id=\"T_4b97e_row0_col2\" class=\"data row0 col2\" >0.9965</td>\n",
       "                        <td id=\"T_4b97e_row0_col3\" class=\"data row0 col3\" >0.9048</td>\n",
       "                        <td id=\"T_4b97e_row0_col4\" class=\"data row0 col4\" >0.9632</td>\n",
       "                        <td id=\"T_4b97e_row0_col5\" class=\"data row0 col5\" >0.9324</td>\n",
       "                        <td id=\"T_4b97e_row0_col6\" class=\"data row0 col6\" >0.9254</td>\n",
       "                        <td id=\"T_4b97e_row0_col7\" class=\"data row0 col7\" >0.9264</td>\n",
       "                        <td id=\"T_4b97e_row0_col8\" class=\"data row0 col8\" >0.3320</td>\n",
       "            </tr>\n",
       "            <tr>\n",
       "                        <th id=\"T_4b97e_level0_row1\" class=\"row_heading level0 row1\" >gbc</th>\n",
       "                        <td id=\"T_4b97e_row1_col0\" class=\"data row1 col0\" >Gradient Boosting Classifier</td>\n",
       "                        <td id=\"T_4b97e_row1_col1\" class=\"data row1 col1\" >0.9868</td>\n",
       "                        <td id=\"T_4b97e_row1_col2\" class=\"data row1 col2\" >0.9979</td>\n",
       "                        <td id=\"T_4b97e_row1_col3\" class=\"data row1 col3\" >0.9049</td>\n",
       "                        <td id=\"T_4b97e_row1_col4\" class=\"data row1 col4\" >0.9582</td>\n",
       "                        <td id=\"T_4b97e_row1_col5\" class=\"data row1 col5\" >0.9301</td>\n",
       "                        <td id=\"T_4b97e_row1_col6\" class=\"data row1 col6\" >0.9228</td>\n",
       "                        <td id=\"T_4b97e_row1_col7\" class=\"data row1 col7\" >0.9237</td>\n",
       "                        <td id=\"T_4b97e_row1_col8\" class=\"data row1 col8\" >0.2220</td>\n",
       "            </tr>\n",
       "            <tr>\n",
       "                        <th id=\"T_4b97e_level0_row2\" class=\"row_heading level0 row2\" >rf</th>\n",
       "                        <td id=\"T_4b97e_row2_col0\" class=\"data row2 col0\" >Random Forest Classifier</td>\n",
       "                        <td id=\"T_4b97e_row2_col1\" class=\"data row2 col1\" >0.9860</td>\n",
       "                        <td id=\"T_4b97e_row2_col2\" class=\"data row2 col2\" >0.9973</td>\n",
       "                        <td id=\"T_4b97e_row2_col3\" class=\"data row2 col3\" >0.8792</td>\n",
       "                        <td id=\"T_4b97e_row2_col4\" class=\"data row2 col4\" >0.9760</td>\n",
       "                        <td id=\"T_4b97e_row2_col5\" class=\"data row2 col5\" >0.9239</td>\n",
       "                        <td id=\"T_4b97e_row2_col6\" class=\"data row2 col6\" >0.9162</td>\n",
       "                        <td id=\"T_4b97e_row2_col7\" class=\"data row2 col7\" >0.9184</td>\n",
       "                        <td id=\"T_4b97e_row2_col8\" class=\"data row2 col8\" >0.4280</td>\n",
       "            </tr>\n",
       "            <tr>\n",
       "                        <th id=\"T_4b97e_level0_row3\" class=\"row_heading level0 row3\" >lightgbm</th>\n",
       "                        <td id=\"T_4b97e_row3_col0\" class=\"data row3 col0\" >Light Gradient Boosting Machine</td>\n",
       "                        <td id=\"T_4b97e_row3_col1\" class=\"data row3 col1\" >0.9848</td>\n",
       "                        <td id=\"T_4b97e_row3_col2\" class=\"data row3 col2\" >0.9968</td>\n",
       "                        <td id=\"T_4b97e_row3_col3\" class=\"data row3 col3\" >0.8739</td>\n",
       "                        <td id=\"T_4b97e_row3_col4\" class=\"data row3 col4\" >0.9673</td>\n",
       "                        <td id=\"T_4b97e_row3_col5\" class=\"data row3 col5\" >0.9170</td>\n",
       "                        <td id=\"T_4b97e_row3_col6\" class=\"data row3 col6\" >0.9087</td>\n",
       "                        <td id=\"T_4b97e_row3_col7\" class=\"data row3 col7\" >0.9108</td>\n",
       "                        <td id=\"T_4b97e_row3_col8\" class=\"data row3 col8\" >0.1340</td>\n",
       "            </tr>\n",
       "            <tr>\n",
       "                        <th id=\"T_4b97e_level0_row4\" class=\"row_heading level0 row4\" >et</th>\n",
       "                        <td id=\"T_4b97e_row4_col0\" class=\"data row4 col0\" >Extra Trees Classifier</td>\n",
       "                        <td id=\"T_4b97e_row4_col1\" class=\"data row4 col1\" >0.9840</td>\n",
       "                        <td id=\"T_4b97e_row4_col2\" class=\"data row4 col2\" >0.9934</td>\n",
       "                        <td id=\"T_4b97e_row4_col3\" class=\"data row4 col3\" >0.8458</td>\n",
       "                        <td id=\"T_4b97e_row4_col4\" class=\"data row4 col4\" >0.9881</td>\n",
       "                        <td id=\"T_4b97e_row4_col5\" class=\"data row4 col5\" >0.9107</td>\n",
       "                        <td id=\"T_4b97e_row4_col6\" class=\"data row4 col6\" >0.9020</td>\n",
       "                        <td id=\"T_4b97e_row4_col7\" class=\"data row4 col7\" >0.9057</td>\n",
       "                        <td id=\"T_4b97e_row4_col8\" class=\"data row4 col8\" >0.4260</td>\n",
       "            </tr>\n",
       "            <tr>\n",
       "                        <th id=\"T_4b97e_level0_row5\" class=\"row_heading level0 row5\" >dt</th>\n",
       "                        <td id=\"T_4b97e_row5_col0\" class=\"data row5 col0\" >Decision Tree Classifier</td>\n",
       "                        <td id=\"T_4b97e_row5_col1\" class=\"data row5 col1\" >0.9817</td>\n",
       "                        <td id=\"T_4b97e_row5_col2\" class=\"data row5 col2\" >0.9463</td>\n",
       "                        <td id=\"T_4b97e_row5_col3\" class=\"data row5 col3\" >0.9022</td>\n",
       "                        <td id=\"T_4b97e_row5_col4\" class=\"data row5 col4\" >0.9094</td>\n",
       "                        <td id=\"T_4b97e_row5_col5\" class=\"data row5 col5\" >0.9054</td>\n",
       "                        <td id=\"T_4b97e_row5_col6\" class=\"data row5 col6\" >0.8953</td>\n",
       "                        <td id=\"T_4b97e_row5_col7\" class=\"data row5 col7\" >0.8956</td>\n",
       "                        <td id=\"T_4b97e_row5_col8\" class=\"data row5 col8\" >0.0140</td>\n",
       "            </tr>\n",
       "            <tr>\n",
       "                        <th id=\"T_4b97e_level0_row6\" class=\"row_heading level0 row6\" >ada</th>\n",
       "                        <td id=\"T_4b97e_row6_col0\" class=\"data row6 col0\" >Ada Boost Classifier</td>\n",
       "                        <td id=\"T_4b97e_row6_col1\" class=\"data row6 col1\" >0.9705</td>\n",
       "                        <td id=\"T_4b97e_row6_col2\" class=\"data row6 col2\" >0.9820</td>\n",
       "                        <td id=\"T_4b97e_row6_col3\" class=\"data row6 col3\" >0.7712</td>\n",
       "                        <td id=\"T_4b97e_row6_col4\" class=\"data row6 col4\" >0.9137</td>\n",
       "                        <td id=\"T_4b97e_row6_col5\" class=\"data row6 col5\" >0.8356</td>\n",
       "                        <td id=\"T_4b97e_row6_col6\" class=\"data row6 col6\" >0.8196</td>\n",
       "                        <td id=\"T_4b97e_row6_col7\" class=\"data row6 col7\" >0.8236</td>\n",
       "                        <td id=\"T_4b97e_row6_col8\" class=\"data row6 col8\" >0.1120</td>\n",
       "            </tr>\n",
       "            <tr>\n",
       "                        <th id=\"T_4b97e_level0_row7\" class=\"row_heading level0 row7\" >lr</th>\n",
       "                        <td id=\"T_4b97e_row7_col0\" class=\"data row7 col0\" >Logistic Regression</td>\n",
       "                        <td id=\"T_4b97e_row7_col1\" class=\"data row7 col1\" >0.9575</td>\n",
       "                        <td id=\"T_4b97e_row7_col2\" class=\"data row7 col2\" >0.9630</td>\n",
       "                        <td id=\"T_4b97e_row7_col3\" class=\"data row7 col3\" >0.6683</td>\n",
       "                        <td id=\"T_4b97e_row7_col4\" class=\"data row7 col4\" >0.8647</td>\n",
       "                        <td id=\"T_4b97e_row7_col5\" class=\"data row7 col5\" >0.7536</td>\n",
       "                        <td id=\"T_4b97e_row7_col6\" class=\"data row7 col6\" >0.7308</td>\n",
       "                        <td id=\"T_4b97e_row7_col7\" class=\"data row7 col7\" >0.7382</td>\n",
       "                        <td id=\"T_4b97e_row7_col8\" class=\"data row7 col8\" >1.1180</td>\n",
       "            </tr>\n",
       "            <tr>\n",
       "                        <th id=\"T_4b97e_level0_row8\" class=\"row_heading level0 row8\" >knn</th>\n",
       "                        <td id=\"T_4b97e_row8_col0\" class=\"data row8 col0\" >K Neighbors Classifier</td>\n",
       "                        <td id=\"T_4b97e_row8_col1\" class=\"data row8 col1\" >0.9542</td>\n",
       "                        <td id=\"T_4b97e_row8_col2\" class=\"data row8 col2\" >0.9290</td>\n",
       "                        <td id=\"T_4b97e_row8_col3\" class=\"data row8 col3\" >0.5372</td>\n",
       "                        <td id=\"T_4b97e_row8_col4\" class=\"data row8 col4\" >0.9852</td>\n",
       "                        <td id=\"T_4b97e_row8_col5\" class=\"data row8 col5\" >0.6946</td>\n",
       "                        <td id=\"T_4b97e_row8_col6\" class=\"data row8 col6\" >0.6722</td>\n",
       "                        <td id=\"T_4b97e_row8_col7\" class=\"data row8 col7\" >0.7088</td>\n",
       "                        <td id=\"T_4b97e_row8_col8\" class=\"data row8 col8\" >0.2060</td>\n",
       "            </tr>\n",
       "            <tr>\n",
       "                        <th id=\"T_4b97e_level0_row9\" class=\"row_heading level0 row9\" >svm</th>\n",
       "                        <td id=\"T_4b97e_row9_col0\" class=\"data row9 col0\" >SVM - Linear Kernel</td>\n",
       "                        <td id=\"T_4b97e_row9_col1\" class=\"data row9 col1\" >0.9482</td>\n",
       "                        <td id=\"T_4b97e_row9_col2\" class=\"data row9 col2\" >0.0000</td>\n",
       "                        <td id=\"T_4b97e_row9_col3\" class=\"data row9 col3\" >0.7172</td>\n",
       "                        <td id=\"T_4b97e_row9_col4\" class=\"data row9 col4\" >0.7693</td>\n",
       "                        <td id=\"T_4b97e_row9_col5\" class=\"data row9 col5\" >0.7317</td>\n",
       "                        <td id=\"T_4b97e_row9_col6\" class=\"data row9 col6\" >0.7035</td>\n",
       "                        <td id=\"T_4b97e_row9_col7\" class=\"data row9 col7\" >0.7100</td>\n",
       "                        <td id=\"T_4b97e_row9_col8\" class=\"data row9 col8\" >0.2660</td>\n",
       "            </tr>\n",
       "            <tr>\n",
       "                        <th id=\"T_4b97e_level0_row10\" class=\"row_heading level0 row10\" >lda</th>\n",
       "                        <td id=\"T_4b97e_row10_col0\" class=\"data row10 col0\" >Linear Discriminant Analysis</td>\n",
       "                        <td id=\"T_4b97e_row10_col1\" class=\"data row10 col1\" >0.9470</td>\n",
       "                        <td id=\"T_4b97e_row10_col2\" class=\"data row10 col2\" >0.9629</td>\n",
       "                        <td id=\"T_4b97e_row10_col3\" class=\"data row10 col3\" >0.6272</td>\n",
       "                        <td id=\"T_4b97e_row10_col4\" class=\"data row10 col4\" >0.7887</td>\n",
       "                        <td id=\"T_4b97e_row10_col5\" class=\"data row10 col5\" >0.6972</td>\n",
       "                        <td id=\"T_4b97e_row10_col6\" class=\"data row10 col6\" >0.6686</td>\n",
       "                        <td id=\"T_4b97e_row10_col7\" class=\"data row10 col7\" >0.6747</td>\n",
       "                        <td id=\"T_4b97e_row10_col8\" class=\"data row10 col8\" >0.0160</td>\n",
       "            </tr>\n",
       "            <tr>\n",
       "                        <th id=\"T_4b97e_level0_row11\" class=\"row_heading level0 row11\" >ridge</th>\n",
       "                        <td id=\"T_4b97e_row11_col0\" class=\"data row11 col0\" >Ridge Classifier</td>\n",
       "                        <td id=\"T_4b97e_row11_col1\" class=\"data row11 col1\" >0.9372</td>\n",
       "                        <td id=\"T_4b97e_row11_col2\" class=\"data row11 col2\" >0.0000</td>\n",
       "                        <td id=\"T_4b97e_row11_col3\" class=\"data row11 col3\" >0.3779</td>\n",
       "                        <td id=\"T_4b97e_row11_col4\" class=\"data row11 col4\" >0.9459</td>\n",
       "                        <td id=\"T_4b97e_row11_col5\" class=\"data row11 col5\" >0.5386</td>\n",
       "                        <td id=\"T_4b97e_row11_col6\" class=\"data row11 col6\" >0.5116</td>\n",
       "                        <td id=\"T_4b97e_row11_col7\" class=\"data row11 col7\" >0.5749</td>\n",
       "                        <td id=\"T_4b97e_row11_col8\" class=\"data row11 col8\" >0.0100</td>\n",
       "            </tr>\n",
       "            <tr>\n",
       "                        <th id=\"T_4b97e_level0_row12\" class=\"row_heading level0 row12\" >nb</th>\n",
       "                        <td id=\"T_4b97e_row12_col0\" class=\"data row12 col0\" >Naive Bayes</td>\n",
       "                        <td id=\"T_4b97e_row12_col1\" class=\"data row12 col1\" >0.8975</td>\n",
       "                        <td id=\"T_4b97e_row12_col2\" class=\"data row12 col2\" >0.9365</td>\n",
       "                        <td id=\"T_4b97e_row12_col3\" class=\"data row12 col3\" >0.6093</td>\n",
       "                        <td id=\"T_4b97e_row12_col4\" class=\"data row12 col4\" >0.4810</td>\n",
       "                        <td id=\"T_4b97e_row12_col5\" class=\"data row12 col5\" >0.5368</td>\n",
       "                        <td id=\"T_4b97e_row12_col6\" class=\"data row12 col6\" >0.4802</td>\n",
       "                        <td id=\"T_4b97e_row12_col7\" class=\"data row12 col7\" >0.4849</td>\n",
       "                        <td id=\"T_4b97e_row12_col8\" class=\"data row12 col8\" >0.0140</td>\n",
       "            </tr>\n",
       "            <tr>\n",
       "                        <th id=\"T_4b97e_level0_row13\" class=\"row_heading level0 row13\" >qda</th>\n",
       "                        <td id=\"T_4b97e_row13_col0\" class=\"data row13 col0\" >Quadratic Discriminant Analysis</td>\n",
       "                        <td id=\"T_4b97e_row13_col1\" class=\"data row13 col1\" >0.3552</td>\n",
       "                        <td id=\"T_4b97e_row13_col2\" class=\"data row13 col2\" >0.5283</td>\n",
       "                        <td id=\"T_4b97e_row13_col3\" class=\"data row13 col3\" >0.7431</td>\n",
       "                        <td id=\"T_4b97e_row13_col4\" class=\"data row13 col4\" >0.1088</td>\n",
       "                        <td id=\"T_4b97e_row13_col5\" class=\"data row13 col5\" >0.1874</td>\n",
       "                        <td id=\"T_4b97e_row13_col6\" class=\"data row13 col6\" >0.0224</td>\n",
       "                        <td id=\"T_4b97e_row13_col7\" class=\"data row13 col7\" >0.0323</td>\n",
       "                        <td id=\"T_4b97e_row13_col8\" class=\"data row13 col8\" >0.0420</td>\n",
       "            </tr>\n",
       "    </tbody></table>"
      ],
      "text/plain": [
       "<pandas.io.formats.style.Styler at 0x196b551b588>"
      ]
     },
     "metadata": {},
     "output_type": "display_data"
    }
   ],
   "source": [
    "#Selecting top3 models for tuning\n",
    "top3_models=compare_models(n_select=3, fold=5)"
   ]
  },
  {
   "cell_type": "code",
   "execution_count": 12,
   "metadata": {
    "colab": {
     "base_uri": "https://localhost:8080/"
    },
    "executionInfo": {
     "elapsed": 814,
     "status": "ok",
     "timestamp": 1615342511071,
     "user": {
      "displayName": "sukuna mani",
      "photoUrl": "",
      "userId": "00180303595658708163"
     },
     "user_tz": -330
    },
    "id": "UvYuqotGWh30",
    "outputId": "aec79e9b-c08d-41f0-e279-edefc61e15c8"
   },
   "outputs": [
    {
     "name": "stdout",
     "output_type": "stream",
     "text": [
      "[XGBClassifier(base_score=0.5, booster='gbtree', colsample_bylevel=1,\n",
      "              colsample_bynode=1, colsample_bytree=1, gamma=0, gpu_id=-1,\n",
      "              importance_type='gain', interaction_constraints='',\n",
      "              learning_rate=0.300000012, max_delta_step=0, max_depth=6,\n",
      "              min_child_weight=1, missing=nan, monotone_constraints='()',\n",
      "              n_estimators=100, n_jobs=-1, num_parallel_tree=1,\n",
      "              objective='binary:logistic', random_state=272, reg_alpha=0,\n",
      "              reg_lambda=1, scale_pos_weight=1, subsample=1, tree_method='auto',\n",
      "              use_label_encoder=True, validate_parameters=1, verbosity=0), GradientBoostingClassifier(ccp_alpha=0.0, criterion='friedman_mse', init=None,\n",
      "                           learning_rate=0.1, loss='deviance', max_depth=3,\n",
      "                           max_features=None, max_leaf_nodes=None,\n",
      "                           min_impurity_decrease=0.0, min_impurity_split=None,\n",
      "                           min_samples_leaf=1, min_samples_split=2,\n",
      "                           min_weight_fraction_leaf=0.0, n_estimators=100,\n",
      "                           n_iter_no_change=None, presort='deprecated',\n",
      "                           random_state=272, subsample=1.0, tol=0.0001,\n",
      "                           validation_fraction=0.1, verbose=0,\n",
      "                           warm_start=False), RandomForestClassifier(bootstrap=True, ccp_alpha=0.0, class_weight=None,\n",
      "                       criterion='gini', max_depth=None, max_features='auto',\n",
      "                       max_leaf_nodes=None, max_samples=None,\n",
      "                       min_impurity_decrease=0.0, min_impurity_split=None,\n",
      "                       min_samples_leaf=1, min_samples_split=2,\n",
      "                       min_weight_fraction_leaf=0.0, n_estimators=100,\n",
      "                       n_jobs=-1, oob_score=False, random_state=272, verbose=0,\n",
      "                       warm_start=False)]\n"
     ]
    }
   ],
   "source": [
    "print(top3_models)"
   ]
  },
  {
   "cell_type": "code",
   "execution_count": 2,
   "metadata": {},
   "outputs": [],
   "source": [
    "# to-do\n",
    "# separate notebooks, have basic ones in first\n",
    "# then tune it using hyperparamaters\n",
    "# then use ensembling, stacking and blending\n",
    "\n",
    "# same for regression, classification"
   ]
  },
  {
   "cell_type": "markdown",
   "metadata": {},
   "source": [
    "## Tuning Models\n",
    "* Compare model just evaluates using the default hyperparameters, tune model will use cross validation to tune the models, here we will tune top 3 models selected in compare models."
   ]
  },
  {
   "cell_type": "markdown",
   "metadata": {},
   "source": [
    "#### NOTE: hyperparameter tuning is performed in a separate notebook,"
   ]
  },
  {
   "cell_type": "code",
   "execution_count": 13,
   "metadata": {},
   "outputs": [
    {
     "data": {
      "text/html": [
       "<style  type=\"text/css\" >\n",
       "#T_1b1a6_row5_col0,#T_1b1a6_row5_col1,#T_1b1a6_row5_col2,#T_1b1a6_row5_col3,#T_1b1a6_row5_col4,#T_1b1a6_row5_col5,#T_1b1a6_row5_col6{\n",
       "            background:  yellow;\n",
       "        }</style><table id=\"T_1b1a6_\" ><thead>    <tr>        <th class=\"blank level0\" ></th>        <th class=\"col_heading level0 col0\" >Accuracy</th>        <th class=\"col_heading level0 col1\" >AUC</th>        <th class=\"col_heading level0 col2\" >Recall</th>        <th class=\"col_heading level0 col3\" >Prec.</th>        <th class=\"col_heading level0 col4\" >F1</th>        <th class=\"col_heading level0 col5\" >Kappa</th>        <th class=\"col_heading level0 col6\" >MCC</th>    </tr></thead><tbody>\n",
       "                <tr>\n",
       "                        <th id=\"T_1b1a6_level0_row0\" class=\"row_heading level0 row0\" >0</th>\n",
       "                        <td id=\"T_1b1a6_row0_col0\" class=\"data row0 col0\" >0.9875</td>\n",
       "                        <td id=\"T_1b1a6_row0_col1\" class=\"data row0 col1\" >0.9907</td>\n",
       "                        <td id=\"T_1b1a6_row0_col2\" class=\"data row0 col2\" >0.9481</td>\n",
       "                        <td id=\"T_1b1a6_row0_col3\" class=\"data row0 col3\" >0.9241</td>\n",
       "                        <td id=\"T_1b1a6_row0_col4\" class=\"data row0 col4\" >0.9359</td>\n",
       "                        <td id=\"T_1b1a6_row0_col5\" class=\"data row0 col5\" >0.9290</td>\n",
       "                        <td id=\"T_1b1a6_row0_col6\" class=\"data row0 col6\" >0.9291</td>\n",
       "            </tr>\n",
       "            <tr>\n",
       "                        <th id=\"T_1b1a6_level0_row1\" class=\"row_heading level0 row1\" >1</th>\n",
       "                        <td id=\"T_1b1a6_row1_col0\" class=\"data row1 col0\" >0.9875</td>\n",
       "                        <td id=\"T_1b1a6_row1_col1\" class=\"data row1 col1\" >0.9942</td>\n",
       "                        <td id=\"T_1b1a6_row1_col2\" class=\"data row1 col2\" >0.9103</td>\n",
       "                        <td id=\"T_1b1a6_row1_col3\" class=\"data row1 col3\" >0.9595</td>\n",
       "                        <td id=\"T_1b1a6_row1_col4\" class=\"data row1 col4\" >0.9342</td>\n",
       "                        <td id=\"T_1b1a6_row1_col5\" class=\"data row1 col5\" >0.9273</td>\n",
       "                        <td id=\"T_1b1a6_row1_col6\" class=\"data row1 col6\" >0.9277</td>\n",
       "            </tr>\n",
       "            <tr>\n",
       "                        <th id=\"T_1b1a6_level0_row2\" class=\"row_heading level0 row2\" >2</th>\n",
       "                        <td id=\"T_1b1a6_row2_col0\" class=\"data row2 col0\" >0.9788</td>\n",
       "                        <td id=\"T_1b1a6_row2_col1\" class=\"data row2 col1\" >0.9971</td>\n",
       "                        <td id=\"T_1b1a6_row2_col2\" class=\"data row2 col2\" >0.9744</td>\n",
       "                        <td id=\"T_1b1a6_row2_col3\" class=\"data row2 col3\" >0.8352</td>\n",
       "                        <td id=\"T_1b1a6_row2_col4\" class=\"data row2 col4\" >0.8994</td>\n",
       "                        <td id=\"T_1b1a6_row2_col5\" class=\"data row2 col5\" >0.8876</td>\n",
       "                        <td id=\"T_1b1a6_row2_col6\" class=\"data row2 col6\" >0.8909</td>\n",
       "            </tr>\n",
       "            <tr>\n",
       "                        <th id=\"T_1b1a6_level0_row3\" class=\"row_heading level0 row3\" >3</th>\n",
       "                        <td id=\"T_1b1a6_row3_col0\" class=\"data row3 col0\" >0.9850</td>\n",
       "                        <td id=\"T_1b1a6_row3_col1\" class=\"data row3 col1\" >0.9976</td>\n",
       "                        <td id=\"T_1b1a6_row3_col2\" class=\"data row3 col2\" >0.9615</td>\n",
       "                        <td id=\"T_1b1a6_row3_col3\" class=\"data row3 col3\" >0.8929</td>\n",
       "                        <td id=\"T_1b1a6_row3_col4\" class=\"data row3 col4\" >0.9259</td>\n",
       "                        <td id=\"T_1b1a6_row3_col5\" class=\"data row3 col5\" >0.9176</td>\n",
       "                        <td id=\"T_1b1a6_row3_col6\" class=\"data row3 col6\" >0.9184</td>\n",
       "            </tr>\n",
       "            <tr>\n",
       "                        <th id=\"T_1b1a6_level0_row4\" class=\"row_heading level0 row4\" >4</th>\n",
       "                        <td id=\"T_1b1a6_row4_col0\" class=\"data row4 col0\" >0.9788</td>\n",
       "                        <td id=\"T_1b1a6_row4_col1\" class=\"data row4 col1\" >0.9917</td>\n",
       "                        <td id=\"T_1b1a6_row4_col2\" class=\"data row4 col2\" >0.9103</td>\n",
       "                        <td id=\"T_1b1a6_row4_col3\" class=\"data row4 col3\" >0.8765</td>\n",
       "                        <td id=\"T_1b1a6_row4_col4\" class=\"data row4 col4\" >0.8931</td>\n",
       "                        <td id=\"T_1b1a6_row4_col5\" class=\"data row4 col5\" >0.8813</td>\n",
       "                        <td id=\"T_1b1a6_row4_col6\" class=\"data row4 col6\" >0.8815</td>\n",
       "            </tr>\n",
       "            <tr>\n",
       "                        <th id=\"T_1b1a6_level0_row5\" class=\"row_heading level0 row5\" >Mean</th>\n",
       "                        <td id=\"T_1b1a6_row5_col0\" class=\"data row5 col0\" >0.9835</td>\n",
       "                        <td id=\"T_1b1a6_row5_col1\" class=\"data row5 col1\" >0.9943</td>\n",
       "                        <td id=\"T_1b1a6_row5_col2\" class=\"data row5 col2\" >0.9409</td>\n",
       "                        <td id=\"T_1b1a6_row5_col3\" class=\"data row5 col3\" >0.8976</td>\n",
       "                        <td id=\"T_1b1a6_row5_col4\" class=\"data row5 col4\" >0.9177</td>\n",
       "                        <td id=\"T_1b1a6_row5_col5\" class=\"data row5 col5\" >0.9086</td>\n",
       "                        <td id=\"T_1b1a6_row5_col6\" class=\"data row5 col6\" >0.9095</td>\n",
       "            </tr>\n",
       "            <tr>\n",
       "                        <th id=\"T_1b1a6_level0_row6\" class=\"row_heading level0 row6\" >SD</th>\n",
       "                        <td id=\"T_1b1a6_row6_col0\" class=\"data row6 col0\" >0.0040</td>\n",
       "                        <td id=\"T_1b1a6_row6_col1\" class=\"data row6 col1\" >0.0028</td>\n",
       "                        <td id=\"T_1b1a6_row6_col2\" class=\"data row6 col2\" >0.0264</td>\n",
       "                        <td id=\"T_1b1a6_row6_col3\" class=\"data row6 col3\" >0.0422</td>\n",
       "                        <td id=\"T_1b1a6_row6_col4\" class=\"data row6 col4\" >0.0180</td>\n",
       "                        <td id=\"T_1b1a6_row6_col5\" class=\"data row6 col5\" >0.0202</td>\n",
       "                        <td id=\"T_1b1a6_row6_col6\" class=\"data row6 col6\" >0.0196</td>\n",
       "            </tr>\n",
       "    </tbody></table>"
      ],
      "text/plain": [
       "<pandas.io.formats.style.Styler at 0x196b52dd9c8>"
      ]
     },
     "metadata": {},
     "output_type": "display_data"
    },
    {
     "data": {
      "text/plain": [
       "XGBClassifier(base_score=0.5, booster='gbtree', colsample_bylevel=1,\n",
       "              colsample_bynode=1, colsample_bytree=0.7, gamma=0, gpu_id=-1,\n",
       "              importance_type='gain', interaction_constraints='',\n",
       "              learning_rate=0.3, max_delta_step=0, max_depth=2,\n",
       "              min_child_weight=3, missing=nan, monotone_constraints='()',\n",
       "              n_estimators=300, n_jobs=-1, num_parallel_tree=1,\n",
       "              objective='binary:logistic', random_state=272, reg_alpha=0.4,\n",
       "              reg_lambda=0.05, scale_pos_weight=31.900000000000006,\n",
       "              subsample=0.9, tree_method='auto', use_label_encoder=True,\n",
       "              validate_parameters=1, verbosity=0)"
      ]
     },
     "execution_count": 13,
     "metadata": {},
     "output_type": "execute_result"
    }
   ],
   "source": [
    "tune_model(top3_models[0])"
   ]
  },
  {
   "cell_type": "code",
   "execution_count": 9,
   "metadata": {},
   "outputs": [],
   "source": [
    "# tune_model(top3_models[1])"
   ]
  },
  {
   "cell_type": "code",
   "execution_count": 10,
   "metadata": {},
   "outputs": [],
   "source": [
    "# tune_model(top3_models[2])"
   ]
  },
  {
   "cell_type": "code",
   "execution_count": 11,
   "metadata": {
    "colab": {
     "base_uri": "https://localhost:8080/",
     "height": 407,
     "referenced_widgets": [
      "c71c2133ce6f47a092b725d47072e6fb",
      "0c3bdd5b5d1a4e76ac841aa46ec51a6e",
      "dc21aa4a58cd4d4ca47c18a220063c2e",
      "0dbd3ab89f1f46bb8cdd0245d5918669",
      "82b32e1c787b4fb3898b64e35302c65b",
      "f12678d3148f4b679397c85c38eb8ebb",
      "ca8b05d618ec43189c4e68e00c269725",
      "4139350976fd450db7f2efc3f58da03b",
      "fe66f8744dcb49c4a7e253fe35a4efdb"
     ]
    },
    "executionInfo": {
     "elapsed": 167640,
     "status": "ok",
     "timestamp": 1615342689267,
     "user": {
      "displayName": "sukuna mani",
      "photoUrl": "",
      "userId": "00180303595658708163"
     },
     "user_tz": -330
    },
    "id": "5FnvzbfIUm6v",
    "outputId": "9182b1a3-ae09-4310-fb3b-c2dee268c8e4"
   },
   "outputs": [],
   "source": [
    "#Tuning the top 3 models\n",
    "#tuned_model_top3=[tune_model(i) for i in top3_models]"
   ]
  },
  {
   "cell_type": "code",
   "execution_count": 12,
   "metadata": {
    "colab": {
     "base_uri": "https://localhost:8080/"
    },
    "executionInfo": {
     "elapsed": 1089,
     "status": "ok",
     "timestamp": 1615342702662,
     "user": {
      "displayName": "sukuna mani",
      "photoUrl": "",
      "userId": "00180303595658708163"
     },
     "user_tz": -330
    },
    "id": "zjpk1R0OXCeT",
    "outputId": "dc891444-06cb-46dd-eafa-9ba49d922127"
   },
   "outputs": [],
   "source": [
    "#print(tuned_model_top3)"
   ]
  },
  {
   "cell_type": "markdown",
   "metadata": {},
   "source": [
    "## Ensembling\n",
    "* Create ensemble using the top 3 tuned model"
   ]
  },
  {
   "cell_type": "markdown",
   "metadata": {},
   "source": [
    "NOTE: Notice the output of a cell is for last model executed. Not all three."
   ]
  },
  {
   "cell_type": "code",
   "execution_count": 13,
   "metadata": {
    "colab": {
     "base_uri": "https://localhost:8080/",
     "height": 407,
     "referenced_widgets": [
      "d939287f95974d6e9e35bb8202c7e6c6",
      "7acd167981ce4db98093d64306f34005",
      "19e7295cee05401e94148bc99acf4e8d",
      "3e971f1688d84f329232a7092fde6c11",
      "eb14e0b9e3364195bea8c75759d1faa8",
      "67289b08177e45f487628501a4b29c0c",
      "2b2e2de0ed6e4588b27097b747ac4bf9",
      "f7143bdc115945029c8b50de5518d270",
      "62a67b62963e478c8fb082a798ec1a8f"
     ]
    },
    "executionInfo": {
     "elapsed": 53164,
     "status": "ok",
     "timestamp": 1615342759978,
     "user": {
      "displayName": "sukuna mani",
      "photoUrl": "",
      "userId": "00180303595658708163"
     },
     "user_tz": -330
    },
    "id": "EL8y1PzLcM5a",
    "outputId": "8821bc78-26d5-4628-d3db-a2bab857843b"
   },
   "outputs": [],
   "source": [
    "## Ensembling top 3 tuned models\n",
    "# bagged_tuned_top3=[ensemble_model(i,method='Bagging') for i in tuned_model_top3]"
   ]
  },
  {
   "cell_type": "code",
   "execution_count": 14,
   "metadata": {
    "colab": {
     "base_uri": "https://localhost:8080/"
    },
    "executionInfo": {
     "elapsed": 845,
     "status": "ok",
     "timestamp": 1615342793883,
     "user": {
      "displayName": "sukuna mani",
      "photoUrl": "",
      "userId": "00180303595658708163"
     },
     "user_tz": -330
    },
    "id": "FfytTYUqSgYy",
    "outputId": "cb72ec72-3911-436a-be45-2859bdb54aa7"
   },
   "outputs": [],
   "source": [
    "# print(bagged_tuned_top3)"
   ]
  },
  {
   "cell_type": "markdown",
   "metadata": {},
   "source": [
    "## Blending Models"
   ]
  },
  {
   "cell_type": "code",
   "execution_count": 15,
   "metadata": {
    "colab": {
     "base_uri": "https://localhost:8080/",
     "height": 407,
     "referenced_widgets": [
      "3c220e2447ab4bd4aa58e33b47bb42f9",
      "b1772c737686411f810a4e73769ef99e",
      "540ccdcb8fbc4a52a936026fe494cda7"
     ]
    },
    "executionInfo": {
     "elapsed": 11187,
     "status": "ok",
     "timestamp": 1615342809645,
     "user": {
      "displayName": "sukuna mani",
      "photoUrl": "",
      "userId": "00180303595658708163"
     },
     "user_tz": -330
    },
    "id": "dV4AaWzlf7en",
    "outputId": "5991e54f-2f09-49c2-f2e8-334171b16854"
   },
   "outputs": [],
   "source": [
    "## Blend top3 models\n",
    "# blender=blend_models(estimator_list=top3_models)"
   ]
  },
  {
   "cell_type": "markdown",
   "metadata": {},
   "source": [
    "## Stacking models"
   ]
  },
  {
   "cell_type": "code",
   "execution_count": 16,
   "metadata": {
    "colab": {
     "base_uri": "https://localhost:8080/",
     "height": 407,
     "referenced_widgets": [
      "f6fe16b889434f6fbaf6c25f1a382fa8",
      "16602f1db065474b923b2b145e6177e3",
      "810a1bbaf4b7472bad587eb48d326e9d"
     ]
    },
    "executionInfo": {
     "elapsed": 107896,
     "status": "ok",
     "timestamp": 1615342938605,
     "user": {
      "displayName": "sukuna mani",
      "photoUrl": "",
      "userId": "00180303595658708163"
     },
     "user_tz": -330
    },
    "id": "GeZvLd5LgPKq",
    "outputId": "6b37ac45-7548-4e02-fc3e-5c5920b491d8"
   },
   "outputs": [],
   "source": [
    "# stacker=stack_models(top3_models)"
   ]
  },
  {
   "cell_type": "markdown",
   "metadata": {},
   "source": [
    "## Plot Model results"
   ]
  },
  {
   "cell_type": "code",
   "execution_count": 14,
   "metadata": {},
   "outputs": [
    {
     "data": {
      "image/png": "[encoded data removed]",
      "text/plain": [
       "<Figure size 576x396 with 1 Axes>"
      ]
     },
     "metadata": {},
     "output_type": "display_data"
    }
   ],
   "source": [
    "plot_model(top3_models[0])"
   ]
  },
  {
   "cell_type": "code",
   "execution_count": 24,
   "metadata": {},
   "outputs": [],
   "source": [
    "# plot_model(top3_models[1])"
   ]
  },
  {
   "cell_type": "code",
   "execution_count": 25,
   "metadata": {},
   "outputs": [],
   "source": [
    "# plot_model(top3_models[2])"
   ]
  },
  {
   "cell_type": "markdown",
   "metadata": {},
   "source": [
    "## Evaluate Models"
   ]
  },
  {
   "cell_type": "code",
   "execution_count": 15,
   "metadata": {},
   "outputs": [
    {
     "data": {
      "application/vnd.jupyter.widget-view+json": {
       "model_id": "3b0cb823057b41dfa832b291400556ce",
       "version_major": 2,
       "version_minor": 0
      },
      "text/plain": [
       "interactive(children=(ToggleButtons(description='Plot Type:', icons=('',), options=(('Hyperparameters', 'param…"
      ]
     },
     "metadata": {},
     "output_type": "display_data"
    }
   ],
   "source": [
    "evaluate_model(top3_models[0])"
   ]
  },
  {
   "cell_type": "code",
   "execution_count": 22,
   "metadata": {},
   "outputs": [],
   "source": [
    "# evaluate_model(top3_models[1])"
   ]
  },
  {
   "cell_type": "code",
   "execution_count": 23,
   "metadata": {},
   "outputs": [],
   "source": [
    "# evaluate_model(top3_models[2])"
   ]
  },
  {
   "cell_type": "markdown",
   "metadata": {},
   "source": [
    "# 2. Explainability Techniques"
   ]
  },
  {
   "cell_type": "markdown",
   "metadata": {},
   "source": [
    "* Read more on using pycaret models separately with SHAP\n",
    "* Or better how to work with SHAP in pycaret"
   ]
  },
  {
   "cell_type": "code",
   "execution_count": 16,
   "metadata": {
    "colab": {
     "base_uri": "https://localhost:8080/"
    },
    "executionInfo": {
     "elapsed": 9452,
     "status": "ok",
     "timestamp": 1615343050364,
     "user": {
      "displayName": "sukuna mani",
      "photoUrl": "",
      "userId": "00180303595658708163"
     },
     "user_tz": -330
    },
    "id": "lGzO5CopXbNW",
    "outputId": "bf2fb5bd-e258-4ce7-c05e-5fcb29e0a49f"
   },
   "outputs": [],
   "source": [
    "# !pip install shap"
   ]
  },
  {
   "cell_type": "code",
   "execution_count": 17,
   "metadata": {
    "colab": {
     "base_uri": "https://localhost:8080/"
    },
    "executionInfo": {
     "elapsed": 1067,
     "status": "ok",
     "timestamp": 1615355782154,
     "user": {
      "displayName": "sukuna mani",
      "photoUrl": "",
      "userId": "00180303595658708163"
     },
     "user_tz": -330
    },
    "id": "XKw4ZHultRGe",
    "outputId": "08c6b83e-51e9-4d30-ca87-fbc37caf3b72"
   },
   "outputs": [
    {
     "data": {
      "text/plain": [
       "XGBClassifier(base_score=0.5, booster='gbtree', colsample_bylevel=1,\n",
       "              colsample_bynode=1, colsample_bytree=1, gamma=0, gpu_id=-1,\n",
       "              importance_type='gain', interaction_constraints='',\n",
       "              learning_rate=0.300000012, max_delta_step=0, max_depth=6,\n",
       "              min_child_weight=1, missing=nan, monotone_constraints='()',\n",
       "              n_estimators=100, n_jobs=-1, num_parallel_tree=1,\n",
       "              objective='binary:logistic', random_state=272, reg_alpha=0,\n",
       "              reg_lambda=1, scale_pos_weight=1, subsample=1, tree_method='auto',\n",
       "              use_label_encoder=True, validate_parameters=1, verbosity=0)"
      ]
     },
     "execution_count": 17,
     "metadata": {},
     "output_type": "execute_result"
    }
   ],
   "source": [
    "final_model = top3_models[0]\n",
    "final_model"
   ]
  },
  {
   "cell_type": "code",
   "execution_count": 29,
   "metadata": {
    "executionInfo": {
     "elapsed": 1018,
     "status": "ok",
     "timestamp": 1615356877110,
     "user": {
      "displayName": "sukuna mani",
      "photoUrl": "",
      "userId": "00180303595658708163"
     },
     "user_tz": -330
    },
    "id": "ngQ3X-Sy7HF9"
   },
   "outputs": [],
   "source": [
    "import shap\n",
    "explainer = shap.Explainer(final_model)"
   ]
  },
  {
   "cell_type": "code",
   "execution_count": 28,
   "metadata": {},
   "outputs": [
    {
     "data": {
      "text/html": [
       "<div>\n",
       "<style scoped>\n",
       "    .dataframe tbody tr th:only-of-type {\n",
       "        vertical-align: middle;\n",
       "    }\n",
       "\n",
       "    .dataframe tbody tr th {\n",
       "        vertical-align: top;\n",
       "    }\n",
       "\n",
       "    .dataframe thead th {\n",
       "        text-align: right;\n",
       "    }\n",
       "</style>\n",
       "<table border=\"1\" class=\"dataframe\">\n",
       "  <thead>\n",
       "    <tr style=\"text-align: right;\">\n",
       "      <th></th>\n",
       "      <th>Age</th>\n",
       "      <th>Experience</th>\n",
       "      <th>Income</th>\n",
       "      <th>ZIP Code</th>\n",
       "      <th>CCAvg</th>\n",
       "      <th>Mortgage</th>\n",
       "      <th>Family_-0.5</th>\n",
       "      <th>Family_0.0</th>\n",
       "      <th>Family_0.5</th>\n",
       "      <th>Family_1.0</th>\n",
       "      <th>Education_-0.5</th>\n",
       "      <th>Education_0.0</th>\n",
       "      <th>Education_0.5</th>\n",
       "      <th>Securities Account_0</th>\n",
       "      <th>CD Account_1</th>\n",
       "      <th>Online_0</th>\n",
       "      <th>CreditCard_1</th>\n",
       "      <th>Personal Loan</th>\n",
       "    </tr>\n",
       "    <tr>\n",
       "      <th>ID</th>\n",
       "      <th></th>\n",
       "      <th></th>\n",
       "      <th></th>\n",
       "      <th></th>\n",
       "      <th></th>\n",
       "      <th></th>\n",
       "      <th></th>\n",
       "      <th></th>\n",
       "      <th></th>\n",
       "      <th></th>\n",
       "      <th></th>\n",
       "      <th></th>\n",
       "      <th></th>\n",
       "      <th></th>\n",
       "      <th></th>\n",
       "      <th></th>\n",
       "      <th></th>\n",
       "      <th></th>\n",
       "    </tr>\n",
       "  </thead>\n",
       "  <tbody>\n",
       "    <tr>\n",
       "      <th>3750</th>\n",
       "      <td>-0.10</td>\n",
       "      <td>-0.05</td>\n",
       "      <td>0.101695</td>\n",
       "      <td>-1.239155</td>\n",
       "      <td>0.462963</td>\n",
       "      <td>0.000000</td>\n",
       "      <td>0.0</td>\n",
       "      <td>0.0</td>\n",
       "      <td>1.0</td>\n",
       "      <td>0.0</td>\n",
       "      <td>1.0</td>\n",
       "      <td>0.0</td>\n",
       "      <td>0.0</td>\n",
       "      <td>1.0</td>\n",
       "      <td>0.0</td>\n",
       "      <td>1.0</td>\n",
       "      <td>0.0</td>\n",
       "      <td>0</td>\n",
       "    </tr>\n",
       "    <tr>\n",
       "      <th>4698</th>\n",
       "      <td>0.20</td>\n",
       "      <td>0.10</td>\n",
       "      <td>0.661017</td>\n",
       "      <td>-0.781238</td>\n",
       "      <td>0.277778</td>\n",
       "      <td>1.653465</td>\n",
       "      <td>0.0</td>\n",
       "      <td>0.0</td>\n",
       "      <td>1.0</td>\n",
       "      <td>0.0</td>\n",
       "      <td>0.0</td>\n",
       "      <td>1.0</td>\n",
       "      <td>0.0</td>\n",
       "      <td>1.0</td>\n",
       "      <td>0.0</td>\n",
       "      <td>0.0</td>\n",
       "      <td>0.0</td>\n",
       "      <td>0</td>\n",
       "    </tr>\n",
       "    <tr>\n",
       "      <th>1738</th>\n",
       "      <td>-0.05</td>\n",
       "      <td>-0.05</td>\n",
       "      <td>0.101695</td>\n",
       "      <td>-0.384872</td>\n",
       "      <td>-0.722222</td>\n",
       "      <td>2.277228</td>\n",
       "      <td>1.0</td>\n",
       "      <td>0.0</td>\n",
       "      <td>0.0</td>\n",
       "      <td>0.0</td>\n",
       "      <td>0.0</td>\n",
       "      <td>1.0</td>\n",
       "      <td>0.0</td>\n",
       "      <td>0.0</td>\n",
       "      <td>0.0</td>\n",
       "      <td>0.0</td>\n",
       "      <td>0.0</td>\n",
       "      <td>0</td>\n",
       "    </tr>\n",
       "    <tr>\n",
       "      <th>319</th>\n",
       "      <td>-0.90</td>\n",
       "      <td>-0.90</td>\n",
       "      <td>0.779661</td>\n",
       "      <td>0.827957</td>\n",
       "      <td>0.166667</td>\n",
       "      <td>1.881188</td>\n",
       "      <td>0.0</td>\n",
       "      <td>0.0</td>\n",
       "      <td>0.0</td>\n",
       "      <td>1.0</td>\n",
       "      <td>0.0</td>\n",
       "      <td>0.0</td>\n",
       "      <td>1.0</td>\n",
       "      <td>1.0</td>\n",
       "      <td>0.0</td>\n",
       "      <td>1.0</td>\n",
       "      <td>0.0</td>\n",
       "      <td>0</td>\n",
       "    </tr>\n",
       "    <tr>\n",
       "      <th>1309</th>\n",
       "      <td>0.45</td>\n",
       "      <td>0.20</td>\n",
       "      <td>-0.237288</td>\n",
       "      <td>-0.519095</td>\n",
       "      <td>0.277778</td>\n",
       "      <td>0.000000</td>\n",
       "      <td>0.0</td>\n",
       "      <td>0.0</td>\n",
       "      <td>1.0</td>\n",
       "      <td>0.0</td>\n",
       "      <td>0.0</td>\n",
       "      <td>0.0</td>\n",
       "      <td>1.0</td>\n",
       "      <td>1.0</td>\n",
       "      <td>0.0</td>\n",
       "      <td>1.0</td>\n",
       "      <td>1.0</td>\n",
       "      <td>0</td>\n",
       "    </tr>\n",
       "  </tbody>\n",
       "</table>\n",
       "</div>"
      ],
      "text/plain": [
       "       Age  Experience    Income  ZIP Code     CCAvg  Mortgage  Family_-0.5  \\\n",
       "ID                                                                            \n",
       "3750 -0.10       -0.05  0.101695 -1.239155  0.462963  0.000000          0.0   \n",
       "4698  0.20        0.10  0.661017 -0.781238  0.277778  1.653465          0.0   \n",
       "1738 -0.05       -0.05  0.101695 -0.384872 -0.722222  2.277228          1.0   \n",
       "319  -0.90       -0.90  0.779661  0.827957  0.166667  1.881188          0.0   \n",
       "1309  0.45        0.20 -0.237288 -0.519095  0.277778  0.000000          0.0   \n",
       "\n",
       "      Family_0.0  Family_0.5  Family_1.0  Education_-0.5  Education_0.0  \\\n",
       "ID                                                                        \n",
       "3750         0.0         1.0         0.0             1.0            0.0   \n",
       "4698         0.0         1.0         0.0             0.0            1.0   \n",
       "1738         0.0         0.0         0.0             0.0            1.0   \n",
       "319          0.0         0.0         1.0             0.0            0.0   \n",
       "1309         0.0         1.0         0.0             0.0            0.0   \n",
       "\n",
       "      Education_0.5  Securities Account_0  CD Account_1  Online_0  \\\n",
       "ID                                                                  \n",
       "3750            0.0                   1.0           0.0       1.0   \n",
       "4698            0.0                   1.0           0.0       0.0   \n",
       "1738            0.0                   0.0           0.0       0.0   \n",
       "319             1.0                   1.0           0.0       1.0   \n",
       "1309            1.0                   1.0           0.0       1.0   \n",
       "\n",
       "      CreditCard_1  Personal Loan  \n",
       "ID                                 \n",
       "3750           0.0              0  \n",
       "4698           0.0              0  \n",
       "1738           0.0              0  \n",
       "319            0.0              0  \n",
       "1309           1.0              0  "
      ]
     },
     "execution_count": 28,
     "metadata": {},
     "output_type": "execute_result"
    }
   ],
   "source": [
    "# data is the information grid returned by the setup method, type is tuple\n",
    "# seems like second index contains the transformed dataframe\n",
    "transformed_df = data[5]\n",
    "transformed_df[target] = data[2]\n",
    "transformed_df.head()"
   ]
  },
  {
   "cell_type": "code",
   "execution_count": 31,
   "metadata": {
    "executionInfo": {
     "elapsed": 1018,
     "status": "ok",
     "timestamp": 1615356877110,
     "user": {
      "displayName": "sukuna mani",
      "photoUrl": "",
      "userId": "00180303595658708163"
     },
     "user_tz": -330
    },
    "id": "ngQ3X-Sy7HF9"
   },
   "outputs": [],
   "source": [
    "# #Error in this cell\n",
    "# shap_values = explainer(transformed_df, check_additivity=False)"
   ]
  },
  {
   "cell_type": "code",
   "execution_count": 44,
   "metadata": {
    "colab": {
     "base_uri": "https://localhost:8080/",
     "height": 310
    },
    "executionInfo": {
     "elapsed": 948,
     "status": "error",
     "timestamp": 1615356929745,
     "user": {
      "displayName": "sukuna mani",
      "photoUrl": "",
      "userId": "00180303595658708163"
     },
     "user_tz": -330
    },
    "id": "kjXbjkzl9UY5",
    "outputId": "f811a7a1-d1dd-4516-f154-a0b85b3bae8b"
   },
   "outputs": [],
   "source": [
    "# shap.plots.waterfall(shap_values[0])"
   ]
  },
  {
   "cell_type": "code",
   "execution_count": 45,
   "metadata": {
    "colab": {
     "base_uri": "https://localhost:8080/",
     "height": 193
    },
    "executionInfo": {
     "elapsed": 1551,
     "status": "ok",
     "timestamp": 1615355902898,
     "user": {
      "displayName": "sukuna mani",
      "photoUrl": "",
      "userId": "00180303595658708163"
     },
     "user_tz": -330
    },
    "id": "hfINilmt-t5J",
    "outputId": "12845cca-ffea-44c7-f131-28ec790e7b0e"
   },
   "outputs": [],
   "source": [
    "# shap.initjs()\n",
    "## Visualize first prediction\n",
    "# shap.plots.force(shap_values[2])"
   ]
  },
  {
   "cell_type": "code",
   "execution_count": 46,
   "metadata": {
    "colab": {
     "base_uri": "https://localhost:8080/",
     "height": 334
    },
    "executionInfo": {
     "elapsed": 927,
     "status": "error",
     "timestamp": 1615356402294,
     "user": {
      "displayName": "sukuna mani",
      "photoUrl": "",
      "userId": "00180303595658708163"
     },
     "user_tz": -330
    },
    "id": "wK2GHzHquJrh",
    "outputId": "9ef7344c-b0ab-43fe-b551-396186a414c2"
   },
   "outputs": [],
   "source": [
    "# display(shap.plots.force(explainer.expected_value[0], shap_values[0]))"
   ]
  },
  {
   "cell_type": "markdown",
   "metadata": {},
   "source": [
    "### SHAP on sample dataset"
   ]
  },
  {
   "cell_type": "code",
   "execution_count": 47,
   "metadata": {},
   "outputs": [],
   "source": [
    "# !pip install xgboost"
   ]
  },
  {
   "cell_type": "code",
   "execution_count": 48,
   "metadata": {
    "colab": {
     "base_uri": "https://localhost:8080/"
    },
    "executionInfo": {
     "elapsed": 924,
     "status": "ok",
     "timestamp": 1615356758127,
     "user": {
      "displayName": "sukuna mani",
      "photoUrl": "",
      "userId": "00180303595658708163"
     },
     "user_tz": -330
    },
    "id": "MBxoha0nugE1",
    "outputId": "10f10ef0-7b23-449f-8ed1-a032b08feef2"
   },
   "outputs": [],
   "source": [
    "import xgboost\n",
    "import shap\n",
    "\n",
    "# train an XGBoost model\n",
    "X, y = shap.datasets.boston()\n",
    "model = xgboost.XGBRegressor().fit(X, y)\n",
    "\n",
    "# explain the model's predictions using SHAP\n",
    "# (same syntax works for LightGBM, CatBoost, scikit-learn, transformers, Spark, etc.)\n",
    "explainer = shap.Explainer(model)\n",
    "shap_values = explainer(X)"
   ]
  },
  {
   "cell_type": "code",
   "execution_count": 49,
   "metadata": {
    "colab": {
     "base_uri": "https://localhost:8080/"
    },
    "executionInfo": {
     "elapsed": 1031,
     "status": "ok",
     "timestamp": 1615356782925,
     "user": {
      "displayName": "sukuna mani",
      "photoUrl": "",
      "userId": "00180303595658708163"
     },
     "user_tz": -330
    },
    "id": "QqNdWyUIw_t9",
    "outputId": "2e0e0949-9c35-4eaf-bafc-c3b5f9d5c4d4"
   },
   "outputs": [
    {
     "data": {
      "text/plain": [
       ".values =\n",
       "array([[-4.28501666e-01, -6.66367188e-02,  7.78602287e-02, ...,\n",
       "         2.56694555e-01, -5.39071299e-02,  5.78832483e+00],\n",
       "       [-1.59477890e-01, -3.92092764e-02, -9.65500847e-02, ...,\n",
       "         4.60188717e-01,  1.29054254e-03,  1.54787719e+00],\n",
       "       [-6.22594878e-02, -3.92413028e-02, -1.63524270e-01, ...,\n",
       "         3.61137800e-02,  2.09844872e-01,  7.91517401e+00],\n",
       "       ...,\n",
       "       [-3.46925646e-01, -1.13532774e-03, -9.87499580e-02, ...,\n",
       "        -2.10595775e+00, -8.69371593e-02,  2.02094817e+00],\n",
       "       [ 3.54982555e-01, -1.44685265e-02, -8.39682892e-02, ...,\n",
       "        -1.67015433e+00,  9.48226675e-02,  2.35491967e+00],\n",
       "       [-9.26840603e-01, -2.58212350e-03, -2.59856015e-01, ...,\n",
       "        -1.92664945e+00, -3.10639203e-01,  6.63177595e-02]], dtype=float32)\n",
       "\n",
       ".base_values =\n",
       "array([22.532942, 22.532942, 22.532942, 22.532942, 22.532942, 22.532942,\n",
       "       22.532942, 22.532942, 22.532942, 22.532942, 22.532942, 22.532942,\n",
       "       22.532942, 22.532942, 22.532942, 22.532942, 22.532942, 22.532942,\n",
       "       22.532942, 22.532942, 22.532942, 22.532942, 22.532942, 22.532942,\n",
       "       22.532942, 22.532942, 22.532942, 22.532942, 22.532942, 22.532942,\n",
       "       22.532942, 22.532942, 22.532942, 22.532942, 22.532942, 22.532942,\n",
       "       22.532942, 22.532942, 22.532942, 22.532942, 22.532942, 22.532942,\n",
       "       22.532942, 22.532942, 22.532942, 22.532942, 22.532942, 22.532942,\n",
       "       22.532942, 22.532942, 22.532942, 22.532942, 22.532942, 22.532942,\n",
       "       22.532942, 22.532942, 22.532942, 22.532942, 22.532942, 22.532942,\n",
       "       22.532942, 22.532942, 22.532942, 22.532942, 22.532942, 22.532942,\n",
       "       22.532942, 22.532942, 22.532942, 22.532942, 22.532942, 22.532942,\n",
       "       22.532942, 22.532942, 22.532942, 22.532942, 22.532942, 22.532942,\n",
       "       22.532942, 22.532942, 22.532942, 22.532942, 22.532942, 22.532942,\n",
       "       22.532942, 22.532942, 22.532942, 22.532942, 22.532942, 22.532942,\n",
       "       22.532942, 22.532942, 22.532942, 22.532942, 22.532942, 22.532942,\n",
       "       22.532942, 22.532942, 22.532942, 22.532942, 22.532942, 22.532942,\n",
       "       22.532942, 22.532942, 22.532942, 22.532942, 22.532942, 22.532942,\n",
       "       22.532942, 22.532942, 22.532942, 22.532942, 22.532942, 22.532942,\n",
       "       22.532942, 22.532942, 22.532942, 22.532942, 22.532942, 22.532942,\n",
       "       22.532942, 22.532942, 22.532942, 22.532942, 22.532942, 22.532942,\n",
       "       22.532942, 22.532942, 22.532942, 22.532942, 22.532942, 22.532942,\n",
       "       22.532942, 22.532942, 22.532942, 22.532942, 22.532942, 22.532942,\n",
       "       22.532942, 22.532942, 22.532942, 22.532942, 22.532942, 22.532942,\n",
       "       22.532942, 22.532942, 22.532942, 22.532942, 22.532942, 22.532942,\n",
       "       22.532942, 22.532942, 22.532942, 22.532942, 22.532942, 22.532942,\n",
       "       22.532942, 22.532942, 22.532942, 22.532942, 22.532942, 22.532942,\n",
       "       22.532942, 22.532942, 22.532942, 22.532942, 22.532942, 22.532942,\n",
       "       22.532942, 22.532942, 22.532942, 22.532942, 22.532942, 22.532942,\n",
       "       22.532942, 22.532942, 22.532942, 22.532942, 22.532942, 22.532942,\n",
       "       22.532942, 22.532942, 22.532942, 22.532942, 22.532942, 22.532942,\n",
       "       22.532942, 22.532942, 22.532942, 22.532942, 22.532942, 22.532942,\n",
       "       22.532942, 22.532942, 22.532942, 22.532942, 22.532942, 22.532942,\n",
       "       22.532942, 22.532942, 22.532942, 22.532942, 22.532942, 22.532942,\n",
       "       22.532942, 22.532942, 22.532942, 22.532942, 22.532942, 22.532942,\n",
       "       22.532942, 22.532942, 22.532942, 22.532942, 22.532942, 22.532942,\n",
       "       22.532942, 22.532942, 22.532942, 22.532942, 22.532942, 22.532942,\n",
       "       22.532942, 22.532942, 22.532942, 22.532942, 22.532942, 22.532942,\n",
       "       22.532942, 22.532942, 22.532942, 22.532942, 22.532942, 22.532942,\n",
       "       22.532942, 22.532942, 22.532942, 22.532942, 22.532942, 22.532942,\n",
       "       22.532942, 22.532942, 22.532942, 22.532942, 22.532942, 22.532942,\n",
       "       22.532942, 22.532942, 22.532942, 22.532942, 22.532942, 22.532942,\n",
       "       22.532942, 22.532942, 22.532942, 22.532942, 22.532942, 22.532942,\n",
       "       22.532942, 22.532942, 22.532942, 22.532942, 22.532942, 22.532942,\n",
       "       22.532942, 22.532942, 22.532942, 22.532942, 22.532942, 22.532942,\n",
       "       22.532942, 22.532942, 22.532942, 22.532942, 22.532942, 22.532942,\n",
       "       22.532942, 22.532942, 22.532942, 22.532942, 22.532942, 22.532942,\n",
       "       22.532942, 22.532942, 22.532942, 22.532942, 22.532942, 22.532942,\n",
       "       22.532942, 22.532942, 22.532942, 22.532942, 22.532942, 22.532942,\n",
       "       22.532942, 22.532942, 22.532942, 22.532942, 22.532942, 22.532942,\n",
       "       22.532942, 22.532942, 22.532942, 22.532942, 22.532942, 22.532942,\n",
       "       22.532942, 22.532942, 22.532942, 22.532942, 22.532942, 22.532942,\n",
       "       22.532942, 22.532942, 22.532942, 22.532942, 22.532942, 22.532942,\n",
       "       22.532942, 22.532942, 22.532942, 22.532942, 22.532942, 22.532942,\n",
       "       22.532942, 22.532942, 22.532942, 22.532942, 22.532942, 22.532942,\n",
       "       22.532942, 22.532942, 22.532942, 22.532942, 22.532942, 22.532942,\n",
       "       22.532942, 22.532942, 22.532942, 22.532942, 22.532942, 22.532942,\n",
       "       22.532942, 22.532942, 22.532942, 22.532942, 22.532942, 22.532942,\n",
       "       22.532942, 22.532942, 22.532942, 22.532942, 22.532942, 22.532942,\n",
       "       22.532942, 22.532942, 22.532942, 22.532942, 22.532942, 22.532942,\n",
       "       22.532942, 22.532942, 22.532942, 22.532942, 22.532942, 22.532942,\n",
       "       22.532942, 22.532942, 22.532942, 22.532942, 22.532942, 22.532942,\n",
       "       22.532942, 22.532942, 22.532942, 22.532942, 22.532942, 22.532942,\n",
       "       22.532942, 22.532942, 22.532942, 22.532942, 22.532942, 22.532942,\n",
       "       22.532942, 22.532942, 22.532942, 22.532942, 22.532942, 22.532942,\n",
       "       22.532942, 22.532942, 22.532942, 22.532942, 22.532942, 22.532942,\n",
       "       22.532942, 22.532942, 22.532942, 22.532942, 22.532942, 22.532942,\n",
       "       22.532942, 22.532942, 22.532942, 22.532942, 22.532942, 22.532942,\n",
       "       22.532942, 22.532942, 22.532942, 22.532942, 22.532942, 22.532942,\n",
       "       22.532942, 22.532942, 22.532942, 22.532942, 22.532942, 22.532942,\n",
       "       22.532942, 22.532942, 22.532942, 22.532942, 22.532942, 22.532942,\n",
       "       22.532942, 22.532942, 22.532942, 22.532942, 22.532942, 22.532942,\n",
       "       22.532942, 22.532942, 22.532942, 22.532942, 22.532942, 22.532942,\n",
       "       22.532942, 22.532942, 22.532942, 22.532942, 22.532942, 22.532942,\n",
       "       22.532942, 22.532942, 22.532942, 22.532942, 22.532942, 22.532942,\n",
       "       22.532942, 22.532942, 22.532942, 22.532942, 22.532942, 22.532942,\n",
       "       22.532942, 22.532942, 22.532942, 22.532942, 22.532942, 22.532942,\n",
       "       22.532942, 22.532942, 22.532942, 22.532942, 22.532942, 22.532942,\n",
       "       22.532942, 22.532942, 22.532942, 22.532942, 22.532942, 22.532942,\n",
       "       22.532942, 22.532942, 22.532942, 22.532942, 22.532942, 22.532942,\n",
       "       22.532942, 22.532942, 22.532942, 22.532942, 22.532942, 22.532942,\n",
       "       22.532942, 22.532942, 22.532942, 22.532942, 22.532942, 22.532942,\n",
       "       22.532942, 22.532942, 22.532942, 22.532942, 22.532942, 22.532942,\n",
       "       22.532942, 22.532942, 22.532942, 22.532942, 22.532942, 22.532942,\n",
       "       22.532942, 22.532942], dtype=float32)\n",
       "\n",
       ".data =\n",
       "array([[6.3200e-03, 1.8000e+01, 2.3100e+00, ..., 1.5300e+01, 3.9690e+02,\n",
       "        4.9800e+00],\n",
       "       [2.7310e-02, 0.0000e+00, 7.0700e+00, ..., 1.7800e+01, 3.9690e+02,\n",
       "        9.1400e+00],\n",
       "       [2.7290e-02, 0.0000e+00, 7.0700e+00, ..., 1.7800e+01, 3.9283e+02,\n",
       "        4.0300e+00],\n",
       "       ...,\n",
       "       [6.0760e-02, 0.0000e+00, 1.1930e+01, ..., 2.1000e+01, 3.9690e+02,\n",
       "        5.6400e+00],\n",
       "       [1.0959e-01, 0.0000e+00, 1.1930e+01, ..., 2.1000e+01, 3.9345e+02,\n",
       "        6.4800e+00],\n",
       "       [4.7410e-02, 0.0000e+00, 1.1930e+01, ..., 2.1000e+01, 3.9690e+02,\n",
       "        7.8800e+00]])"
      ]
     },
     "execution_count": 49,
     "metadata": {},
     "output_type": "execute_result"
    }
   ],
   "source": [
    "shap_values"
   ]
  },
  {
   "cell_type": "code",
   "execution_count": 50,
   "metadata": {
    "id": "mYW_Y7Qtw-Yp"
   },
   "outputs": [
    {
     "data": {
      "image/png": "[encoded data removed]",
      "text/plain": [
       "<Figure size 576x468 with 3 Axes>"
      ]
     },
     "metadata": {},
     "output_type": "display_data"
    }
   ],
   "source": [
    "# visualize the first prediction's explanation\n",
    "shap.plots.waterfall(shap_values[0])"
   ]
  },
  {
   "cell_type": "code",
   "execution_count": 51,
   "metadata": {
    "colab": {
     "base_uri": "https://localhost:8080/",
     "height": 335
    },
    "executionInfo": {
     "elapsed": 1526,
     "status": "ok",
     "timestamp": 1615355919665,
     "user": {
      "displayName": "sukuna mani",
      "photoUrl": "",
      "userId": "00180303595658708163"
     },
     "user_tz": -330
    },
    "id": "2R1O78NOCs--",
    "outputId": "d315738d-2d95-4017-cb4c-1c060e22eb92"
   },
   "outputs": [
    {
     "data": {
      "image/png": "[encoded data removed]",
      "text/plain": [
       "<Figure size 540x360 with 3 Axes>"
      ]
     },
     "metadata": {},
     "output_type": "display_data"
    }
   ],
   "source": [
    "#Visualize all predictions\n",
    "shap.plots.scatter(shap_values[:,\"AGE\"],shap_values)"
   ]
  },
  {
   "cell_type": "code",
   "execution_count": 52,
   "metadata": {
    "colab": {
     "base_uri": "https://localhost:8080/",
     "height": 302
    },
    "executionInfo": {
     "elapsed": 1623,
     "status": "ok",
     "timestamp": 1615349072557,
     "user": {
      "displayName": "sukuna mani",
      "photoUrl": "",
      "userId": "00180303595658708163"
     },
     "user_tz": -330
    },
    "id": "eCcUbrWFTqaB",
    "outputId": "e2fee4ec-b6bf-42a1-97d4-92e775d9bcd8"
   },
   "outputs": [
    {
     "data": {
      "image/png": "[encoded data removed]",
      "text/plain": [
       "<Figure size 576x396 with 2 Axes>"
      ]
     },
     "metadata": {},
     "output_type": "display_data"
    }
   ],
   "source": [
    "shap.plots.beeswarm(shap_values)"
   ]
  },
  {
   "cell_type": "markdown",
   "metadata": {},
   "source": [
    "### Interpretation using Pycaret SHAP implementation\n",
    "* Note that is only supports tree based model, read more [here](https://pycaret.org/classification/)."
   ]
  },
  {
   "cell_type": "code",
   "execution_count": 53,
   "metadata": {
    "colab": {
     "base_uri": "https://localhost:8080/",
     "height": 454
    },
    "executionInfo": {
     "elapsed": 443696,
     "status": "ok",
     "timestamp": 1615308333788,
     "user": {
      "displayName": "sukuna mani",
      "photoUrl": "",
      "userId": "00180303595658708163"
     },
     "user_tz": -330
    },
    "id": "rPYvhY8LaGJf",
    "outputId": "79bf5599-1a00-46ee-c98d-baa2aaa9e9a3"
   },
   "outputs": [
    {
     "data": {
      "image/png": "[encoded data removed]",
      "text/plain": [
       "<Figure size 576x597.6 with 2 Axes>"
      ]
     },
     "metadata": {},
     "output_type": "display_data"
    }
   ],
   "source": [
    "top3_models\n",
    "#[interpret_model(i) for i in best_model]\n",
    "interpret_model(top3_models[1],)"
   ]
  },
  {
   "cell_type": "markdown",
   "metadata": {},
   "source": [
    "### Not optimizing in this step"
   ]
  },
  {
   "cell_type": "code",
   "execution_count": 55,
   "metadata": {
    "executionInfo": {
     "elapsed": 450742,
     "status": "ok",
     "timestamp": 1615308340843,
     "user": {
      "displayName": "sukuna mani",
      "photoUrl": "",
      "userId": "00180303595658708163"
     },
     "user_tz": -330
    },
    "id": "6tVjD8sRasDL"
   },
   "outputs": [],
   "source": [
    "# , use_holdout = False\n",
    "# final_model=automl(optimize = 'Accuracy')"
   ]
  },
  {
   "cell_type": "code",
   "execution_count": 34,
   "metadata": {
    "colab": {
     "base_uri": "https://localhost:8080/"
    },
    "executionInfo": {
     "elapsed": 450737,
     "status": "ok",
     "timestamp": 1615308340845,
     "user": {
      "displayName": "sukuna mani",
      "photoUrl": "",
      "userId": "00180303595658708163"
     },
     "user_tz": -330
    },
    "id": "ptiHi1QPDPCD",
    "outputId": "49d26ad5-be07-40f4-a2ea-b4942f0d87b0"
   },
   "outputs": [
    {
     "name": "stdout",
     "output_type": "stream",
     "text": [
      "[XGBClassifier(base_score=0.5, booster='gbtree', colsample_bylevel=1,\n",
      "              colsample_bynode=1, colsample_bytree=1, gamma=0, gpu_id=-1,\n",
      "              importance_type='gain', interaction_constraints='',\n",
      "              learning_rate=0.300000012, max_delta_step=0, max_depth=6,\n",
      "              min_child_weight=1, missing=nan, monotone_constraints='()',\n",
      "              n_estimators=100, n_jobs=-1, num_parallel_tree=1,\n",
      "              objective='binary:logistic', random_state=272, reg_alpha=0,\n",
      "              reg_lambda=1, scale_pos_weight=1, subsample=1, tree_method='auto',\n",
      "              use_label_encoder=True, validate_parameters=1, verbosity=0), GradientBoostingClassifier(ccp_alpha=0.0, criterion='friedman_mse', init=None,\n",
      "                           learning_rate=0.1, loss='deviance', max_depth=3,\n",
      "                           max_features=None, max_leaf_nodes=None,\n",
      "                           min_impurity_decrease=0.0, min_impurity_split=None,\n",
      "                           min_samples_leaf=1, min_samples_split=2,\n",
      "                           min_weight_fraction_leaf=0.0, n_estimators=100,\n",
      "                           n_iter_no_change=None, presort='deprecated',\n",
      "                           random_state=272, subsample=1.0, tol=0.0001,\n",
      "                           validation_fraction=0.1, verbose=0,\n",
      "                           warm_start=False), RandomForestClassifier(bootstrap=True, ccp_alpha=0.0, class_weight=None,\n",
      "                       criterion='gini', max_depth=None, max_features='auto',\n",
      "                       max_leaf_nodes=None, max_samples=None,\n",
      "                       min_impurity_decrease=0.0, min_impurity_split=None,\n",
      "                       min_samples_leaf=1, min_samples_split=2,\n",
      "                       min_weight_fraction_leaf=0.0, n_estimators=100,\n",
      "                       n_jobs=-1, oob_score=False, random_state=272, verbose=0,\n",
      "                       warm_start=False)]\n"
     ]
    }
   ],
   "source": [
    "print(top3_models)"
   ]
  },
  {
   "cell_type": "markdown",
   "metadata": {},
   "source": [
    "## Saving final model"
   ]
  },
  {
   "cell_type": "code",
   "execution_count": 57,
   "metadata": {
    "colab": {
     "base_uri": "https://localhost:8080/"
    },
    "executionInfo": {
     "elapsed": 578281,
     "status": "ok",
     "timestamp": 1615308468397,
     "user": {
      "displayName": "sukuna mani",
      "photoUrl": "",
      "userId": "00180303595658708163"
     },
     "user_tz": -330
    },
    "id": "W_XNs7ILEnOS",
    "outputId": "00402b78-7a08-4bf0-e5f8-dd2d3919738c"
   },
   "outputs": [],
   "source": [
    "# from google.colab import drive\n",
    "# drive.mount('/content/gdrive')"
   ]
  },
  {
   "cell_type": "code",
   "execution_count": 44,
   "metadata": {},
   "outputs": [
    {
     "data": {
      "text/plain": [
       "xgboost.sklearn.XGBClassifier"
      ]
     },
     "execution_count": 44,
     "metadata": {},
     "output_type": "execute_result"
    }
   ],
   "source": [
    "type(top3_models[0])"
   ]
  },
  {
   "cell_type": "code",
   "execution_count": 42,
   "metadata": {},
   "outputs": [
    {
     "name": "stdout",
     "output_type": "stream",
     "text": [
      "Transformation Pipeline and Model Succesfully Saved\n",
      "XGBClassifier model saved!\n",
      "Transformation Pipeline and Model Succesfully Saved\n",
      "GradientBoostingClassifier model saved!\n",
      "Transformation Pipeline and Model Succesfully Saved\n",
      "RandomForestClassifier model saved!\n"
     ]
    }
   ],
   "source": [
    "for model in top3_models:\n",
    "    model_name = model.__class__.__name__\n",
    "    save_model(model,'./saved_models/{0}'.format(model_name))\n",
    "    print('{0} model saved!'.format(model_name))"
   ]
  },
  {
   "cell_type": "code",
   "execution_count": 32,
   "metadata": {},
   "outputs": [
    {
     "data": {
      "text/html": [
       "<div>\n",
       "<style scoped>\n",
       "    .dataframe tbody tr th:only-of-type {\n",
       "        vertical-align: middle;\n",
       "    }\n",
       "\n",
       "    .dataframe tbody tr th {\n",
       "        vertical-align: top;\n",
       "    }\n",
       "\n",
       "    .dataframe thead th {\n",
       "        text-align: right;\n",
       "    }\n",
       "</style>\n",
       "<table border=\"1\" class=\"dataframe\">\n",
       "  <thead>\n",
       "    <tr style=\"text-align: right;\">\n",
       "      <th></th>\n",
       "      <th>Age</th>\n",
       "      <th>Experience</th>\n",
       "      <th>Income</th>\n",
       "      <th>ZIP Code</th>\n",
       "      <th>CCAvg</th>\n",
       "      <th>Mortgage</th>\n",
       "      <th>Family_-0.5</th>\n",
       "      <th>Family_0.0</th>\n",
       "      <th>Family_0.5</th>\n",
       "      <th>Family_1.0</th>\n",
       "      <th>Education_-0.5</th>\n",
       "      <th>Education_0.0</th>\n",
       "      <th>Education_0.5</th>\n",
       "      <th>Securities Account_0</th>\n",
       "      <th>CD Account_1</th>\n",
       "      <th>Online_0</th>\n",
       "      <th>CreditCard_1</th>\n",
       "      <th>Personal Loan</th>\n",
       "    </tr>\n",
       "    <tr>\n",
       "      <th>ID</th>\n",
       "      <th></th>\n",
       "      <th></th>\n",
       "      <th></th>\n",
       "      <th></th>\n",
       "      <th></th>\n",
       "      <th></th>\n",
       "      <th></th>\n",
       "      <th></th>\n",
       "      <th></th>\n",
       "      <th></th>\n",
       "      <th></th>\n",
       "      <th></th>\n",
       "      <th></th>\n",
       "      <th></th>\n",
       "      <th></th>\n",
       "      <th></th>\n",
       "      <th></th>\n",
       "      <th></th>\n",
       "    </tr>\n",
       "  </thead>\n",
       "  <tbody>\n",
       "    <tr>\n",
       "      <th>3750</th>\n",
       "      <td>-0.10</td>\n",
       "      <td>-0.05</td>\n",
       "      <td>0.101695</td>\n",
       "      <td>-1.239155</td>\n",
       "      <td>0.462963</td>\n",
       "      <td>0.000000</td>\n",
       "      <td>0.0</td>\n",
       "      <td>0.0</td>\n",
       "      <td>1.0</td>\n",
       "      <td>0.0</td>\n",
       "      <td>1.0</td>\n",
       "      <td>0.0</td>\n",
       "      <td>0.0</td>\n",
       "      <td>1.0</td>\n",
       "      <td>0.0</td>\n",
       "      <td>1.0</td>\n",
       "      <td>0.0</td>\n",
       "      <td>0</td>\n",
       "    </tr>\n",
       "    <tr>\n",
       "      <th>4698</th>\n",
       "      <td>0.20</td>\n",
       "      <td>0.10</td>\n",
       "      <td>0.661017</td>\n",
       "      <td>-0.781238</td>\n",
       "      <td>0.277778</td>\n",
       "      <td>1.653465</td>\n",
       "      <td>0.0</td>\n",
       "      <td>0.0</td>\n",
       "      <td>1.0</td>\n",
       "      <td>0.0</td>\n",
       "      <td>0.0</td>\n",
       "      <td>1.0</td>\n",
       "      <td>0.0</td>\n",
       "      <td>1.0</td>\n",
       "      <td>0.0</td>\n",
       "      <td>0.0</td>\n",
       "      <td>0.0</td>\n",
       "      <td>0</td>\n",
       "    </tr>\n",
       "    <tr>\n",
       "      <th>1738</th>\n",
       "      <td>-0.05</td>\n",
       "      <td>-0.05</td>\n",
       "      <td>0.101695</td>\n",
       "      <td>-0.384872</td>\n",
       "      <td>-0.722222</td>\n",
       "      <td>2.277228</td>\n",
       "      <td>1.0</td>\n",
       "      <td>0.0</td>\n",
       "      <td>0.0</td>\n",
       "      <td>0.0</td>\n",
       "      <td>0.0</td>\n",
       "      <td>1.0</td>\n",
       "      <td>0.0</td>\n",
       "      <td>0.0</td>\n",
       "      <td>0.0</td>\n",
       "      <td>0.0</td>\n",
       "      <td>0.0</td>\n",
       "      <td>0</td>\n",
       "    </tr>\n",
       "    <tr>\n",
       "      <th>319</th>\n",
       "      <td>-0.90</td>\n",
       "      <td>-0.90</td>\n",
       "      <td>0.779661</td>\n",
       "      <td>0.827957</td>\n",
       "      <td>0.166667</td>\n",
       "      <td>1.881188</td>\n",
       "      <td>0.0</td>\n",
       "      <td>0.0</td>\n",
       "      <td>0.0</td>\n",
       "      <td>1.0</td>\n",
       "      <td>0.0</td>\n",
       "      <td>0.0</td>\n",
       "      <td>1.0</td>\n",
       "      <td>1.0</td>\n",
       "      <td>0.0</td>\n",
       "      <td>1.0</td>\n",
       "      <td>0.0</td>\n",
       "      <td>0</td>\n",
       "    </tr>\n",
       "    <tr>\n",
       "      <th>1309</th>\n",
       "      <td>0.45</td>\n",
       "      <td>0.20</td>\n",
       "      <td>-0.237288</td>\n",
       "      <td>-0.519095</td>\n",
       "      <td>0.277778</td>\n",
       "      <td>0.000000</td>\n",
       "      <td>0.0</td>\n",
       "      <td>0.0</td>\n",
       "      <td>1.0</td>\n",
       "      <td>0.0</td>\n",
       "      <td>0.0</td>\n",
       "      <td>0.0</td>\n",
       "      <td>1.0</td>\n",
       "      <td>1.0</td>\n",
       "      <td>0.0</td>\n",
       "      <td>1.0</td>\n",
       "      <td>1.0</td>\n",
       "      <td>0</td>\n",
       "    </tr>\n",
       "  </tbody>\n",
       "</table>\n",
       "</div>"
      ],
      "text/plain": [
       "       Age  Experience    Income  ZIP Code     CCAvg  Mortgage  Family_-0.5  \\\n",
       "ID                                                                            \n",
       "3750 -0.10       -0.05  0.101695 -1.239155  0.462963  0.000000          0.0   \n",
       "4698  0.20        0.10  0.661017 -0.781238  0.277778  1.653465          0.0   \n",
       "1738 -0.05       -0.05  0.101695 -0.384872 -0.722222  2.277228          1.0   \n",
       "319  -0.90       -0.90  0.779661  0.827957  0.166667  1.881188          0.0   \n",
       "1309  0.45        0.20 -0.237288 -0.519095  0.277778  0.000000          0.0   \n",
       "\n",
       "      Family_0.0  Family_0.5  Family_1.0  Education_-0.5  Education_0.0  \\\n",
       "ID                                                                        \n",
       "3750         0.0         1.0         0.0             1.0            0.0   \n",
       "4698         0.0         1.0         0.0             0.0            1.0   \n",
       "1738         0.0         0.0         0.0             0.0            1.0   \n",
       "319          0.0         0.0         1.0             0.0            0.0   \n",
       "1309         0.0         1.0         0.0             0.0            0.0   \n",
       "\n",
       "      Education_0.5  Securities Account_0  CD Account_1  Online_0  \\\n",
       "ID                                                                  \n",
       "3750            0.0                   1.0           0.0       1.0   \n",
       "4698            0.0                   1.0           0.0       0.0   \n",
       "1738            0.0                   0.0           0.0       0.0   \n",
       "319             1.0                   1.0           0.0       1.0   \n",
       "1309            1.0                   1.0           0.0       1.0   \n",
       "\n",
       "      CreditCard_1  Personal Loan  \n",
       "ID                                 \n",
       "3750           0.0              0  \n",
       "4698           0.0              0  \n",
       "1738           0.0              0  \n",
       "319            0.0              0  \n",
       "1309           1.0              0  "
      ]
     },
     "execution_count": 32,
     "metadata": {},
     "output_type": "execute_result"
    }
   ],
   "source": [
    "transformed_df.head()"
   ]
  },
  {
   "cell_type": "code",
   "execution_count": 33,
   "metadata": {},
   "outputs": [],
   "source": [
    "transformed_df.to_excel('../Bank_Personal_Loan_Modelling_transformed.xlsx')"
   ]
  }
 ],
 "metadata": {
  "colab": {
   "authorship_tag": "ABX9TyOSqCgOtJETADZInWUZguCk",
   "name": "Regression_pycaret.ipynb",
   "provenance": []
  },
  "kernelspec": {
   "display_name": "Python 3",
   "language": "python",
   "name": "python3"
  },
  "language_info": {
   "codemirror_mode": {
    "name": "ipython",
    "version": 3
   },
   "file_extension": ".py",
   "mimetype": "text/x-python",
   "name": "python",
   "nbconvert_exporter": "python",
   "pygments_lexer": "ipython3",
   "version": "3.7.6"
  },
  "widgets": {
   "application/vnd.jupyter.widget-state+json": {
    "066b03992ca34596a6739c80f84c7458": {
     "model_module": "@jupyter-widgets/controls",
     "model_name": "IntProgressModel",
     "state": {
      "_dom_classes": [],
      "_model_module": "@jupyter-widgets/controls",
      "_model_module_version": "1.5.0",
      "_model_name": "IntProgressModel",
      "_view_count": null,
      "_view_module": "@jupyter-widgets/controls",
      "_view_module_version": "1.5.0",
      "_view_name": "ProgressView",
      "bar_style": "",
      "description": "Processing: ",
      "description_tooltip": null,
      "layout": "IPY_MODEL_9cd69c83997c4ed49d2969ed5db4a06b",
      "max": 5,
      "min": 0,
      "orientation": "horizontal",
      "style": "IPY_MODEL_8967b8bb9a0d471ba03d6fbe965467c0",
      "value": 5
     }
    },
    "08ffe4b1f477403e9165022d9c8dc78c": {
     "model_module": "@jupyter-widgets/controls",
     "model_name": "ProgressStyleModel",
     "state": {
      "_model_module": "@jupyter-widgets/controls",
      "_model_module_version": "1.5.0",
      "_model_name": "ProgressStyleModel",
      "_view_count": null,
      "_view_module": "@jupyter-widgets/base",
      "_view_module_version": "1.2.0",
      "_view_name": "StyleView",
      "bar_color": null,
      "description_width": ""
     }
    },
    "0ac0d051d0104e74912a936b81859eb7": {
     "model_module": "@jupyter-widgets/base",
     "model_name": "LayoutModel",
     "state": {
      "_model_module": "@jupyter-widgets/base",
      "_model_module_version": "1.2.0",
      "_model_name": "LayoutModel",
      "_view_count": null,
      "_view_module": "@jupyter-widgets/base",
      "_view_module_version": "1.2.0",
      "_view_name": "LayoutView",
      "align_content": null,
      "align_items": null,
      "align_self": null,
      "border": null,
      "bottom": null,
      "display": null,
      "flex": null,
      "flex_flow": null,
      "grid_area": null,
      "grid_auto_columns": null,
      "grid_auto_flow": null,
      "grid_auto_rows": null,
      "grid_column": null,
      "grid_gap": null,
      "grid_row": null,
      "grid_template_areas": null,
      "grid_template_columns": null,
      "grid_template_rows": null,
      "height": null,
      "justify_content": null,
      "justify_items": null,
      "left": null,
      "margin": null,
      "max_height": null,
      "max_width": null,
      "min_height": null,
      "min_width": null,
      "object_fit": null,
      "object_position": null,
      "order": null,
      "overflow": null,
      "overflow_x": null,
      "overflow_y": null,
      "padding": null,
      "right": null,
      "top": null,
      "visibility": null,
      "width": null
     }
    },
    "0c3bdd5b5d1a4e76ac841aa46ec51a6e": {
     "model_module": "@jupyter-widgets/controls",
     "model_name": "ProgressStyleModel",
     "state": {
      "_model_module": "@jupyter-widgets/controls",
      "_model_module_version": "1.5.0",
      "_model_name": "ProgressStyleModel",
      "_view_count": null,
      "_view_module": "@jupyter-widgets/base",
      "_view_module_version": "1.2.0",
      "_view_name": "StyleView",
      "bar_color": null,
      "description_width": ""
     }
    },
    "0dbd3ab89f1f46bb8cdd0245d5918669": {
     "model_module": "@jupyter-widgets/controls",
     "model_name": "IntProgressModel",
     "state": {
      "_dom_classes": [],
      "_model_module": "@jupyter-widgets/controls",
      "_model_module_version": "1.5.0",
      "_model_name": "IntProgressModel",
      "_view_count": null,
      "_view_module": "@jupyter-widgets/controls",
      "_view_module_version": "1.5.0",
      "_view_name": "ProgressView",
      "bar_style": "",
      "description": "Processing: ",
      "description_tooltip": null,
      "layout": "IPY_MODEL_f12678d3148f4b679397c85c38eb8ebb",
      "max": 7,
      "min": 0,
      "orientation": "horizontal",
      "style": "IPY_MODEL_82b32e1c787b4fb3898b64e35302c65b",
      "value": 7
     }
    },
    "16602f1db065474b923b2b145e6177e3": {
     "model_module": "@jupyter-widgets/controls",
     "model_name": "ProgressStyleModel",
     "state": {
      "_model_module": "@jupyter-widgets/controls",
      "_model_module_version": "1.5.0",
      "_model_name": "ProgressStyleModel",
      "_view_count": null,
      "_view_module": "@jupyter-widgets/base",
      "_view_module_version": "1.2.0",
      "_view_name": "StyleView",
      "bar_color": null,
      "description_width": ""
     }
    },
    "19e7295cee05401e94148bc99acf4e8d": {
     "model_module": "@jupyter-widgets/base",
     "model_name": "LayoutModel",
     "state": {
      "_model_module": "@jupyter-widgets/base",
      "_model_module_version": "1.2.0",
      "_model_name": "LayoutModel",
      "_view_count": null,
      "_view_module": "@jupyter-widgets/base",
      "_view_module_version": "1.2.0",
      "_view_name": "LayoutView",
      "align_content": null,
      "align_items": null,
      "align_self": null,
      "border": null,
      "bottom": null,
      "display": null,
      "flex": null,
      "flex_flow": null,
      "grid_area": null,
      "grid_auto_columns": null,
      "grid_auto_flow": null,
      "grid_auto_rows": null,
      "grid_column": null,
      "grid_gap": null,
      "grid_row": null,
      "grid_template_areas": null,
      "grid_template_columns": null,
      "grid_template_rows": null,
      "height": null,
      "justify_content": null,
      "justify_items": null,
      "left": null,
      "margin": null,
      "max_height": null,
      "max_width": null,
      "min_height": null,
      "min_width": null,
      "object_fit": null,
      "object_position": null,
      "order": null,
      "overflow": null,
      "overflow_x": null,
      "overflow_y": null,
      "padding": null,
      "right": null,
      "top": null,
      "visibility": null,
      "width": null
     }
    },
    "1fc556fe3f334e03bd48d3400993ee63": {
     "model_module": "@jupyter-widgets/base",
     "model_name": "LayoutModel",
     "state": {
      "_model_module": "@jupyter-widgets/base",
      "_model_module_version": "1.2.0",
      "_model_name": "LayoutModel",
      "_view_count": null,
      "_view_module": "@jupyter-widgets/base",
      "_view_module_version": "1.2.0",
      "_view_name": "LayoutView",
      "align_content": null,
      "align_items": null,
      "align_self": null,
      "border": null,
      "bottom": null,
      "display": null,
      "flex": null,
      "flex_flow": null,
      "grid_area": null,
      "grid_auto_columns": null,
      "grid_auto_flow": null,
      "grid_auto_rows": null,
      "grid_column": null,
      "grid_gap": null,
      "grid_row": null,
      "grid_template_areas": null,
      "grid_template_columns": null,
      "grid_template_rows": null,
      "height": null,
      "justify_content": null,
      "justify_items": null,
      "left": null,
      "margin": null,
      "max_height": null,
      "max_width": null,
      "min_height": null,
      "min_width": null,
      "object_fit": null,
      "object_position": null,
      "order": null,
      "overflow": null,
      "overflow_x": null,
      "overflow_y": null,
      "padding": null,
      "right": null,
      "top": null,
      "visibility": null,
      "width": null
     }
    },
    "25962e6a2dc2431e86a7aaf1a9712fd7": {
     "model_module": "@jupyter-widgets/output",
     "model_name": "OutputModel",
     "state": {
      "_dom_classes": [],
      "_model_module": "@jupyter-widgets/output",
      "_model_module_version": "1.0.0",
      "_model_name": "OutputModel",
      "_view_count": null,
      "_view_module": "@jupyter-widgets/output",
      "_view_module_version": "1.0.0",
      "_view_name": "OutputView",
      "layout": "IPY_MODEL_0ac0d051d0104e74912a936b81859eb7",
      "msg_id": "",
      "outputs": [
       {
        "metadata": {
         "tags": []
        },
        "output_type": "display_data",
        "text/html": "<div>\n<style scoped>\n    .dataframe tbody tr th:only-of-type {\n        vertical-align: middle;\n    }\n\n    .dataframe tbody tr th {\n        vertical-align: top;\n    }\n\n    .dataframe thead th {\n        text-align: right;\n    }\n</style>\n<table border=\"1\" class=\"dataframe\">\n  <thead>\n    <tr style=\"text-align: right;\">\n      <th></th>\n      <th>Parameters</th>\n    </tr>\n  </thead>\n  <tbody>\n    <tr>\n      <th>alpha</th>\n      <td>0.9</td>\n    </tr>\n    <tr>\n      <th>ccp_alpha</th>\n      <td>0.0</td>\n    </tr>\n    <tr>\n      <th>criterion</th>\n      <td>friedman_mse</td>\n    </tr>\n    <tr>\n      <th>init</th>\n      <td>None</td>\n    </tr>\n    <tr>\n      <th>learning_rate</th>\n      <td>0.1</td>\n    </tr>\n    <tr>\n      <th>loss</th>\n      <td>ls</td>\n    </tr>\n    <tr>\n      <th>max_depth</th>\n      <td>3</td>\n    </tr>\n    <tr>\n      <th>max_features</th>\n      <td>None</td>\n    </tr>\n    <tr>\n      <th>max_leaf_nodes</th>\n      <td>None</td>\n    </tr>\n    <tr>\n      <th>min_impurity_decrease</th>\n      <td>0.0</td>\n    </tr>\n    <tr>\n      <th>min_impurity_split</th>\n      <td>None</td>\n    </tr>\n    <tr>\n      <th>min_samples_leaf</th>\n      <td>1</td>\n    </tr>\n    <tr>\n      <th>min_samples_split</th>\n      <td>2</td>\n    </tr>\n    <tr>\n      <th>min_weight_fraction_leaf</th>\n      <td>0.0</td>\n    </tr>\n    <tr>\n      <th>n_estimators</th>\n      <td>100</td>\n    </tr>\n    <tr>\n      <th>n_iter_no_change</th>\n      <td>None</td>\n    </tr>\n    <tr>\n      <th>presort</th>\n      <td>deprecated</td>\n    </tr>\n    <tr>\n      <th>random_state</th>\n      <td>4086</td>\n    </tr>\n    <tr>\n      <th>subsample</th>\n      <td>1.0</td>\n    </tr>\n    <tr>\n      <th>tol</th>\n      <td>0.0001</td>\n    </tr>\n    <tr>\n      <th>validation_fraction</th>\n      <td>0.1</td>\n    </tr>\n    <tr>\n      <th>verbose</th>\n      <td>0</td>\n    </tr>\n    <tr>\n      <th>warm_start</th>\n      <td>False</td>\n    </tr>\n  </tbody>\n</table>\n</div>",
        "text/plain": "                            Parameters\nalpha                              0.9\nccp_alpha                          0.0\ncriterion                 friedman_mse\ninit                              None\nlearning_rate                      0.1\nloss                                ls\nmax_depth                            3\nmax_features                      None\nmax_leaf_nodes                    None\nmin_impurity_decrease              0.0\nmin_impurity_split                None\nmin_samples_leaf                     1\nmin_samples_split                    2\nmin_weight_fraction_leaf           0.0\nn_estimators                       100\nn_iter_no_change                  None\npresort                     deprecated\nrandom_state                      4086\nsubsample                          1.0\ntol                             0.0001\nvalidation_fraction                0.1\nverbose                              0\nwarm_start                       False"
       }
      ]
     }
    },
    "25dcc7c6ff714c93838aea7a314bbea9": {
     "model_module": "@jupyter-widgets/base",
     "model_name": "LayoutModel",
     "state": {
      "_model_module": "@jupyter-widgets/base",
      "_model_module_version": "1.2.0",
      "_model_name": "LayoutModel",
      "_view_count": null,
      "_view_module": "@jupyter-widgets/base",
      "_view_module_version": "1.2.0",
      "_view_name": "LayoutView",
      "align_content": null,
      "align_items": null,
      "align_self": null,
      "border": null,
      "bottom": null,
      "display": null,
      "flex": null,
      "flex_flow": null,
      "grid_area": null,
      "grid_auto_columns": null,
      "grid_auto_flow": null,
      "grid_auto_rows": null,
      "grid_column": null,
      "grid_gap": null,
      "grid_row": null,
      "grid_template_areas": null,
      "grid_template_columns": null,
      "grid_template_rows": null,
      "height": null,
      "justify_content": null,
      "justify_items": null,
      "left": null,
      "margin": null,
      "max_height": null,
      "max_width": null,
      "min_height": null,
      "min_width": null,
      "object_fit": null,
      "object_position": null,
      "order": null,
      "overflow": null,
      "overflow_x": null,
      "overflow_y": null,
      "padding": null,
      "right": null,
      "top": null,
      "visibility": null,
      "width": null
     }
    },
    "291b6766938042c6b1c2fac27992bf19": {
     "model_module": "@jupyter-widgets/base",
     "model_name": "LayoutModel",
     "state": {
      "_model_module": "@jupyter-widgets/base",
      "_model_module_version": "1.2.0",
      "_model_name": "LayoutModel",
      "_view_count": null,
      "_view_module": "@jupyter-widgets/base",
      "_view_module_version": "1.2.0",
      "_view_name": "LayoutView",
      "align_content": null,
      "align_items": null,
      "align_self": null,
      "border": null,
      "bottom": null,
      "display": null,
      "flex": null,
      "flex_flow": null,
      "grid_area": null,
      "grid_auto_columns": null,
      "grid_auto_flow": null,
      "grid_auto_rows": null,
      "grid_column": null,
      "grid_gap": null,
      "grid_row": null,
      "grid_template_areas": null,
      "grid_template_columns": null,
      "grid_template_rows": null,
      "height": null,
      "justify_content": null,
      "justify_items": null,
      "left": null,
      "margin": null,
      "max_height": null,
      "max_width": null,
      "min_height": null,
      "min_width": null,
      "object_fit": null,
      "object_position": null,
      "order": null,
      "overflow": null,
      "overflow_x": null,
      "overflow_y": null,
      "padding": null,
      "right": null,
      "top": null,
      "visibility": null,
      "width": null
     }
    },
    "2b0cb114ff7d437092d67c1d4bb9bd2e": {
     "model_module": "@jupyter-widgets/controls",
     "model_name": "ToggleButtonsModel",
     "state": {
      "_dom_classes": [],
      "_model_module": "@jupyter-widgets/controls",
      "_model_module_version": "1.5.0",
      "_model_name": "ToggleButtonsModel",
      "_options_labels": [
       "Hyperparameters",
       "Residuals",
       "Prediction Error",
       "Cooks Distance",
       "Feature Selection",
       "Learning Curve",
       "Manifold Learning",
       "Validation Curve",
       "Feature Importance",
       "Feature Importance (All)",
       "Decision Tree",
       "Interactive Residuals"
      ],
      "_view_count": null,
      "_view_module": "@jupyter-widgets/controls",
      "_view_module_version": "1.5.0",
      "_view_name": "ToggleButtonsView",
      "button_style": "",
      "description": "Plot Type:",
      "description_tooltip": null,
      "disabled": false,
      "icons": [
       ""
      ],
      "index": 0,
      "layout": "IPY_MODEL_c44024894b4644d6a076b3924798eb0d",
      "style": "IPY_MODEL_7a6d927cfa3942a69c5d8f517dfee774",
      "tooltips": []
     }
    },
    "2b2e2de0ed6e4588b27097b747ac4bf9": {
     "model_module": "@jupyter-widgets/controls",
     "model_name": "IntProgressModel",
     "state": {
      "_dom_classes": [],
      "_model_module": "@jupyter-widgets/controls",
      "_model_module_version": "1.5.0",
      "_model_name": "IntProgressModel",
      "_view_count": null,
      "_view_module": "@jupyter-widgets/controls",
      "_view_module_version": "1.5.0",
      "_view_name": "ProgressView",
      "bar_style": "",
      "description": "Processing: ",
      "description_tooltip": null,
      "layout": "IPY_MODEL_62a67b62963e478c8fb082a798ec1a8f",
      "max": 6,
      "min": 0,
      "orientation": "horizontal",
      "style": "IPY_MODEL_f7143bdc115945029c8b50de5518d270",
      "value": 6
     }
    },
    "2d64f9669f8c4c6bbe44d32584b024ff": {
     "model_module": "@jupyter-widgets/base",
     "model_name": "LayoutModel",
     "state": {
      "_model_module": "@jupyter-widgets/base",
      "_model_module_version": "1.2.0",
      "_model_name": "LayoutModel",
      "_view_count": null,
      "_view_module": "@jupyter-widgets/base",
      "_view_module_version": "1.2.0",
      "_view_name": "LayoutView",
      "align_content": null,
      "align_items": null,
      "align_self": null,
      "border": null,
      "bottom": null,
      "display": null,
      "flex": null,
      "flex_flow": null,
      "grid_area": null,
      "grid_auto_columns": null,
      "grid_auto_flow": null,
      "grid_auto_rows": null,
      "grid_column": null,
      "grid_gap": null,
      "grid_row": null,
      "grid_template_areas": null,
      "grid_template_columns": null,
      "grid_template_rows": null,
      "height": null,
      "justify_content": null,
      "justify_items": null,
      "left": null,
      "margin": null,
      "max_height": null,
      "max_width": null,
      "min_height": null,
      "min_width": null,
      "object_fit": null,
      "object_position": null,
      "order": null,
      "overflow": null,
      "overflow_x": null,
      "overflow_y": null,
      "padding": null,
      "right": null,
      "top": null,
      "visibility": null,
      "width": "100%"
     }
    },
    "320b54aebd8c483e9581d8969330ba89": {
     "model_module": "@jupyter-widgets/output",
     "model_name": "OutputModel",
     "state": {
      "_dom_classes": [],
      "_model_module": "@jupyter-widgets/output",
      "_model_module_version": "1.0.0",
      "_model_name": "OutputModel",
      "_view_count": null,
      "_view_module": "@jupyter-widgets/output",
      "_view_module_version": "1.0.0",
      "_view_name": "OutputView",
      "layout": "IPY_MODEL_cc0870ef733f4cb999aeafd7588228df",
      "msg_id": "",
      "outputs": [
       {
        "metadata": {
         "tags": []
        },
        "output_type": "display_data",
        "text/html": "<div>\n<style scoped>\n    .dataframe tbody tr th:only-of-type {\n        vertical-align: middle;\n    }\n\n    .dataframe tbody tr th {\n        vertical-align: top;\n    }\n\n    .dataframe thead th {\n        text-align: right;\n    }\n</style>\n<table border=\"1\" class=\"dataframe\">\n  <thead>\n    <tr style=\"text-align: right;\">\n      <th></th>\n      <th>Parameters</th>\n    </tr>\n  </thead>\n  <tbody>\n    <tr>\n      <th>bootstrap</th>\n      <td>False</td>\n    </tr>\n    <tr>\n      <th>ccp_alpha</th>\n      <td>0.0</td>\n    </tr>\n    <tr>\n      <th>criterion</th>\n      <td>mse</td>\n    </tr>\n    <tr>\n      <th>max_depth</th>\n      <td>None</td>\n    </tr>\n    <tr>\n      <th>max_features</th>\n      <td>auto</td>\n    </tr>\n    <tr>\n      <th>max_leaf_nodes</th>\n      <td>None</td>\n    </tr>\n    <tr>\n      <th>max_samples</th>\n      <td>None</td>\n    </tr>\n    <tr>\n      <th>min_impurity_decrease</th>\n      <td>0.0</td>\n    </tr>\n    <tr>\n      <th>min_impurity_split</th>\n      <td>None</td>\n    </tr>\n    <tr>\n      <th>min_samples_leaf</th>\n      <td>1</td>\n    </tr>\n    <tr>\n      <th>min_samples_split</th>\n      <td>2</td>\n    </tr>\n    <tr>\n      <th>min_weight_fraction_leaf</th>\n      <td>0.0</td>\n    </tr>\n    <tr>\n      <th>n_estimators</th>\n      <td>100</td>\n    </tr>\n    <tr>\n      <th>n_jobs</th>\n      <td>-1</td>\n    </tr>\n    <tr>\n      <th>oob_score</th>\n      <td>False</td>\n    </tr>\n    <tr>\n      <th>random_state</th>\n      <td>4086</td>\n    </tr>\n    <tr>\n      <th>verbose</th>\n      <td>0</td>\n    </tr>\n    <tr>\n      <th>warm_start</th>\n      <td>False</td>\n    </tr>\n  </tbody>\n</table>\n</div>",
        "text/plain": "                         Parameters\nbootstrap                     False\nccp_alpha                       0.0\ncriterion                       mse\nmax_depth                      None\nmax_features                   auto\nmax_leaf_nodes                 None\nmax_samples                    None\nmin_impurity_decrease           0.0\nmin_impurity_split             None\nmin_samples_leaf                  1\nmin_samples_split                 2\nmin_weight_fraction_leaf        0.0\nn_estimators                    100\nn_jobs                           -1\noob_score                     False\nrandom_state                   4086\nverbose                           0\nwarm_start                    False"
       }
      ]
     }
    },
    "3458d376fd414f7b9486d63046d6477f": {
     "model_module": "@jupyter-widgets/controls",
     "model_name": "DescriptionStyleModel",
     "state": {
      "_model_module": "@jupyter-widgets/controls",
      "_model_module_version": "1.5.0",
      "_model_name": "DescriptionStyleModel",
      "_view_count": null,
      "_view_module": "@jupyter-widgets/base",
      "_view_module_version": "1.2.0",
      "_view_name": "StyleView",
      "description_width": ""
     }
    },
    "3a7de82265e541318139943d6bdd6f5c": {
     "model_module": "@jupyter-widgets/output",
     "model_name": "OutputModel",
     "state": {
      "_dom_classes": [],
      "_model_module": "@jupyter-widgets/output",
      "_model_module_version": "1.0.0",
      "_model_name": "OutputModel",
      "_view_count": null,
      "_view_module": "@jupyter-widgets/output",
      "_view_module_version": "1.0.0",
      "_view_name": "OutputView",
      "layout": "IPY_MODEL_62c87846702549fea658dbe549d1f6a5",
      "msg_id": "",
      "outputs": [
       {
        "metadata": {
         "tags": []
        },
        "output_type": "display_data",
        "text/html": "<div>\n<style scoped>\n    .dataframe tbody tr th:only-of-type {\n        vertical-align: middle;\n    }\n\n    .dataframe tbody tr th {\n        vertical-align: top;\n    }\n\n    .dataframe thead th {\n        text-align: right;\n    }\n</style>\n<table border=\"1\" class=\"dataframe\">\n  <thead>\n    <tr style=\"text-align: right;\">\n      <th></th>\n      <th>Parameters</th>\n    </tr>\n  </thead>\n  <tbody>\n    <tr>\n      <th>bootstrap</th>\n      <td>True</td>\n    </tr>\n    <tr>\n      <th>ccp_alpha</th>\n      <td>0.0</td>\n    </tr>\n    <tr>\n      <th>criterion</th>\n      <td>mse</td>\n    </tr>\n    <tr>\n      <th>max_depth</th>\n      <td>None</td>\n    </tr>\n    <tr>\n      <th>max_features</th>\n      <td>auto</td>\n    </tr>\n    <tr>\n      <th>max_leaf_nodes</th>\n      <td>None</td>\n    </tr>\n    <tr>\n      <th>max_samples</th>\n      <td>None</td>\n    </tr>\n    <tr>\n      <th>min_impurity_decrease</th>\n      <td>0.0</td>\n    </tr>\n    <tr>\n      <th>min_impurity_split</th>\n      <td>None</td>\n    </tr>\n    <tr>\n      <th>min_samples_leaf</th>\n      <td>1</td>\n    </tr>\n    <tr>\n      <th>min_samples_split</th>\n      <td>2</td>\n    </tr>\n    <tr>\n      <th>min_weight_fraction_leaf</th>\n      <td>0.0</td>\n    </tr>\n    <tr>\n      <th>n_estimators</th>\n      <td>100</td>\n    </tr>\n    <tr>\n      <th>n_jobs</th>\n      <td>-1</td>\n    </tr>\n    <tr>\n      <th>oob_score</th>\n      <td>False</td>\n    </tr>\n    <tr>\n      <th>random_state</th>\n      <td>4086</td>\n    </tr>\n    <tr>\n      <th>verbose</th>\n      <td>0</td>\n    </tr>\n    <tr>\n      <th>warm_start</th>\n      <td>False</td>\n    </tr>\n  </tbody>\n</table>\n</div>",
        "text/plain": "                         Parameters\nbootstrap                      True\nccp_alpha                       0.0\ncriterion                       mse\nmax_depth                      None\nmax_features                   auto\nmax_leaf_nodes                 None\nmax_samples                    None\nmin_impurity_decrease           0.0\nmin_impurity_split             None\nmin_samples_leaf                  1\nmin_samples_split                 2\nmin_weight_fraction_leaf        0.0\nn_estimators                    100\nn_jobs                           -1\noob_score                     False\nrandom_state                   4086\nverbose                           0\nwarm_start                    False"
       }
      ]
     }
    },
    "3c220e2447ab4bd4aa58e33b47bb42f9": {
     "model_module": "@jupyter-widgets/controls",
     "model_name": "IntProgressModel",
     "state": {
      "_dom_classes": [],
      "_model_module": "@jupyter-widgets/controls",
      "_model_module_version": "1.5.0",
      "_model_name": "IntProgressModel",
      "_view_count": null,
      "_view_module": "@jupyter-widgets/controls",
      "_view_module_version": "1.5.0",
      "_view_name": "ProgressView",
      "bar_style": "",
      "description": "Processing: ",
      "description_tooltip": null,
      "layout": "IPY_MODEL_540ccdcb8fbc4a52a936026fe494cda7",
      "max": 6,
      "min": 0,
      "orientation": "horizontal",
      "style": "IPY_MODEL_b1772c737686411f810a4e73769ef99e",
      "value": 6
     }
    },
    "3e971f1688d84f329232a7092fde6c11": {
     "model_module": "@jupyter-widgets/controls",
     "model_name": "IntProgressModel",
     "state": {
      "_dom_classes": [],
      "_model_module": "@jupyter-widgets/controls",
      "_model_module_version": "1.5.0",
      "_model_name": "IntProgressModel",
      "_view_count": null,
      "_view_module": "@jupyter-widgets/controls",
      "_view_module_version": "1.5.0",
      "_view_name": "ProgressView",
      "bar_style": "",
      "description": "Processing: ",
      "description_tooltip": null,
      "layout": "IPY_MODEL_67289b08177e45f487628501a4b29c0c",
      "max": 6,
      "min": 0,
      "orientation": "horizontal",
      "style": "IPY_MODEL_eb14e0b9e3364195bea8c75759d1faa8",
      "value": 6
     }
    },
    "4139350976fd450db7f2efc3f58da03b": {
     "model_module": "@jupyter-widgets/controls",
     "model_name": "ProgressStyleModel",
     "state": {
      "_model_module": "@jupyter-widgets/controls",
      "_model_module_version": "1.5.0",
      "_model_name": "ProgressStyleModel",
      "_view_count": null,
      "_view_module": "@jupyter-widgets/base",
      "_view_module_version": "1.2.0",
      "_view_name": "StyleView",
      "bar_color": null,
      "description_width": ""
     }
    },
    "449244cee6d9477b90d2d844c7f2c266": {
     "model_module": "@jupyter-widgets/controls",
     "model_name": "ProgressStyleModel",
     "state": {
      "_model_module": "@jupyter-widgets/controls",
      "_model_module_version": "1.5.0",
      "_model_name": "ProgressStyleModel",
      "_view_count": null,
      "_view_module": "@jupyter-widgets/base",
      "_view_module_version": "1.2.0",
      "_view_name": "StyleView",
      "bar_color": null,
      "description_width": ""
     }
    },
    "48ef29b31e444fd198188e193e715f27": {
     "model_module": "@jupyter-widgets/controls",
     "model_name": "TextModel",
     "state": {
      "_dom_classes": [],
      "_model_module": "@jupyter-widgets/controls",
      "_model_module_version": "1.5.0",
      "_model_name": "TextModel",
      "_view_count": null,
      "_view_module": "@jupyter-widgets/controls",
      "_view_module_version": "1.5.0",
      "_view_name": "TextView",
      "continuous_update": true,
      "description": "",
      "description_tooltip": null,
      "disabled": false,
      "layout": "IPY_MODEL_2d64f9669f8c4c6bbe44d32584b024ff",
      "placeholder": "​",
      "style": "IPY_MODEL_3458d376fd414f7b9486d63046d6477f",
      "value": "Following data types have been inferred automatically, if they are correct press enter to continue or type 'quit' otherwise."
     }
    },
    "53a920eb235f43a6ba703e461616cb90": {
     "model_module": "@jupyter-widgets/base",
     "model_name": "LayoutModel",
     "state": {
      "_model_module": "@jupyter-widgets/base",
      "_model_module_version": "1.2.0",
      "_model_name": "LayoutModel",
      "_view_count": null,
      "_view_module": "@jupyter-widgets/base",
      "_view_module_version": "1.2.0",
      "_view_name": "LayoutView",
      "align_content": null,
      "align_items": null,
      "align_self": null,
      "border": null,
      "bottom": null,
      "display": null,
      "flex": null,
      "flex_flow": null,
      "grid_area": null,
      "grid_auto_columns": null,
      "grid_auto_flow": null,
      "grid_auto_rows": null,
      "grid_column": null,
      "grid_gap": null,
      "grid_row": null,
      "grid_template_areas": null,
      "grid_template_columns": null,
      "grid_template_rows": null,
      "height": null,
      "justify_content": null,
      "justify_items": null,
      "left": null,
      "margin": null,
      "max_height": null,
      "max_width": null,
      "min_height": null,
      "min_width": null,
      "object_fit": null,
      "object_position": null,
      "order": null,
      "overflow": null,
      "overflow_x": null,
      "overflow_y": null,
      "padding": null,
      "right": null,
      "top": null,
      "visibility": null,
      "width": null
     }
    },
    "540ccdcb8fbc4a52a936026fe494cda7": {
     "model_module": "@jupyter-widgets/base",
     "model_name": "LayoutModel",
     "state": {
      "_model_module": "@jupyter-widgets/base",
      "_model_module_version": "1.2.0",
      "_model_name": "LayoutModel",
      "_view_count": null,
      "_view_module": "@jupyter-widgets/base",
      "_view_module_version": "1.2.0",
      "_view_name": "LayoutView",
      "align_content": null,
      "align_items": null,
      "align_self": null,
      "border": null,
      "bottom": null,
      "display": null,
      "flex": null,
      "flex_flow": null,
      "grid_area": null,
      "grid_auto_columns": null,
      "grid_auto_flow": null,
      "grid_auto_rows": null,
      "grid_column": null,
      "grid_gap": null,
      "grid_row": null,
      "grid_template_areas": null,
      "grid_template_columns": null,
      "grid_template_rows": null,
      "height": null,
      "justify_content": null,
      "justify_items": null,
      "left": null,
      "margin": null,
      "max_height": null,
      "max_width": null,
      "min_height": null,
      "min_width": null,
      "object_fit": null,
      "object_position": null,
      "order": null,
      "overflow": null,
      "overflow_x": null,
      "overflow_y": null,
      "padding": null,
      "right": null,
      "top": null,
      "visibility": null,
      "width": null
     }
    },
    "5caccec133db4a27bc5ee416c689b84b": {
     "model_module": "@jupyter-widgets/base",
     "model_name": "LayoutModel",
     "state": {
      "_model_module": "@jupyter-widgets/base",
      "_model_module_version": "1.2.0",
      "_model_name": "LayoutModel",
      "_view_count": null,
      "_view_module": "@jupyter-widgets/base",
      "_view_module_version": "1.2.0",
      "_view_name": "LayoutView",
      "align_content": null,
      "align_items": null,
      "align_self": null,
      "border": null,
      "bottom": null,
      "display": null,
      "flex": null,
      "flex_flow": null,
      "grid_area": null,
      "grid_auto_columns": null,
      "grid_auto_flow": null,
      "grid_auto_rows": null,
      "grid_column": null,
      "grid_gap": null,
      "grid_row": null,
      "grid_template_areas": null,
      "grid_template_columns": null,
      "grid_template_rows": null,
      "height": null,
      "justify_content": null,
      "justify_items": null,
      "left": null,
      "margin": null,
      "max_height": null,
      "max_width": null,
      "min_height": null,
      "min_width": null,
      "object_fit": null,
      "object_position": null,
      "order": null,
      "overflow": null,
      "overflow_x": null,
      "overflow_y": null,
      "padding": null,
      "right": null,
      "top": null,
      "visibility": null,
      "width": null
     }
    },
    "60f7a26415f2418290ffee8042de9143": {
     "model_module": "@jupyter-widgets/controls",
     "model_name": "ProgressStyleModel",
     "state": {
      "_model_module": "@jupyter-widgets/controls",
      "_model_module_version": "1.5.0",
      "_model_name": "ProgressStyleModel",
      "_view_count": null,
      "_view_module": "@jupyter-widgets/base",
      "_view_module_version": "1.2.0",
      "_view_name": "StyleView",
      "bar_color": null,
      "description_width": ""
     }
    },
    "62a67b62963e478c8fb082a798ec1a8f": {
     "model_module": "@jupyter-widgets/base",
     "model_name": "LayoutModel",
     "state": {
      "_model_module": "@jupyter-widgets/base",
      "_model_module_version": "1.2.0",
      "_model_name": "LayoutModel",
      "_view_count": null,
      "_view_module": "@jupyter-widgets/base",
      "_view_module_version": "1.2.0",
      "_view_name": "LayoutView",
      "align_content": null,
      "align_items": null,
      "align_self": null,
      "border": null,
      "bottom": null,
      "display": null,
      "flex": null,
      "flex_flow": null,
      "grid_area": null,
      "grid_auto_columns": null,
      "grid_auto_flow": null,
      "grid_auto_rows": null,
      "grid_column": null,
      "grid_gap": null,
      "grid_row": null,
      "grid_template_areas": null,
      "grid_template_columns": null,
      "grid_template_rows": null,
      "height": null,
      "justify_content": null,
      "justify_items": null,
      "left": null,
      "margin": null,
      "max_height": null,
      "max_width": null,
      "min_height": null,
      "min_width": null,
      "object_fit": null,
      "object_position": null,
      "order": null,
      "overflow": null,
      "overflow_x": null,
      "overflow_y": null,
      "padding": null,
      "right": null,
      "top": null,
      "visibility": null,
      "width": null
     }
    },
    "62c2f03af388474c928aaf7d93f226c8": {
     "model_module": "@jupyter-widgets/controls",
     "model_name": "ToggleButtonsModel",
     "state": {
      "_dom_classes": [],
      "_model_module": "@jupyter-widgets/controls",
      "_model_module_version": "1.5.0",
      "_model_name": "ToggleButtonsModel",
      "_options_labels": [
       "Hyperparameters",
       "Residuals",
       "Prediction Error",
       "Cooks Distance",
       "Feature Selection",
       "Learning Curve",
       "Manifold Learning",
       "Validation Curve",
       "Feature Importance",
       "Feature Importance (All)",
       "Decision Tree",
       "Interactive Residuals"
      ],
      "_view_count": null,
      "_view_module": "@jupyter-widgets/controls",
      "_view_module_version": "1.5.0",
      "_view_name": "ToggleButtonsView",
      "button_style": "",
      "description": "Plot Type:",
      "description_tooltip": null,
      "disabled": false,
      "icons": [
       ""
      ],
      "index": 0,
      "layout": "IPY_MODEL_53a920eb235f43a6ba703e461616cb90",
      "style": "IPY_MODEL_dee83030743e43f7a8b09779b8a12bc4",
      "tooltips": []
     }
    },
    "62c87846702549fea658dbe549d1f6a5": {
     "model_module": "@jupyter-widgets/base",
     "model_name": "LayoutModel",
     "state": {
      "_model_module": "@jupyter-widgets/base",
      "_model_module_version": "1.2.0",
      "_model_name": "LayoutModel",
      "_view_count": null,
      "_view_module": "@jupyter-widgets/base",
      "_view_module_version": "1.2.0",
      "_view_name": "LayoutView",
      "align_content": null,
      "align_items": null,
      "align_self": null,
      "border": null,
      "bottom": null,
      "display": null,
      "flex": null,
      "flex_flow": null,
      "grid_area": null,
      "grid_auto_columns": null,
      "grid_auto_flow": null,
      "grid_auto_rows": null,
      "grid_column": null,
      "grid_gap": null,
      "grid_row": null,
      "grid_template_areas": null,
      "grid_template_columns": null,
      "grid_template_rows": null,
      "height": null,
      "justify_content": null,
      "justify_items": null,
      "left": null,
      "margin": null,
      "max_height": null,
      "max_width": null,
      "min_height": null,
      "min_width": null,
      "object_fit": null,
      "object_position": null,
      "order": null,
      "overflow": null,
      "overflow_x": null,
      "overflow_y": null,
      "padding": null,
      "right": null,
      "top": null,
      "visibility": null,
      "width": null
     }
    },
    "67289b08177e45f487628501a4b29c0c": {
     "model_module": "@jupyter-widgets/base",
     "model_name": "LayoutModel",
     "state": {
      "_model_module": "@jupyter-widgets/base",
      "_model_module_version": "1.2.0",
      "_model_name": "LayoutModel",
      "_view_count": null,
      "_view_module": "@jupyter-widgets/base",
      "_view_module_version": "1.2.0",
      "_view_name": "LayoutView",
      "align_content": null,
      "align_items": null,
      "align_self": null,
      "border": null,
      "bottom": null,
      "display": null,
      "flex": null,
      "flex_flow": null,
      "grid_area": null,
      "grid_auto_columns": null,
      "grid_auto_flow": null,
      "grid_auto_rows": null,
      "grid_column": null,
      "grid_gap": null,
      "grid_row": null,
      "grid_template_areas": null,
      "grid_template_columns": null,
      "grid_template_rows": null,
      "height": null,
      "justify_content": null,
      "justify_items": null,
      "left": null,
      "margin": null,
      "max_height": null,
      "max_width": null,
      "min_height": null,
      "min_width": null,
      "object_fit": null,
      "object_position": null,
      "order": null,
      "overflow": null,
      "overflow_x": null,
      "overflow_y": null,
      "padding": null,
      "right": null,
      "top": null,
      "visibility": null,
      "width": null
     }
    },
    "6e186e50a8384b05bd0dfdf1b7c253f8": {
     "model_module": "@jupyter-widgets/controls",
     "model_name": "ToggleButtonsStyleModel",
     "state": {
      "_model_module": "@jupyter-widgets/controls",
      "_model_module_version": "1.5.0",
      "_model_name": "ToggleButtonsStyleModel",
      "_view_count": null,
      "_view_module": "@jupyter-widgets/base",
      "_view_module_version": "1.2.0",
      "_view_name": "StyleView",
      "button_width": "",
      "description_width": "",
      "font_weight": ""
     }
    },
    "725e197a1e0f42ffbec096e6488062f8": {
     "model_module": "@jupyter-widgets/base",
     "model_name": "LayoutModel",
     "state": {
      "_model_module": "@jupyter-widgets/base",
      "_model_module_version": "1.2.0",
      "_model_name": "LayoutModel",
      "_view_count": null,
      "_view_module": "@jupyter-widgets/base",
      "_view_module_version": "1.2.0",
      "_view_name": "LayoutView",
      "align_content": null,
      "align_items": null,
      "align_self": null,
      "border": null,
      "bottom": null,
      "display": null,
      "flex": null,
      "flex_flow": null,
      "grid_area": null,
      "grid_auto_columns": null,
      "grid_auto_flow": null,
      "grid_auto_rows": null,
      "grid_column": null,
      "grid_gap": null,
      "grid_row": null,
      "grid_template_areas": null,
      "grid_template_columns": null,
      "grid_template_rows": null,
      "height": null,
      "justify_content": null,
      "justify_items": null,
      "left": null,
      "margin": null,
      "max_height": null,
      "max_width": null,
      "min_height": null,
      "min_width": null,
      "object_fit": null,
      "object_position": null,
      "order": null,
      "overflow": null,
      "overflow_x": null,
      "overflow_y": null,
      "padding": null,
      "right": null,
      "top": null,
      "visibility": null,
      "width": null
     }
    },
    "7a6d927cfa3942a69c5d8f517dfee774": {
     "model_module": "@jupyter-widgets/controls",
     "model_name": "ToggleButtonsStyleModel",
     "state": {
      "_model_module": "@jupyter-widgets/controls",
      "_model_module_version": "1.5.0",
      "_model_name": "ToggleButtonsStyleModel",
      "_view_count": null,
      "_view_module": "@jupyter-widgets/base",
      "_view_module_version": "1.2.0",
      "_view_name": "StyleView",
      "button_width": "",
      "description_width": "",
      "font_weight": ""
     }
    },
    "7acd167981ce4db98093d64306f34005": {
     "model_module": "@jupyter-widgets/controls",
     "model_name": "ProgressStyleModel",
     "state": {
      "_model_module": "@jupyter-widgets/controls",
      "_model_module_version": "1.5.0",
      "_model_name": "ProgressStyleModel",
      "_view_count": null,
      "_view_module": "@jupyter-widgets/base",
      "_view_module_version": "1.2.0",
      "_view_name": "StyleView",
      "bar_color": null,
      "description_width": ""
     }
    },
    "810a1bbaf4b7472bad587eb48d326e9d": {
     "model_module": "@jupyter-widgets/base",
     "model_name": "LayoutModel",
     "state": {
      "_model_module": "@jupyter-widgets/base",
      "_model_module_version": "1.2.0",
      "_model_name": "LayoutModel",
      "_view_count": null,
      "_view_module": "@jupyter-widgets/base",
      "_view_module_version": "1.2.0",
      "_view_name": "LayoutView",
      "align_content": null,
      "align_items": null,
      "align_self": null,
      "border": null,
      "bottom": null,
      "display": null,
      "flex": null,
      "flex_flow": null,
      "grid_area": null,
      "grid_auto_columns": null,
      "grid_auto_flow": null,
      "grid_auto_rows": null,
      "grid_column": null,
      "grid_gap": null,
      "grid_row": null,
      "grid_template_areas": null,
      "grid_template_columns": null,
      "grid_template_rows": null,
      "height": null,
      "justify_content": null,
      "justify_items": null,
      "left": null,
      "margin": null,
      "max_height": null,
      "max_width": null,
      "min_height": null,
      "min_width": null,
      "object_fit": null,
      "object_position": null,
      "order": null,
      "overflow": null,
      "overflow_x": null,
      "overflow_y": null,
      "padding": null,
      "right": null,
      "top": null,
      "visibility": null,
      "width": null
     }
    },
    "82b32e1c787b4fb3898b64e35302c65b": {
     "model_module": "@jupyter-widgets/controls",
     "model_name": "ProgressStyleModel",
     "state": {
      "_model_module": "@jupyter-widgets/controls",
      "_model_module_version": "1.5.0",
      "_model_name": "ProgressStyleModel",
      "_view_count": null,
      "_view_module": "@jupyter-widgets/base",
      "_view_module_version": "1.2.0",
      "_view_name": "StyleView",
      "bar_color": null,
      "description_width": ""
     }
    },
    "8967b8bb9a0d471ba03d6fbe965467c0": {
     "model_module": "@jupyter-widgets/controls",
     "model_name": "ProgressStyleModel",
     "state": {
      "_model_module": "@jupyter-widgets/controls",
      "_model_module_version": "1.5.0",
      "_model_name": "ProgressStyleModel",
      "_view_count": null,
      "_view_module": "@jupyter-widgets/base",
      "_view_module_version": "1.2.0",
      "_view_name": "StyleView",
      "bar_color": null,
      "description_width": ""
     }
    },
    "8bf3de78fdb841308711929c34fb2c58": {
     "model_module": "@jupyter-widgets/controls",
     "model_name": "VBoxModel",
     "state": {
      "_dom_classes": [
       "widget-interact"
      ],
      "_model_module": "@jupyter-widgets/controls",
      "_model_module_version": "1.5.0",
      "_model_name": "VBoxModel",
      "_view_count": null,
      "_view_module": "@jupyter-widgets/controls",
      "_view_module_version": "1.5.0",
      "_view_name": "VBoxView",
      "box_style": "",
      "children": [
       "IPY_MODEL_62c2f03af388474c928aaf7d93f226c8",
       "IPY_MODEL_25962e6a2dc2431e86a7aaf1a9712fd7"
      ],
      "layout": "IPY_MODEL_c0defe4d9adb4e128b87bb4f4b1d69cd"
     }
    },
    "9cd69c83997c4ed49d2969ed5db4a06b": {
     "model_module": "@jupyter-widgets/base",
     "model_name": "LayoutModel",
     "state": {
      "_model_module": "@jupyter-widgets/base",
      "_model_module_version": "1.2.0",
      "_model_name": "LayoutModel",
      "_view_count": null,
      "_view_module": "@jupyter-widgets/base",
      "_view_module_version": "1.2.0",
      "_view_name": "LayoutView",
      "align_content": null,
      "align_items": null,
      "align_self": null,
      "border": null,
      "bottom": null,
      "display": null,
      "flex": null,
      "flex_flow": null,
      "grid_area": null,
      "grid_auto_columns": null,
      "grid_auto_flow": null,
      "grid_auto_rows": null,
      "grid_column": null,
      "grid_gap": null,
      "grid_row": null,
      "grid_template_areas": null,
      "grid_template_columns": null,
      "grid_template_rows": null,
      "height": null,
      "justify_content": null,
      "justify_items": null,
      "left": null,
      "margin": null,
      "max_height": null,
      "max_width": null,
      "min_height": null,
      "min_width": null,
      "object_fit": null,
      "object_position": null,
      "order": null,
      "overflow": null,
      "overflow_x": null,
      "overflow_y": null,
      "padding": null,
      "right": null,
      "top": null,
      "visibility": null,
      "width": null
     }
    },
    "a76ad97003b64a7aaa377ece5cc0ec7d": {
     "model_module": "@jupyter-widgets/controls",
     "model_name": "ProgressStyleModel",
     "state": {
      "_model_module": "@jupyter-widgets/controls",
      "_model_module_version": "1.5.0",
      "_model_name": "ProgressStyleModel",
      "_view_count": null,
      "_view_module": "@jupyter-widgets/base",
      "_view_module_version": "1.2.0",
      "_view_name": "StyleView",
      "bar_color": null,
      "description_width": ""
     }
    },
    "a7f119ae33f24d4bae95a8eedb414d6f": {
     "model_module": "@jupyter-widgets/base",
     "model_name": "LayoutModel",
     "state": {
      "_model_module": "@jupyter-widgets/base",
      "_model_module_version": "1.2.0",
      "_model_name": "LayoutModel",
      "_view_count": null,
      "_view_module": "@jupyter-widgets/base",
      "_view_module_version": "1.2.0",
      "_view_name": "LayoutView",
      "align_content": null,
      "align_items": null,
      "align_self": null,
      "border": null,
      "bottom": null,
      "display": null,
      "flex": null,
      "flex_flow": null,
      "grid_area": null,
      "grid_auto_columns": null,
      "grid_auto_flow": null,
      "grid_auto_rows": null,
      "grid_column": null,
      "grid_gap": null,
      "grid_row": null,
      "grid_template_areas": null,
      "grid_template_columns": null,
      "grid_template_rows": null,
      "height": null,
      "justify_content": null,
      "justify_items": null,
      "left": null,
      "margin": null,
      "max_height": null,
      "max_width": null,
      "min_height": null,
      "min_width": null,
      "object_fit": null,
      "object_position": null,
      "order": null,
      "overflow": null,
      "overflow_x": null,
      "overflow_y": null,
      "padding": null,
      "right": null,
      "top": null,
      "visibility": null,
      "width": null
     }
    },
    "b1772c737686411f810a4e73769ef99e": {
     "model_module": "@jupyter-widgets/controls",
     "model_name": "ProgressStyleModel",
     "state": {
      "_model_module": "@jupyter-widgets/controls",
      "_model_module_version": "1.5.0",
      "_model_name": "ProgressStyleModel",
      "_view_count": null,
      "_view_module": "@jupyter-widgets/base",
      "_view_module_version": "1.2.0",
      "_view_name": "StyleView",
      "bar_color": null,
      "description_width": ""
     }
    },
    "b64a2381ed0a4bc99a0f7a4c35881f89": {
     "model_module": "@jupyter-widgets/controls",
     "model_name": "IntProgressModel",
     "state": {
      "_dom_classes": [],
      "_model_module": "@jupyter-widgets/controls",
      "_model_module_version": "1.5.0",
      "_model_name": "IntProgressModel",
      "_view_count": null,
      "_view_module": "@jupyter-widgets/controls",
      "_view_module_version": "1.5.0",
      "_view_name": "ProgressView",
      "bar_style": "",
      "description": "Processing: ",
      "description_tooltip": null,
      "layout": "IPY_MODEL_25dcc7c6ff714c93838aea7a314bbea9",
      "max": 5,
      "min": 0,
      "orientation": "horizontal",
      "style": "IPY_MODEL_d18100b1246d4e71b14d35bfa9e694b6",
      "value": 3
     }
    },
    "bb91b1da42744c6e8b81540fa90a6466": {
     "model_module": "@jupyter-widgets/controls",
     "model_name": "VBoxModel",
     "state": {
      "_dom_classes": [
       "widget-interact"
      ],
      "_model_module": "@jupyter-widgets/controls",
      "_model_module_version": "1.5.0",
      "_model_name": "VBoxModel",
      "_view_count": null,
      "_view_module": "@jupyter-widgets/controls",
      "_view_module_version": "1.5.0",
      "_view_name": "VBoxView",
      "box_style": "",
      "children": [
       "IPY_MODEL_cd2a5646ee134590a1c535cfed405eb2",
       "IPY_MODEL_320b54aebd8c483e9581d8969330ba89"
      ],
      "layout": "IPY_MODEL_cef4da6626cb45e2a712c6f69cea62e1"
     }
    },
    "bcbc1fc25a8e4700a5636d7d0f2875cf": {
     "model_module": "@jupyter-widgets/controls",
     "model_name": "IntProgressModel",
     "state": {
      "_dom_classes": [],
      "_model_module": "@jupyter-widgets/controls",
      "_model_module_version": "1.5.0",
      "_model_name": "IntProgressModel",
      "_view_count": null,
      "_view_module": "@jupyter-widgets/controls",
      "_view_module_version": "1.5.0",
      "_view_name": "ProgressView",
      "bar_style": "",
      "description": "Processing: ",
      "description_tooltip": null,
      "layout": "IPY_MODEL_725e197a1e0f42ffbec096e6488062f8",
      "max": 89,
      "min": 0,
      "orientation": "horizontal",
      "style": "IPY_MODEL_60f7a26415f2418290ffee8042de9143",
      "value": 89
     }
    },
    "c0defe4d9adb4e128b87bb4f4b1d69cd": {
     "model_module": "@jupyter-widgets/base",
     "model_name": "LayoutModel",
     "state": {
      "_model_module": "@jupyter-widgets/base",
      "_model_module_version": "1.2.0",
      "_model_name": "LayoutModel",
      "_view_count": null,
      "_view_module": "@jupyter-widgets/base",
      "_view_module_version": "1.2.0",
      "_view_name": "LayoutView",
      "align_content": null,
      "align_items": null,
      "align_self": null,
      "border": null,
      "bottom": null,
      "display": null,
      "flex": null,
      "flex_flow": null,
      "grid_area": null,
      "grid_auto_columns": null,
      "grid_auto_flow": null,
      "grid_auto_rows": null,
      "grid_column": null,
      "grid_gap": null,
      "grid_row": null,
      "grid_template_areas": null,
      "grid_template_columns": null,
      "grid_template_rows": null,
      "height": null,
      "justify_content": null,
      "justify_items": null,
      "left": null,
      "margin": null,
      "max_height": null,
      "max_width": null,
      "min_height": null,
      "min_width": null,
      "object_fit": null,
      "object_position": null,
      "order": null,
      "overflow": null,
      "overflow_x": null,
      "overflow_y": null,
      "padding": null,
      "right": null,
      "top": null,
      "visibility": null,
      "width": null
     }
    },
    "c1ca9e74d0d84e31be6cbe9b71810f71": {
     "model_module": "@jupyter-widgets/controls",
     "model_name": "IntProgressModel",
     "state": {
      "_dom_classes": [],
      "_model_module": "@jupyter-widgets/controls",
      "_model_module_version": "1.5.0",
      "_model_name": "IntProgressModel",
      "_view_count": null,
      "_view_module": "@jupyter-widgets/controls",
      "_view_module_version": "1.5.0",
      "_view_name": "ProgressView",
      "bar_style": "",
      "description": "Processing: ",
      "description_tooltip": null,
      "layout": "IPY_MODEL_5caccec133db4a27bc5ee416c689b84b",
      "max": 5,
      "min": 0,
      "orientation": "horizontal",
      "style": "IPY_MODEL_a76ad97003b64a7aaa377ece5cc0ec7d",
      "value": 3
     }
    },
    "c44024894b4644d6a076b3924798eb0d": {
     "model_module": "@jupyter-widgets/base",
     "model_name": "LayoutModel",
     "state": {
      "_model_module": "@jupyter-widgets/base",
      "_model_module_version": "1.2.0",
      "_model_name": "LayoutModel",
      "_view_count": null,
      "_view_module": "@jupyter-widgets/base",
      "_view_module_version": "1.2.0",
      "_view_name": "LayoutView",
      "align_content": null,
      "align_items": null,
      "align_self": null,
      "border": null,
      "bottom": null,
      "display": null,
      "flex": null,
      "flex_flow": null,
      "grid_area": null,
      "grid_auto_columns": null,
      "grid_auto_flow": null,
      "grid_auto_rows": null,
      "grid_column": null,
      "grid_gap": null,
      "grid_row": null,
      "grid_template_areas": null,
      "grid_template_columns": null,
      "grid_template_rows": null,
      "height": null,
      "justify_content": null,
      "justify_items": null,
      "left": null,
      "margin": null,
      "max_height": null,
      "max_width": null,
      "min_height": null,
      "min_width": null,
      "object_fit": null,
      "object_position": null,
      "order": null,
      "overflow": null,
      "overflow_x": null,
      "overflow_y": null,
      "padding": null,
      "right": null,
      "top": null,
      "visibility": null,
      "width": null
     }
    },
    "c71c2133ce6f47a092b725d47072e6fb": {
     "model_module": "@jupyter-widgets/controls",
     "model_name": "IntProgressModel",
     "state": {
      "_dom_classes": [],
      "_model_module": "@jupyter-widgets/controls",
      "_model_module_version": "1.5.0",
      "_model_name": "IntProgressModel",
      "_view_count": null,
      "_view_module": "@jupyter-widgets/controls",
      "_view_module_version": "1.5.0",
      "_view_name": "ProgressView",
      "bar_style": "",
      "description": "Processing: ",
      "description_tooltip": null,
      "layout": "IPY_MODEL_dc21aa4a58cd4d4ca47c18a220063c2e",
      "max": 7,
      "min": 0,
      "orientation": "horizontal",
      "style": "IPY_MODEL_0c3bdd5b5d1a4e76ac841aa46ec51a6e",
      "value": 7
     }
    },
    "c9615db056114b1f8413a4089eff2abe": {
     "model_module": "@jupyter-widgets/controls",
     "model_name": "VBoxModel",
     "state": {
      "_dom_classes": [
       "widget-interact"
      ],
      "_model_module": "@jupyter-widgets/controls",
      "_model_module_version": "1.5.0",
      "_model_name": "VBoxModel",
      "_view_count": null,
      "_view_module": "@jupyter-widgets/controls",
      "_view_module_version": "1.5.0",
      "_view_name": "VBoxView",
      "box_style": "",
      "children": [
       "IPY_MODEL_2b0cb114ff7d437092d67c1d4bb9bd2e",
       "IPY_MODEL_3a7de82265e541318139943d6bdd6f5c"
      ],
      "layout": "IPY_MODEL_f5f1e13761a94a5d9904aa308d5c5611"
     }
    },
    "ca8b05d618ec43189c4e68e00c269725": {
     "model_module": "@jupyter-widgets/controls",
     "model_name": "IntProgressModel",
     "state": {
      "_dom_classes": [],
      "_model_module": "@jupyter-widgets/controls",
      "_model_module_version": "1.5.0",
      "_model_name": "IntProgressModel",
      "_view_count": null,
      "_view_module": "@jupyter-widgets/controls",
      "_view_module_version": "1.5.0",
      "_view_name": "ProgressView",
      "bar_style": "",
      "description": "Processing: ",
      "description_tooltip": null,
      "layout": "IPY_MODEL_fe66f8744dcb49c4a7e253fe35a4efdb",
      "max": 7,
      "min": 0,
      "orientation": "horizontal",
      "style": "IPY_MODEL_4139350976fd450db7f2efc3f58da03b",
      "value": 7
     }
    },
    "cc0870ef733f4cb999aeafd7588228df": {
     "model_module": "@jupyter-widgets/base",
     "model_name": "LayoutModel",
     "state": {
      "_model_module": "@jupyter-widgets/base",
      "_model_module_version": "1.2.0",
      "_model_name": "LayoutModel",
      "_view_count": null,
      "_view_module": "@jupyter-widgets/base",
      "_view_module_version": "1.2.0",
      "_view_name": "LayoutView",
      "align_content": null,
      "align_items": null,
      "align_self": null,
      "border": null,
      "bottom": null,
      "display": null,
      "flex": null,
      "flex_flow": null,
      "grid_area": null,
      "grid_auto_columns": null,
      "grid_auto_flow": null,
      "grid_auto_rows": null,
      "grid_column": null,
      "grid_gap": null,
      "grid_row": null,
      "grid_template_areas": null,
      "grid_template_columns": null,
      "grid_template_rows": null,
      "height": null,
      "justify_content": null,
      "justify_items": null,
      "left": null,
      "margin": null,
      "max_height": null,
      "max_width": null,
      "min_height": null,
      "min_width": null,
      "object_fit": null,
      "object_position": null,
      "order": null,
      "overflow": null,
      "overflow_x": null,
      "overflow_y": null,
      "padding": null,
      "right": null,
      "top": null,
      "visibility": null,
      "width": null
     }
    },
    "cd2a5646ee134590a1c535cfed405eb2": {
     "model_module": "@jupyter-widgets/controls",
     "model_name": "ToggleButtonsModel",
     "state": {
      "_dom_classes": [],
      "_model_module": "@jupyter-widgets/controls",
      "_model_module_version": "1.5.0",
      "_model_name": "ToggleButtonsModel",
      "_options_labels": [
       "Hyperparameters",
       "Residuals",
       "Prediction Error",
       "Cooks Distance",
       "Feature Selection",
       "Learning Curve",
       "Manifold Learning",
       "Validation Curve",
       "Feature Importance",
       "Feature Importance (All)",
       "Decision Tree",
       "Interactive Residuals"
      ],
      "_view_count": null,
      "_view_module": "@jupyter-widgets/controls",
      "_view_module_version": "1.5.0",
      "_view_name": "ToggleButtonsView",
      "button_style": "",
      "description": "Plot Type:",
      "description_tooltip": null,
      "disabled": false,
      "icons": [
       ""
      ],
      "index": 0,
      "layout": "IPY_MODEL_1fc556fe3f334e03bd48d3400993ee63",
      "style": "IPY_MODEL_6e186e50a8384b05bd0dfdf1b7c253f8",
      "tooltips": []
     }
    },
    "cef4da6626cb45e2a712c6f69cea62e1": {
     "model_module": "@jupyter-widgets/base",
     "model_name": "LayoutModel",
     "state": {
      "_model_module": "@jupyter-widgets/base",
      "_model_module_version": "1.2.0",
      "_model_name": "LayoutModel",
      "_view_count": null,
      "_view_module": "@jupyter-widgets/base",
      "_view_module_version": "1.2.0",
      "_view_name": "LayoutView",
      "align_content": null,
      "align_items": null,
      "align_self": null,
      "border": null,
      "bottom": null,
      "display": null,
      "flex": null,
      "flex_flow": null,
      "grid_area": null,
      "grid_auto_columns": null,
      "grid_auto_flow": null,
      "grid_auto_rows": null,
      "grid_column": null,
      "grid_gap": null,
      "grid_row": null,
      "grid_template_areas": null,
      "grid_template_columns": null,
      "grid_template_rows": null,
      "height": null,
      "justify_content": null,
      "justify_items": null,
      "left": null,
      "margin": null,
      "max_height": null,
      "max_width": null,
      "min_height": null,
      "min_width": null,
      "object_fit": null,
      "object_position": null,
      "order": null,
      "overflow": null,
      "overflow_x": null,
      "overflow_y": null,
      "padding": null,
      "right": null,
      "top": null,
      "visibility": null,
      "width": null
     }
    },
    "d18100b1246d4e71b14d35bfa9e694b6": {
     "model_module": "@jupyter-widgets/controls",
     "model_name": "ProgressStyleModel",
     "state": {
      "_model_module": "@jupyter-widgets/controls",
      "_model_module_version": "1.5.0",
      "_model_name": "ProgressStyleModel",
      "_view_count": null,
      "_view_module": "@jupyter-widgets/base",
      "_view_module_version": "1.2.0",
      "_view_name": "StyleView",
      "bar_color": null,
      "description_width": ""
     }
    },
    "d939287f95974d6e9e35bb8202c7e6c6": {
     "model_module": "@jupyter-widgets/controls",
     "model_name": "IntProgressModel",
     "state": {
      "_dom_classes": [],
      "_model_module": "@jupyter-widgets/controls",
      "_model_module_version": "1.5.0",
      "_model_name": "IntProgressModel",
      "_view_count": null,
      "_view_module": "@jupyter-widgets/controls",
      "_view_module_version": "1.5.0",
      "_view_name": "ProgressView",
      "bar_style": "",
      "description": "Processing: ",
      "description_tooltip": null,
      "layout": "IPY_MODEL_19e7295cee05401e94148bc99acf4e8d",
      "max": 6,
      "min": 0,
      "orientation": "horizontal",
      "style": "IPY_MODEL_7acd167981ce4db98093d64306f34005",
      "value": 6
     }
    },
    "da6d7f98b6e0476d9ad11756a76ddbb3": {
     "model_module": "@jupyter-widgets/controls",
     "model_name": "IntProgressModel",
     "state": {
      "_dom_classes": [],
      "_model_module": "@jupyter-widgets/controls",
      "_model_module_version": "1.5.0",
      "_model_name": "IntProgressModel",
      "_view_count": null,
      "_view_module": "@jupyter-widgets/controls",
      "_view_module_version": "1.5.0",
      "_view_name": "ProgressView",
      "bar_style": "",
      "description": "Processing: ",
      "description_tooltip": null,
      "layout": "IPY_MODEL_a7f119ae33f24d4bae95a8eedb414d6f",
      "max": 5,
      "min": 0,
      "orientation": "horizontal",
      "style": "IPY_MODEL_08ffe4b1f477403e9165022d9c8dc78c",
      "value": 5
     }
    },
    "dc21aa4a58cd4d4ca47c18a220063c2e": {
     "model_module": "@jupyter-widgets/base",
     "model_name": "LayoutModel",
     "state": {
      "_model_module": "@jupyter-widgets/base",
      "_model_module_version": "1.2.0",
      "_model_name": "LayoutModel",
      "_view_count": null,
      "_view_module": "@jupyter-widgets/base",
      "_view_module_version": "1.2.0",
      "_view_name": "LayoutView",
      "align_content": null,
      "align_items": null,
      "align_self": null,
      "border": null,
      "bottom": null,
      "display": null,
      "flex": null,
      "flex_flow": null,
      "grid_area": null,
      "grid_auto_columns": null,
      "grid_auto_flow": null,
      "grid_auto_rows": null,
      "grid_column": null,
      "grid_gap": null,
      "grid_row": null,
      "grid_template_areas": null,
      "grid_template_columns": null,
      "grid_template_rows": null,
      "height": null,
      "justify_content": null,
      "justify_items": null,
      "left": null,
      "margin": null,
      "max_height": null,
      "max_width": null,
      "min_height": null,
      "min_width": null,
      "object_fit": null,
      "object_position": null,
      "order": null,
      "overflow": null,
      "overflow_x": null,
      "overflow_y": null,
      "padding": null,
      "right": null,
      "top": null,
      "visibility": null,
      "width": null
     }
    },
    "dee83030743e43f7a8b09779b8a12bc4": {
     "model_module": "@jupyter-widgets/controls",
     "model_name": "ToggleButtonsStyleModel",
     "state": {
      "_model_module": "@jupyter-widgets/controls",
      "_model_module_version": "1.5.0",
      "_model_name": "ToggleButtonsStyleModel",
      "_view_count": null,
      "_view_module": "@jupyter-widgets/base",
      "_view_module_version": "1.2.0",
      "_view_name": "StyleView",
      "button_width": "",
      "description_width": "",
      "font_weight": ""
     }
    },
    "eb14e0b9e3364195bea8c75759d1faa8": {
     "model_module": "@jupyter-widgets/controls",
     "model_name": "ProgressStyleModel",
     "state": {
      "_model_module": "@jupyter-widgets/controls",
      "_model_module_version": "1.5.0",
      "_model_name": "ProgressStyleModel",
      "_view_count": null,
      "_view_module": "@jupyter-widgets/base",
      "_view_module_version": "1.2.0",
      "_view_name": "StyleView",
      "bar_color": null,
      "description_width": ""
     }
    },
    "f12678d3148f4b679397c85c38eb8ebb": {
     "model_module": "@jupyter-widgets/base",
     "model_name": "LayoutModel",
     "state": {
      "_model_module": "@jupyter-widgets/base",
      "_model_module_version": "1.2.0",
      "_model_name": "LayoutModel",
      "_view_count": null,
      "_view_module": "@jupyter-widgets/base",
      "_view_module_version": "1.2.0",
      "_view_name": "LayoutView",
      "align_content": null,
      "align_items": null,
      "align_self": null,
      "border": null,
      "bottom": null,
      "display": null,
      "flex": null,
      "flex_flow": null,
      "grid_area": null,
      "grid_auto_columns": null,
      "grid_auto_flow": null,
      "grid_auto_rows": null,
      "grid_column": null,
      "grid_gap": null,
      "grid_row": null,
      "grid_template_areas": null,
      "grid_template_columns": null,
      "grid_template_rows": null,
      "height": null,
      "justify_content": null,
      "justify_items": null,
      "left": null,
      "margin": null,
      "max_height": null,
      "max_width": null,
      "min_height": null,
      "min_width": null,
      "object_fit": null,
      "object_position": null,
      "order": null,
      "overflow": null,
      "overflow_x": null,
      "overflow_y": null,
      "padding": null,
      "right": null,
      "top": null,
      "visibility": null,
      "width": null
     }
    },
    "f5f1e13761a94a5d9904aa308d5c5611": {
     "model_module": "@jupyter-widgets/base",
     "model_name": "LayoutModel",
     "state": {
      "_model_module": "@jupyter-widgets/base",
      "_model_module_version": "1.2.0",
      "_model_name": "LayoutModel",
      "_view_count": null,
      "_view_module": "@jupyter-widgets/base",
      "_view_module_version": "1.2.0",
      "_view_name": "LayoutView",
      "align_content": null,
      "align_items": null,
      "align_self": null,
      "border": null,
      "bottom": null,
      "display": null,
      "flex": null,
      "flex_flow": null,
      "grid_area": null,
      "grid_auto_columns": null,
      "grid_auto_flow": null,
      "grid_auto_rows": null,
      "grid_column": null,
      "grid_gap": null,
      "grid_row": null,
      "grid_template_areas": null,
      "grid_template_columns": null,
      "grid_template_rows": null,
      "height": null,
      "justify_content": null,
      "justify_items": null,
      "left": null,
      "margin": null,
      "max_height": null,
      "max_width": null,
      "min_height": null,
      "min_width": null,
      "object_fit": null,
      "object_position": null,
      "order": null,
      "overflow": null,
      "overflow_x": null,
      "overflow_y": null,
      "padding": null,
      "right": null,
      "top": null,
      "visibility": null,
      "width": null
     }
    },
    "f6fe16b889434f6fbaf6c25f1a382fa8": {
     "model_module": "@jupyter-widgets/controls",
     "model_name": "IntProgressModel",
     "state": {
      "_dom_classes": [],
      "_model_module": "@jupyter-widgets/controls",
      "_model_module_version": "1.5.0",
      "_model_name": "IntProgressModel",
      "_view_count": null,
      "_view_module": "@jupyter-widgets/controls",
      "_view_module_version": "1.5.0",
      "_view_name": "ProgressView",
      "bar_style": "",
      "description": "Processing: ",
      "description_tooltip": null,
      "layout": "IPY_MODEL_810a1bbaf4b7472bad587eb48d326e9d",
      "max": 6,
      "min": 0,
      "orientation": "horizontal",
      "style": "IPY_MODEL_16602f1db065474b923b2b145e6177e3",
      "value": 6
     }
    },
    "f7143bdc115945029c8b50de5518d270": {
     "model_module": "@jupyter-widgets/controls",
     "model_name": "ProgressStyleModel",
     "state": {
      "_model_module": "@jupyter-widgets/controls",
      "_model_module_version": "1.5.0",
      "_model_name": "ProgressStyleModel",
      "_view_count": null,
      "_view_module": "@jupyter-widgets/base",
      "_view_module_version": "1.2.0",
      "_view_name": "StyleView",
      "bar_color": null,
      "description_width": ""
     }
    },
    "fe66f8744dcb49c4a7e253fe35a4efdb": {
     "model_module": "@jupyter-widgets/base",
     "model_name": "LayoutModel",
     "state": {
      "_model_module": "@jupyter-widgets/base",
      "_model_module_version": "1.2.0",
      "_model_name": "LayoutModel",
      "_view_count": null,
      "_view_module": "@jupyter-widgets/base",
      "_view_module_version": "1.2.0",
      "_view_name": "LayoutView",
      "align_content": null,
      "align_items": null,
      "align_self": null,
      "border": null,
      "bottom": null,
      "display": null,
      "flex": null,
      "flex_flow": null,
      "grid_area": null,
      "grid_auto_columns": null,
      "grid_auto_flow": null,
      "grid_auto_rows": null,
      "grid_column": null,
      "grid_gap": null,
      "grid_row": null,
      "grid_template_areas": null,
      "grid_template_columns": null,
      "grid_template_rows": null,
      "height": null,
      "justify_content": null,
      "justify_items": null,
      "left": null,
      "margin": null,
      "max_height": null,
      "max_width": null,
      "min_height": null,
      "min_width": null,
      "object_fit": null,
      "object_position": null,
      "order": null,
      "overflow": null,
      "overflow_x": null,
      "overflow_y": null,
      "padding": null,
      "right": null,
      "top": null,
      "visibility": null,
      "width": null
     }
    },
    "fe6a0e267d684d1387283300ec847b93": {
     "model_module": "@jupyter-widgets/controls",
     "model_name": "IntProgressModel",
     "state": {
      "_dom_classes": [],
      "_model_module": "@jupyter-widgets/controls",
      "_model_module_version": "1.5.0",
      "_model_name": "IntProgressModel",
      "_view_count": null,
      "_view_module": "@jupyter-widgets/controls",
      "_view_module_version": "1.5.0",
      "_view_name": "ProgressView",
      "bar_style": "",
      "description": "Processing: ",
      "description_tooltip": null,
      "layout": "IPY_MODEL_291b6766938042c6b1c2fac27992bf19",
      "max": 3,
      "min": 0,
      "orientation": "horizontal",
      "style": "IPY_MODEL_449244cee6d9477b90d2d844c7f2c266",
      "value": 3
     }
    }
   }
  }
 },
 "nbformat": 4,
 "nbformat_minor": 1
}
