{
 "cells": [
  {
   "cell_type": "markdown",
   "id": "accessible-photography",
   "metadata": {},
   "source": [
    "# Hyperparameter Optimization Notebook\n",
    "* we will use Scikit-Optimize, refere docs [here](https://scikit-optimize.github.io/stable/)"
   ]
  },
  {
   "cell_type": "markdown",
   "id": "above-adams",
   "metadata": {},
   "source": [
    "### Steps for Hyperparameter Optimization\n",
    "1. Load pycaret's top 3 model saved in modelling notebook\n",
    "2. Define Hyperparameter Space\n",
    "3. Choose performance metrics to mimimize/maximize\n",
    "4. Choose Cross Validation Technique:\n",
    "    1. K-Fold Cross Validation\n",
    "    2. Leave one out\n",
    "    3. Leave p-out\n",
    "    4. Repeated K-Fold Cross Validation\n",
    "    5. Stratified K-Fold Cross Validation\n",
    "    6. Group Cross Validation\n",
    "    7. Nested Cross Validation\n",
    "5. Choose hyperparameter search process:\n",
    "    1. Manual approach\n",
    "    2. Automated approach\n",
    "       * Parallel \n",
    "        1. Grid Search \n",
    "        2. Random Search\n",
    "       * Sequential\n",
    "        1. Bayesin Search"
   ]
  },
  {
   "cell_type": "markdown",
   "id": "attended-junior",
   "metadata": {},
   "source": [
    "### INSTALL REQUIRED DEPENDENCIES"
   ]
  },
  {
   "cell_type": "code",
   "execution_count": 1,
   "id": "angry-scanner",
   "metadata": {},
   "outputs": [],
   "source": [
    "# !pip install hyperopt==0.2.5\n",
    "# !pip install scikit-optimize==0.8.1"
   ]
  },
  {
   "cell_type": "markdown",
   "id": "hidden-promise",
   "metadata": {},
   "source": [
    "### IMPORTING LIBRARIES"
   ]
  },
  {
   "cell_type": "code",
   "execution_count": 2,
   "id": "cathedral-chick",
   "metadata": {},
   "outputs": [],
   "source": [
    "import pandas as pd\n",
    "from pycaret.classification import *\n",
    "\n",
    "import numpy as np\n",
    "import pandas as pd\n",
    "import matplotlib.pyplot as plt\n",
    "from sklearn.model_selection import (\n",
    "    KFold,\n",
    "    RepeatedKFold,\n",
    "    LeaveOneOut,\n",
    "    LeavePOut,\n",
    "    StratifiedKFold,\n",
    "    GroupKFold,\n",
    "    LeaveOneGroupOut,\n",
    "    TimeSeriesSplit,\n",
    "    cross_validate,\n",
    "    cross_val_score,\n",
    "    train_test_split,\n",
    "    GridSearchCV\n",
    ")\n",
    "\n",
    "# skopt search function\n",
    "from skopt import (\n",
    "    dummy_minimize, # for the randomized search\n",
    "    gp_minimize,\n",
    "    forest_minimize,\n",
    "    gbrt_minimize\n",
    ")\n",
    "\n",
    "# for the analysis\n",
    "from skopt.plots import (\n",
    "    plot_convergence,\n",
    "    plot_evaluations,\n",
    ")\n",
    "\n",
    "from skopt.space import Real, Integer, Categorical\n",
    "from skopt.utils import use_named_args"
   ]
  },
  {
   "cell_type": "markdown",
   "id": "charitable-pearl",
   "metadata": {},
   "source": [
    "### Step 1: LOAD MODELS & DATASET"
   ]
  },
  {
   "cell_type": "code",
   "execution_count": 3,
   "id": "innocent-index",
   "metadata": {},
   "outputs": [
    {
     "name": "stdout",
     "output_type": "stream",
     "text": [
      "Transformation Pipeline and Model Successfully Loaded\n"
     ]
    }
   ],
   "source": [
    "saved_models_path = './saved_models/{0}'\n",
    "pipeline_and_model = load_model(saved_models_path.format('XGBClassifier'))"
   ]
  },
  {
   "cell_type": "code",
   "execution_count": 4,
   "id": "smoking-direction",
   "metadata": {},
   "outputs": [
    {
     "data": {
      "text/html": [
       "<div>\n",
       "<style scoped>\n",
       "    .dataframe tbody tr th:only-of-type {\n",
       "        vertical-align: middle;\n",
       "    }\n",
       "\n",
       "    .dataframe tbody tr th {\n",
       "        vertical-align: top;\n",
       "    }\n",
       "\n",
       "    .dataframe thead th {\n",
       "        text-align: right;\n",
       "    }\n",
       "</style>\n",
       "<table border=\"1\" class=\"dataframe\">\n",
       "  <thead>\n",
       "    <tr style=\"text-align: right;\">\n",
       "      <th></th>\n",
       "      <th>Age</th>\n",
       "      <th>Experience</th>\n",
       "      <th>Income</th>\n",
       "      <th>ZIP Code</th>\n",
       "      <th>CCAvg</th>\n",
       "      <th>Mortgage</th>\n",
       "      <th>Family_-0.5</th>\n",
       "      <th>Family_0.0</th>\n",
       "      <th>Family_0.5</th>\n",
       "      <th>Family_1.0</th>\n",
       "      <th>Education_-0.5</th>\n",
       "      <th>Education_0.0</th>\n",
       "      <th>Education_0.5</th>\n",
       "      <th>Securities Account_0</th>\n",
       "      <th>CD Account_1</th>\n",
       "      <th>Online_0</th>\n",
       "      <th>CreditCard_1</th>\n",
       "      <th>Personal Loan</th>\n",
       "    </tr>\n",
       "    <tr>\n",
       "      <th>ID</th>\n",
       "      <th></th>\n",
       "      <th></th>\n",
       "      <th></th>\n",
       "      <th></th>\n",
       "      <th></th>\n",
       "      <th></th>\n",
       "      <th></th>\n",
       "      <th></th>\n",
       "      <th></th>\n",
       "      <th></th>\n",
       "      <th></th>\n",
       "      <th></th>\n",
       "      <th></th>\n",
       "      <th></th>\n",
       "      <th></th>\n",
       "      <th></th>\n",
       "      <th></th>\n",
       "      <th></th>\n",
       "    </tr>\n",
       "  </thead>\n",
       "  <tbody>\n",
       "    <tr>\n",
       "      <th>3750</th>\n",
       "      <td>-0.10</td>\n",
       "      <td>-0.05</td>\n",
       "      <td>0.101695</td>\n",
       "      <td>-1.239155</td>\n",
       "      <td>0.462963</td>\n",
       "      <td>0.000000</td>\n",
       "      <td>0</td>\n",
       "      <td>0</td>\n",
       "      <td>1</td>\n",
       "      <td>0</td>\n",
       "      <td>1</td>\n",
       "      <td>0</td>\n",
       "      <td>0</td>\n",
       "      <td>1</td>\n",
       "      <td>0</td>\n",
       "      <td>1</td>\n",
       "      <td>0</td>\n",
       "      <td>0</td>\n",
       "    </tr>\n",
       "    <tr>\n",
       "      <th>4698</th>\n",
       "      <td>0.20</td>\n",
       "      <td>0.10</td>\n",
       "      <td>0.661017</td>\n",
       "      <td>-0.781238</td>\n",
       "      <td>0.277778</td>\n",
       "      <td>1.653465</td>\n",
       "      <td>0</td>\n",
       "      <td>0</td>\n",
       "      <td>1</td>\n",
       "      <td>0</td>\n",
       "      <td>0</td>\n",
       "      <td>1</td>\n",
       "      <td>0</td>\n",
       "      <td>1</td>\n",
       "      <td>0</td>\n",
       "      <td>0</td>\n",
       "      <td>0</td>\n",
       "      <td>0</td>\n",
       "    </tr>\n",
       "    <tr>\n",
       "      <th>1738</th>\n",
       "      <td>-0.05</td>\n",
       "      <td>-0.05</td>\n",
       "      <td>0.101695</td>\n",
       "      <td>-0.384872</td>\n",
       "      <td>-0.722222</td>\n",
       "      <td>2.277228</td>\n",
       "      <td>1</td>\n",
       "      <td>0</td>\n",
       "      <td>0</td>\n",
       "      <td>0</td>\n",
       "      <td>0</td>\n",
       "      <td>1</td>\n",
       "      <td>0</td>\n",
       "      <td>0</td>\n",
       "      <td>0</td>\n",
       "      <td>0</td>\n",
       "      <td>0</td>\n",
       "      <td>0</td>\n",
       "    </tr>\n",
       "    <tr>\n",
       "      <th>319</th>\n",
       "      <td>-0.90</td>\n",
       "      <td>-0.90</td>\n",
       "      <td>0.779661</td>\n",
       "      <td>0.827957</td>\n",
       "      <td>0.166667</td>\n",
       "      <td>1.881188</td>\n",
       "      <td>0</td>\n",
       "      <td>0</td>\n",
       "      <td>0</td>\n",
       "      <td>1</td>\n",
       "      <td>0</td>\n",
       "      <td>0</td>\n",
       "      <td>1</td>\n",
       "      <td>1</td>\n",
       "      <td>0</td>\n",
       "      <td>1</td>\n",
       "      <td>0</td>\n",
       "      <td>0</td>\n",
       "    </tr>\n",
       "    <tr>\n",
       "      <th>1309</th>\n",
       "      <td>0.45</td>\n",
       "      <td>0.20</td>\n",
       "      <td>-0.237288</td>\n",
       "      <td>-0.519095</td>\n",
       "      <td>0.277778</td>\n",
       "      <td>0.000000</td>\n",
       "      <td>0</td>\n",
       "      <td>0</td>\n",
       "      <td>1</td>\n",
       "      <td>0</td>\n",
       "      <td>0</td>\n",
       "      <td>0</td>\n",
       "      <td>1</td>\n",
       "      <td>1</td>\n",
       "      <td>0</td>\n",
       "      <td>1</td>\n",
       "      <td>1</td>\n",
       "      <td>0</td>\n",
       "    </tr>\n",
       "  </tbody>\n",
       "</table>\n",
       "</div>"
      ],
      "text/plain": [
       "       Age  Experience    Income  ZIP Code     CCAvg  Mortgage  Family_-0.5  \\\n",
       "ID                                                                            \n",
       "3750 -0.10       -0.05  0.101695 -1.239155  0.462963  0.000000            0   \n",
       "4698  0.20        0.10  0.661017 -0.781238  0.277778  1.653465            0   \n",
       "1738 -0.05       -0.05  0.101695 -0.384872 -0.722222  2.277228            1   \n",
       "319  -0.90       -0.90  0.779661  0.827957  0.166667  1.881188            0   \n",
       "1309  0.45        0.20 -0.237288 -0.519095  0.277778  0.000000            0   \n",
       "\n",
       "      Family_0.0  Family_0.5  Family_1.0  Education_-0.5  Education_0.0  \\\n",
       "ID                                                                        \n",
       "3750           0           1           0               1              0   \n",
       "4698           0           1           0               0              1   \n",
       "1738           0           0           0               0              1   \n",
       "319            0           0           1               0              0   \n",
       "1309           0           1           0               0              0   \n",
       "\n",
       "      Education_0.5  Securities Account_0  CD Account_1  Online_0  \\\n",
       "ID                                                                  \n",
       "3750              0                     1             0         1   \n",
       "4698              0                     1             0         0   \n",
       "1738              0                     0             0         0   \n",
       "319               1                     1             0         1   \n",
       "1309              1                     1             0         1   \n",
       "\n",
       "      CreditCard_1  Personal Loan  \n",
       "ID                                 \n",
       "3750             0              0  \n",
       "4698             0              0  \n",
       "1738             0              0  \n",
       "319              0              0  \n",
       "1309             1              0  "
      ]
     },
     "execution_count": 4,
     "metadata": {},
     "output_type": "execute_result"
    }
   ],
   "source": [
    "# loading dataset\n",
    "transformed_df = pd.read_excel('../Bank_Personal_Loan_Modelling_transformed.xlsx', index_col=0)\n",
    "transformed_df.head()"
   ]
  },
  {
   "cell_type": "code",
   "execution_count": 5,
   "id": "brown-houston",
   "metadata": {},
   "outputs": [],
   "source": [
    "target = 'Personal Loan'"
   ]
  },
  {
   "cell_type": "code",
   "execution_count": 6,
   "id": "destroyed-blond",
   "metadata": {},
   "outputs": [],
   "source": [
    "df_x = transformed_df.drop(columns=[target])\n",
    "df_y = transformed_df[target]\n",
    "\n",
    "x_train, x_test, y_train, y_test = train_test_split(df_x, df_y, test_size=0.2, random_state=0)"
   ]
  },
  {
   "cell_type": "markdown",
   "id": "verified-croatia",
   "metadata": {},
   "source": [
    "### STEP 2: DEFINE HYPERPARAMETER SPACE"
   ]
  },
  {
   "cell_type": "code",
   "execution_count": 7,
   "id": "maritime-linux",
   "metadata": {},
   "outputs": [
    {
     "data": {
      "text/plain": [
       "XGBClassifier(base_score=0.5, booster='gbtree', colsample_bylevel=1,\n",
       "              colsample_bynode=1, colsample_bytree=1, gamma=0, gpu_id=-1,\n",
       "              importance_type='gain', interaction_constraints='',\n",
       "              learning_rate=0.300000012, max_delta_step=0, max_depth=6,\n",
       "              min_child_weight=1, missing=nan, monotone_constraints='()',\n",
       "              n_estimators=100, n_jobs=-1, num_parallel_tree=1,\n",
       "              random_state=272, reg_alpha=0, reg_lambda=1, scale_pos_weight=1,\n",
       "              subsample=1, tree_method='auto', validate_parameters=1,\n",
       "              verbosity=0)"
      ]
     },
     "execution_count": 7,
     "metadata": {},
     "output_type": "execute_result"
    }
   ],
   "source": [
    "# model seems to be at the last index of pipeline class, this might change in future.\n",
    "model = pipeline_and_model[len(pipeline_and_model)-1]\n",
    "model"
   ]
  },
  {
   "cell_type": "code",
   "execution_count": 8,
   "id": "quick-electronics",
   "metadata": {},
   "outputs": [],
   "source": [
    "param_grid = [\n",
    "    Integer(100, 400, name='n_estimators'),\n",
    "    Integer(1, 5, name='max_depth'),\n",
    "#     Integer(1, 4, name='min_child_weight'),\n",
    "#     Real(0.5, 0.9, name='colsample_bytree'),\n",
    "#     Real(0.5, 1, name='subsample'),\n",
    "#     Real(0.01, 0.6, prior='log-uniform', name='learning_rate')\n",
    "]"
   ]
  },
  {
   "cell_type": "markdown",
   "id": "genetic-kidney",
   "metadata": {},
   "source": [
    "### STEP 4: CHOOSE CROSS VALIDATION TECHNIQUE"
   ]
  },
  {
   "cell_type": "code",
   "execution_count": 9,
   "id": "bacterial-parent",
   "metadata": {},
   "outputs": [],
   "source": [
    "def perform_kfold_cv(model, x_train, y_train, n_splits = 5, metric = 'accuracy'):\n",
    "    # K-Fold Cross-Validation\n",
    "    kf = KFold(n_splits=n_splits, shuffle=True, random_state=4)\n",
    "\n",
    "    # estimate generalization error\n",
    "    return  cross_validate(\n",
    "        model,\n",
    "        x_train, \n",
    "        y_train,\n",
    "        scoring=metric,\n",
    "        return_train_score=True,\n",
    "        cv=kf\n",
    "    )"
   ]
  },
  {
   "cell_type": "code",
   "execution_count": 10,
   "id": "alone-prison",
   "metadata": {},
   "outputs": [],
   "source": [
    "def perform_repeatedkfold_cv(model, x_train, y_train, n_splits = 5, n_repeats=10,  metric = 'accuracy'):\n",
    "    # Repeated K-Fold Cross-Validation\n",
    "    rkf = RepeatedKFold(\n",
    "        n_splits=n_splits,\n",
    "        n_repeats=n_repeats,\n",
    "        random_state=4,\n",
    "    )\n",
    "\n",
    "    # estimate generalization error\n",
    "    return  cross_validate(\n",
    "        model,\n",
    "        x_train, \n",
    "        y_train,\n",
    "        scoring=metric,\n",
    "        return_train_score=True,\n",
    "        cv=rkf\n",
    "    )"
   ]
  },
  {
   "cell_type": "code",
   "execution_count": 11,
   "id": "hollow-proposition",
   "metadata": {},
   "outputs": [],
   "source": [
    "def perform_leaveoneout_cv(model, x_train, y_train, metric = 'accuracy'):\n",
    "    # Leave One Out Cross-Validation\n",
    "    loo = LeaveOneOut()\n",
    "\n",
    "    # estimate generalization error\n",
    "    return  cross_validate(\n",
    "        model,\n",
    "        x_train, \n",
    "        y_train,\n",
    "        scoring=metric,\n",
    "        return_train_score=True,\n",
    "        cv=loo\n",
    "    )"
   ]
  },
  {
   "cell_type": "code",
   "execution_count": 12,
   "id": "useful-underground",
   "metadata": {},
   "outputs": [],
   "source": [
    "def perform_leavepout_cv(model, x_train, y_train, p=2,  metric = 'accuracy'):\n",
    "    # Leave P Out Cross-Validation\n",
    "    lpo = LeavePOut(p=p)\n",
    "\n",
    "    # estimate generalization error\n",
    "    return  cross_validate(\n",
    "        model,\n",
    "        x_train, \n",
    "        y_train,\n",
    "        scoring=metric,\n",
    "        return_train_score=True,\n",
    "        cv=lpo\n",
    "    )"
   ]
  },
  {
   "cell_type": "code",
   "execution_count": 13,
   "id": "tested-tumor",
   "metadata": {},
   "outputs": [],
   "source": [
    "def perform_stratifiedkfold_cv(model, x_train, y_train, n_splits = 5, n_repeats=10,  metric = 'accuracy'):\n",
    "    # stratified kfold Cross-Validation\n",
    "    skf = StratifiedKFold(n_splits=n_splits, shuffle=True, random_state=4)\n",
    "\n",
    "    # estimate generalization error\n",
    "    return  cross_validate(\n",
    "        model,\n",
    "        x_train, \n",
    "        y_train,\n",
    "        scoring=metric,\n",
    "        return_train_score=True,\n",
    "        cv=skf \n",
    "    )"
   ]
  },
  {
   "cell_type": "code",
   "execution_count": 14,
   "id": "brilliant-lemon",
   "metadata": {},
   "outputs": [],
   "source": [
    "def print_cvscore(score):\n",
    "    print('mean train set accuracy: ', np.mean(score['train_score']), ' +- ', np.std(score['train_score']))\n",
    "    print('mean test set accuracy: ', np.mean(score['test_score']), ' +- ', np.std(score['test_score']))"
   ]
  },
  {
   "cell_type": "markdown",
   "id": "mental-private",
   "metadata": {},
   "source": [
    "#### Group cross validation technique"
   ]
  },
  {
   "cell_type": "code",
   "execution_count": 15,
   "id": "civic-limit",
   "metadata": {},
   "outputs": [],
   "source": [
    "def perform_group_kfold_cv(model, x_train, y_train, group_col, n_splits = 5, metric = 'accuracy'):\n",
    "    # Group K-Fold Cross-Validation\n",
    "    gkf = GroupKFold(n_splits=5)\n",
    "\n",
    "    # estimate generalization error\n",
    "    return  cross_validate(\n",
    "        model,\n",
    "        x_train, \n",
    "        y_train,\n",
    "        scoring=metric,\n",
    "        return_train_score=True,\n",
    "        cv=gkf.split(x_train.drop(group_col, axis=1), y_train, groups=x_train[group_col]) \n",
    "    )"
   ]
  },
  {
   "cell_type": "code",
   "execution_count": 16,
   "id": "determined-brick",
   "metadata": {},
   "outputs": [],
   "source": [
    "def perform_group_logo_cv(model, x_train, y_train, group_col, metric = 'accuracy'):\n",
    "    # Cross-Validation\n",
    "    logo = LeaveOneGroupOut()\n",
    "\n",
    "    # estimate generalization error\n",
    "    return  cross_validate(\n",
    "        model,\n",
    "        x_train, \n",
    "        y_train,\n",
    "        scoring=metric,\n",
    "        return_train_score=True,\n",
    "        cv=logo.split(x_train.drop(group_col, axis=1), y_train, groups=x_train[group_col]) \n",
    "    )"
   ]
  },
  {
   "cell_type": "markdown",
   "id": "completed-respect",
   "metadata": {},
   "source": [
    "#### Time Series shuffle split"
   ]
  },
  {
   "cell_type": "code",
   "execution_count": 17,
   "id": "distributed-sharp",
   "metadata": {},
   "outputs": [],
   "source": [
    "def perform_timeseries_kfold_cv(model, x_train, y_train, n_splits=5, gap=0, metric = 'accuracy'):\n",
    "    # Cross-Validation\n",
    "    ts = TimeSeriesSplit(gap=gap, n_splits=n_splits)\n",
    "\n",
    "    # estimate generalization error\n",
    "    return  cross_validate(\n",
    "        model,\n",
    "        x_train, \n",
    "        y_train,\n",
    "        scoring=metric,\n",
    "        return_train_score=True,\n",
    "        cv=ts\n",
    "    )"
   ]
  },
  {
   "cell_type": "markdown",
   "id": "recovered-local",
   "metadata": {},
   "source": [
    "#### Create a dispatcher for cross validation methods"
   ]
  },
  {
   "cell_type": "code",
   "execution_count": 18,
   "id": "illegal-material",
   "metadata": {},
   "outputs": [],
   "source": [
    "cv_dispatcher = {\n",
    "    'kfold': perform_kfold_cv,\n",
    "    'repeatedkfold' : perform_repeatedkfold_cv,\n",
    "    'leaveoneout': perform_leaveoneout_cv,\n",
    "    'leavepout': perform_leavepout_cv,\n",
    "    'stratifiedkfold': perform_stratifiedkfold_cv,\n",
    "    'groupkfold': perform_group_kfold_cv,\n",
    "    'grouplogo': perform_group_logo_cv,\n",
    "    'timeserieskfold': perform_timeseries_kfold_cv\n",
    "}"
   ]
  },
  {
   "cell_type": "markdown",
   "id": "running-gnome",
   "metadata": {},
   "source": [
    "#### Decide CV technique suitable to the dataset and the situation"
   ]
  },
  {
   "cell_type": "code",
   "execution_count": 19,
   "id": "chinese-wrapping",
   "metadata": {},
   "outputs": [],
   "source": [
    "## uncomment below code to see the list of supported metrics in sklearn\n",
    "# import sklearn\n",
    "# sorted(sklearn.metrics.SCORERS.keys())"
   ]
  },
  {
   "cell_type": "code",
   "execution_count": 20,
   "id": "modular-surrey",
   "metadata": {},
   "outputs": [],
   "source": [
    "cv_technique = 'kfold'\n",
    "metric = 'f1'\n",
    "maximize_metric = True"
   ]
  },
  {
   "cell_type": "code",
   "execution_count": 21,
   "id": "marine-xerox",
   "metadata": {},
   "outputs": [],
   "source": [
    "## to-do: note that the perform cv method should take variable number of args, try using **kwargs\n",
    "res = cv_dispatcher[cv_technique](model, x_train, y_train, metric=metric)"
   ]
  },
  {
   "cell_type": "code",
   "execution_count": 22,
   "id": "smoking-player",
   "metadata": {},
   "outputs": [
    {
     "data": {
      "text/plain": [
       "{'fit_time': array([0.18182945, 0.17050815, 0.16852045, 0.17255092, 0.17049623]),\n",
       " 'score_time': array([0.00200868, 0.01003242, 0.00201321, 0.01002288, 0.01004124]),\n",
       " 'test_score': array([0.96428571, 0.90666667, 0.93055556, 0.95081967, 0.944     ]),\n",
       " 'train_score': array([1., 1., 1., 1., 1.])}"
      ]
     },
     "execution_count": 22,
     "metadata": {},
     "output_type": "execute_result"
    }
   ],
   "source": [
    "res"
   ]
  },
  {
   "cell_type": "code",
   "execution_count": 23,
   "id": "identified-spirituality",
   "metadata": {},
   "outputs": [
    {
     "name": "stdout",
     "output_type": "stream",
     "text": [
      "mean train set accuracy:  1.0  +-  0.0\n",
      "mean test set accuracy:  0.9392655217278169  +-  0.01959832938648923\n"
     ]
    }
   ],
   "source": [
    "print_cvscore(res)"
   ]
  },
  {
   "cell_type": "markdown",
   "id": "square-cattle",
   "metadata": {},
   "source": [
    "### STEP 5: CHOOSE SEARCH TECHNIQUE"
   ]
  },
  {
   "cell_type": "markdown",
   "id": "virtual-throat",
   "metadata": {},
   "source": [
    "#### Manual Search\n",
    "* A good strategy is to start with the manual search\n",
    "* it will give us an idea about the low_effective_dimensions of the hyperparameters\n",
    "* so pick different values of hyperparameter and decide a meaningful range"
   ]
  },
  {
   "cell_type": "markdown",
   "id": "empty-calcium",
   "metadata": {},
   "source": [
    "#### Grid Search\n",
    "* Grid Search is not a part of scikit optimize, hence we will use it from scikit\n",
    "* note that GridSeach way of taking param_grid is different from scikit-optimize"
   ]
  },
  {
   "cell_type": "code",
   "execution_count": 25,
   "id": "rural-academy",
   "metadata": {},
   "outputs": [],
   "source": [
    "## uncomment other parameters before actual run\n",
    "param_grid_search = {\n",
    "    'n_estimators': range(100, 400, 40),\n",
    "    'max_depth': range (1, 5, 1),\n",
    "#     'min_child_weight': range(1, 4, 1),\n",
    "#     'colsample_bytree': [0.5, 0.6, 0.7, 0.8, 0.9],\n",
    "#     'subsample': [0.5, 0.6, 0.7, 0.8, 0.9,1],\n",
    "#     'learning_rate': [0.01, 0.03, 0.05, 0.07, 0.1, 0.3, 0.5]  \n",
    "}"
   ]
  },
  {
   "cell_type": "markdown",
   "id": "dying-scout",
   "metadata": {},
   "source": [
    "#### Define a objective function first, mandatory for scikit-optimize to work"
   ]
  },
  {
   "cell_type": "code",
   "execution_count": 24,
   "id": "aggregate-hungarian",
   "metadata": {},
   "outputs": [],
   "source": [
    "@use_named_args(param_grid)\n",
    "def objective(**params):\n",
    "    # model with new parameters\n",
    "    model.set_params(**params)\n",
    "    # tech debt\n",
    "    score = cv_dispatcher[cv_technique](model, x_train, y_train, metric=metric)\n",
    "    value = np.mean(score['test_score'])\n",
    "    \n",
    "    if (maximize_metric):\n",
    "        # negate because we need to maximize and scikit-optimize by default minimize\n",
    "        return -value\n",
    "    else:\n",
    "        return value"
   ]
  },
  {
   "cell_type": "code",
   "execution_count": 26,
   "id": "macro-dakota",
   "metadata": {},
   "outputs": [],
   "source": [
    "def perform_gridsearch(model,x_train, y_train, \n",
    "                          param_grid = param_grid_search, metric=metric, cv_technique = 'kfold'):\n",
    "    # to-do: add capability to take all cv techniques\n",
    "    # as of now gridsearch will support only kfold\n",
    "    kf = KFold(n_splits=5, shuffle=True, random_state=4)\n",
    "    \n",
    "    # grid search, i.e search all combinations\n",
    "    clf =  GridSearchCV(\n",
    "        model,\n",
    "        param_grid,\n",
    "        scoring=metric,\n",
    "        cv=kf, # k-fold\n",
    "        refit=True, # refits best model to entire dataset\n",
    "    )\n",
    "\n",
    "    search = clf.fit(x_train, y_train)\n",
    "    results = pd.DataFrame(search.cv_results_)[['params', 'mean_test_score', 'std_test_score']]\n",
    "    best_params = search.best_params_\n",
    "    print(best_params)\n",
    "    return (search, best_params, results)"
   ]
  },
  {
   "cell_type": "code",
   "execution_count": 27,
   "id": "sophisticated-cinema",
   "metadata": {},
   "outputs": [
    {
     "name": "stdout",
     "output_type": "stream",
     "text": [
      "{'max_depth': 3, 'n_estimators': 340}\n"
     ]
    }
   ],
   "source": [
    "grd_srch_res = perform_gridsearch(model, x_train, y_train, param_grid_search, metric)"
   ]
  },
  {
   "cell_type": "code",
   "execution_count": 28,
   "id": "guilty-preservation",
   "metadata": {},
   "outputs": [],
   "source": [
    "def perform_randomsearch(objective=objective, param_grid=param_grid, n_calls=50):\n",
    "    # dummy_minimize performs the randomized search\n",
    "    search = dummy_minimize(\n",
    "        objective,  # the objective function to minimize\n",
    "        param_grid,  # the hyperparameter space\n",
    "        n_calls=n_calls,  # the number of evaluations of the objective function\n",
    "        random_state=0,\n",
    "    )\n",
    "    \n",
    "    res = {}\n",
    "    res['best_score'] = search.fun\n",
    "    best_params = {}\n",
    "    for idx, hyper_param in enumerate(param_grid):\n",
    "        best_params[hyper_param.name] = search.x[idx]\n",
    "    res['best_params'] = best_params\n",
    "    return res"
   ]
  },
  {
   "cell_type": "code",
   "execution_count": 29,
   "id": "structured-vessel",
   "metadata": {},
   "outputs": [
    {
     "data": {
      "text/plain": [
       "{'best_score': -0.9440164598221061,\n",
       " 'best_params': {'n_estimators': 377, 'max_depth': 3}}"
      ]
     },
     "execution_count": 29,
     "metadata": {},
     "output_type": "execute_result"
    }
   ],
   "source": [
    "perform_randomsearch()"
   ]
  },
  {
   "cell_type": "code",
   "execution_count": 31,
   "id": "vanilla-cancer",
   "metadata": {},
   "outputs": [],
   "source": [
    "def perform_bayesian_gp(objective=objective, param_grid=param_grid, n_calls=30):\n",
    "    # dummy_minimize performs the randomized search\n",
    "    search = gp_minimize(\n",
    "        objective,  # the objective function to minimize\n",
    "        param_grid,  # the hyperparameter space\n",
    "        n_initial_points=10, # the number of points to evaluate f(x) to start of\n",
    "        acq_func='EI', # the acquisition function\n",
    "        n_calls=n_calls,  # the number of evaluations of the objective function\n",
    "        random_state=0,\n",
    "    )\n",
    "    \n",
    "    res = {}\n",
    "    res['best_score'] = search.fun\n",
    "    best_params = {}\n",
    "    for idx, hyper_param in enumerate(param_grid):\n",
    "        best_params[hyper_param.name] = search.x[idx]\n",
    "    res['best_params'] = best_params\n",
    "    return res"
   ]
  },
  {
   "cell_type": "code",
   "execution_count": 32,
   "id": "humanitarian-escape",
   "metadata": {},
   "outputs": [
    {
     "data": {
      "text/plain": [
       "{'best_score': -0.9427149835206297,\n",
       " 'best_params': {'n_estimators': 400, 'max_depth': 3}}"
      ]
     },
     "execution_count": 32,
     "metadata": {},
     "output_type": "execute_result"
    }
   ],
   "source": [
    "perform_bayesian_gp()"
   ]
  },
  {
   "cell_type": "code",
   "execution_count": 33,
   "id": "color-istanbul",
   "metadata": {},
   "outputs": [],
   "source": [
    "def perform_bayesian_forestgp(objective=objective, param_grid=param_grid, n_calls=50):\n",
    "    # dummy_minimize performs the randomized search\n",
    "    search = forest_minimize(\n",
    "        objective,  # the objective function to minimize\n",
    "        param_grid,  # the hyperparameter space\n",
    "        base_estimator = 'RF', # the surrogate\n",
    "        n_initial_points=10, # the number of points to evaluate f(x) to start of\n",
    "        acq_func='EI', # the acquisition function\n",
    "        n_calls=n_calls,  # the number of evaluations of the objective function\n",
    "        random_state=0,\n",
    "        n_jobs=4 # should be equal to number of cores for parallelization\n",
    "    )\n",
    "    \n",
    "    res = {}\n",
    "    res['best_score'] = search.fun\n",
    "    best_params = {}\n",
    "    for idx, hyper_param in enumerate(param_grid):\n",
    "        best_params[hyper_param.name] = search.x[idx]\n",
    "    res['best_params'] = best_params\n",
    "    return res"
   ]
  },
  {
   "cell_type": "code",
   "execution_count": 34,
   "id": "likely-tradition",
   "metadata": {},
   "outputs": [
    {
     "data": {
      "text/plain": [
       "{'best_score': -0.9440164598221061,\n",
       " 'best_params': {'n_estimators': 377, 'max_depth': 3}}"
      ]
     },
     "execution_count": 34,
     "metadata": {},
     "output_type": "execute_result"
    }
   ],
   "source": [
    "perform_bayesian_forestgp()"
   ]
  },
  {
   "cell_type": "code",
   "execution_count": 35,
   "id": "editorial-expression",
   "metadata": {},
   "outputs": [],
   "source": [
    "def perform_bayesian_gbrtgp(objective=objective, param_grid=param_grid, n_calls=50):\n",
    "    # dummy_minimize performs the randomized search\n",
    "    search = gbrt_minimize(\n",
    "        objective,  # the objective function to minimize\n",
    "        param_grid,  # the hyperparameter space\n",
    "        n_initial_points=10, # the number of points to evaluate f(x) to start of\n",
    "        acq_func='EI', # the acquisition function\n",
    "        n_calls=n_calls,  # the number of evaluations of the objective function\n",
    "        random_state=0,\n",
    "        n_jobs=4 # should be equal to number of cores for parallelization\n",
    "    )\n",
    "    \n",
    "    res = {}\n",
    "    res['best_score'] = search.fun\n",
    "    best_params = {}\n",
    "    for idx, hyper_param in enumerate(param_grid):\n",
    "        best_params[hyper_param.name] = search.x[idx]\n",
    "    res['best_params'] = best_params\n",
    "    return res"
   ]
  },
  {
   "cell_type": "code",
   "execution_count": 36,
   "id": "fuzzy-medication",
   "metadata": {},
   "outputs": [
    {
     "data": {
      "text/plain": [
       "{'best_score': -0.9440164598221061,\n",
       " 'best_params': {'n_estimators': 377, 'max_depth': 3}}"
      ]
     },
     "execution_count": 36,
     "metadata": {},
     "output_type": "execute_result"
    }
   ],
   "source": [
    "perform_bayesian_gbrtgp()"
   ]
  }
 ],
 "metadata": {
  "kernelspec": {
   "display_name": "Python 3",
   "language": "python",
   "name": "python3"
  },
  "language_info": {
   "codemirror_mode": {
    "name": "ipython",
    "version": 3
   },
   "file_extension": ".py",
   "mimetype": "text/x-python",
   "name": "python",
   "nbconvert_exporter": "python",
   "pygments_lexer": "ipython3",
   "version": "3.7.6"
  }
 },
 "nbformat": 4,
 "nbformat_minor": 5
}
